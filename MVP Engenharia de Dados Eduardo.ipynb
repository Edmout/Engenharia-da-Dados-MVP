{
 "cells": [
  {
   "cell_type": "markdown",
   "metadata": {
    "application/vnd.databricks.v1+cell": {
     "cellMetadata": {
      "byteLimit": 2048000,
      "rowLimit": 10000
     },
     "inputWidgets": {},
     "nuid": "96816ed7-b08a-4ca3-abb9-f99880c3535d",
     "showTitle": true,
     "title": ""
    },
    "jupyter": {
     "outputs_hidden": true
    }
   },
   "source": [
    "\n",
    "## Notebook\n",
    "\n",
    "Este notebook realiza a carga, transformaçao e consulta de dados provenientes de um dataset de desempenho de alunos em testes utilizando python e SQL."
   ]
  },
  {
   "cell_type": "code",
   "execution_count": 0,
   "metadata": {
    "application/vnd.databricks.v1+cell": {
     "cellMetadata": {
      "byteLimit": 2048000,
      "rowLimit": 10000
     },
     "inputWidgets": {},
     "nuid": "6482be4c-f067-47c9-b0ac-35c938b94601",
     "showTitle": true,
     "title": ""
    },
    "jupyter": {
     "outputs_hidden": true
    }
   },
   "outputs": [
    {
     "output_type": "display_data",
     "data": {
      "text/html": [
       "<style scoped>\n",
       "  .table-result-container {\n",
       "    max-height: 300px;\n",
       "    overflow: auto;\n",
       "  }\n",
       "  table, th, td {\n",
       "    border: 1px solid black;\n",
       "    border-collapse: collapse;\n",
       "  }\n",
       "  th, td {\n",
       "    padding: 5px;\n",
       "  }\n",
       "  th {\n",
       "    text-align: left;\n",
       "  }\n",
       "</style><div class='table-result-container'><table class='table-result'><thead style='background-color: white'><tr><th>gender</th><th>race_ethnicity</th><th>parental_level_of_education</th><th>lunch</th><th>test_preparation_course</th><th>math_score</th><th>reading_score</th><th>writing_score</th></tr></thead><tbody><tr><td>female</td><td>group B</td><td>bachelor's degree</td><td>standard</td><td>none</td><td>72</td><td>72</td><td>74</td></tr><tr><td>female</td><td>group C</td><td>some college</td><td>standard</td><td>completed</td><td>69</td><td>90</td><td>88</td></tr><tr><td>female</td><td>group B</td><td>master's degree</td><td>standard</td><td>none</td><td>90</td><td>95</td><td>93</td></tr><tr><td>male</td><td>group A</td><td>associate's degree</td><td>free/reduced</td><td>none</td><td>47</td><td>57</td><td>44</td></tr><tr><td>male</td><td>group C</td><td>some college</td><td>standard</td><td>none</td><td>76</td><td>78</td><td>75</td></tr><tr><td>female</td><td>group B</td><td>associate's degree</td><td>standard</td><td>none</td><td>71</td><td>83</td><td>78</td></tr><tr><td>female</td><td>group B</td><td>some college</td><td>standard</td><td>completed</td><td>88</td><td>95</td><td>92</td></tr><tr><td>male</td><td>group B</td><td>some college</td><td>free/reduced</td><td>none</td><td>40</td><td>43</td><td>39</td></tr><tr><td>male</td><td>group D</td><td>high school</td><td>free/reduced</td><td>completed</td><td>64</td><td>64</td><td>67</td></tr><tr><td>female</td><td>group B</td><td>high school</td><td>free/reduced</td><td>none</td><td>38</td><td>60</td><td>50</td></tr><tr><td>male</td><td>group C</td><td>associate's degree</td><td>standard</td><td>none</td><td>58</td><td>54</td><td>52</td></tr><tr><td>male</td><td>group D</td><td>associate's degree</td><td>standard</td><td>none</td><td>40</td><td>52</td><td>43</td></tr><tr><td>female</td><td>group B</td><td>high school</td><td>standard</td><td>none</td><td>65</td><td>81</td><td>73</td></tr><tr><td>male</td><td>group A</td><td>some college</td><td>standard</td><td>completed</td><td>78</td><td>72</td><td>70</td></tr><tr><td>female</td><td>group A</td><td>master's degree</td><td>standard</td><td>none</td><td>50</td><td>53</td><td>58</td></tr><tr><td>female</td><td>group C</td><td>some high school</td><td>standard</td><td>none</td><td>69</td><td>75</td><td>78</td></tr><tr><td>male</td><td>group C</td><td>high school</td><td>standard</td><td>none</td><td>88</td><td>89</td><td>86</td></tr><tr><td>female</td><td>group B</td><td>some high school</td><td>free/reduced</td><td>none</td><td>18</td><td>32</td><td>28</td></tr><tr><td>male</td><td>group C</td><td>master's degree</td><td>free/reduced</td><td>completed</td><td>46</td><td>42</td><td>46</td></tr><tr><td>female</td><td>group C</td><td>associate's degree</td><td>free/reduced</td><td>none</td><td>54</td><td>58</td><td>61</td></tr><tr><td>male</td><td>group D</td><td>high school</td><td>standard</td><td>none</td><td>66</td><td>69</td><td>63</td></tr><tr><td>female</td><td>group B</td><td>some college</td><td>free/reduced</td><td>completed</td><td>65</td><td>75</td><td>70</td></tr><tr><td>male</td><td>group D</td><td>some college</td><td>standard</td><td>none</td><td>44</td><td>54</td><td>53</td></tr><tr><td>female</td><td>group C</td><td>some high school</td><td>standard</td><td>none</td><td>69</td><td>73</td><td>73</td></tr><tr><td>male</td><td>group D</td><td>bachelor's degree</td><td>free/reduced</td><td>completed</td><td>74</td><td>71</td><td>80</td></tr><tr><td>male</td><td>group A</td><td>master's degree</td><td>free/reduced</td><td>none</td><td>73</td><td>74</td><td>72</td></tr><tr><td>male</td><td>group B</td><td>some college</td><td>standard</td><td>none</td><td>69</td><td>54</td><td>55</td></tr><tr><td>female</td><td>group C</td><td>bachelor's degree</td><td>standard</td><td>none</td><td>67</td><td>69</td><td>75</td></tr><tr><td>male</td><td>group C</td><td>high school</td><td>standard</td><td>none</td><td>70</td><td>70</td><td>65</td></tr><tr><td>female</td><td>group D</td><td>master's degree</td><td>standard</td><td>none</td><td>62</td><td>70</td><td>75</td></tr><tr><td>female</td><td>group D</td><td>some college</td><td>standard</td><td>none</td><td>69</td><td>74</td><td>74</td></tr><tr><td>female</td><td>group B</td><td>some college</td><td>standard</td><td>none</td><td>63</td><td>65</td><td>61</td></tr><tr><td>female</td><td>group E</td><td>master's degree</td><td>free/reduced</td><td>none</td><td>56</td><td>72</td><td>65</td></tr><tr><td>male</td><td>group D</td><td>some college</td><td>standard</td><td>none</td><td>40</td><td>42</td><td>38</td></tr><tr><td>male</td><td>group E</td><td>some college</td><td>standard</td><td>none</td><td>97</td><td>87</td><td>82</td></tr><tr><td>male</td><td>group E</td><td>associate's degree</td><td>standard</td><td>completed</td><td>81</td><td>81</td><td>79</td></tr><tr><td>female</td><td>group D</td><td>associate's degree</td><td>standard</td><td>none</td><td>74</td><td>81</td><td>83</td></tr><tr><td>female</td><td>group D</td><td>some high school</td><td>free/reduced</td><td>none</td><td>50</td><td>64</td><td>59</td></tr><tr><td>female</td><td>group D</td><td>associate's degree</td><td>free/reduced</td><td>completed</td><td>75</td><td>90</td><td>88</td></tr><tr><td>male</td><td>group B</td><td>associate's degree</td><td>free/reduced</td><td>none</td><td>57</td><td>56</td><td>57</td></tr><tr><td>male</td><td>group C</td><td>associate's degree</td><td>free/reduced</td><td>none</td><td>55</td><td>61</td><td>54</td></tr><tr><td>female</td><td>group C</td><td>associate's degree</td><td>standard</td><td>none</td><td>58</td><td>73</td><td>68</td></tr><tr><td>female</td><td>group B</td><td>associate's degree</td><td>standard</td><td>none</td><td>53</td><td>58</td><td>65</td></tr><tr><td>male</td><td>group B</td><td>some college</td><td>free/reduced</td><td>completed</td><td>59</td><td>65</td><td>66</td></tr><tr><td>female</td><td>group E</td><td>associate's degree</td><td>free/reduced</td><td>none</td><td>50</td><td>56</td><td>54</td></tr><tr><td>male</td><td>group B</td><td>associate's degree</td><td>standard</td><td>none</td><td>65</td><td>54</td><td>57</td></tr><tr><td>female</td><td>group A</td><td>associate's degree</td><td>standard</td><td>completed</td><td>55</td><td>65</td><td>62</td></tr><tr><td>female</td><td>group C</td><td>high school</td><td>standard</td><td>none</td><td>66</td><td>71</td><td>76</td></tr><tr><td>female</td><td>group D</td><td>associate's degree</td><td>free/reduced</td><td>completed</td><td>57</td><td>74</td><td>76</td></tr><tr><td>male</td><td>group C</td><td>high school</td><td>standard</td><td>completed</td><td>82</td><td>84</td><td>82</td></tr><tr><td>male</td><td>group E</td><td>some college</td><td>standard</td><td>none</td><td>53</td><td>55</td><td>48</td></tr><tr><td>male</td><td>group E</td><td>associate's degree</td><td>free/reduced</td><td>completed</td><td>77</td><td>69</td><td>68</td></tr><tr><td>male</td><td>group C</td><td>some college</td><td>standard</td><td>none</td><td>53</td><td>44</td><td>42</td></tr><tr><td>male</td><td>group D</td><td>high school</td><td>standard</td><td>none</td><td>88</td><td>78</td><td>75</td></tr><tr><td>female</td><td>group C</td><td>some high school</td><td>free/reduced</td><td>completed</td><td>71</td><td>84</td><td>87</td></tr><tr><td>female</td><td>group C</td><td>high school</td><td>free/reduced</td><td>none</td><td>33</td><td>41</td><td>43</td></tr><tr><td>female</td><td>group E</td><td>associate's degree</td><td>standard</td><td>completed</td><td>82</td><td>85</td><td>86</td></tr><tr><td>male</td><td>group D</td><td>associate's degree</td><td>standard</td><td>none</td><td>52</td><td>55</td><td>49</td></tr><tr><td>male</td><td>group D</td><td>some college</td><td>standard</td><td>completed</td><td>58</td><td>59</td><td>58</td></tr><tr><td>female</td><td>group C</td><td>some high school</td><td>free/reduced</td><td>none</td><td>0</td><td>17</td><td>10</td></tr><tr><td>male</td><td>group E</td><td>bachelor's degree</td><td>free/reduced</td><td>completed</td><td>79</td><td>74</td><td>72</td></tr><tr><td>male</td><td>group A</td><td>some high school</td><td>free/reduced</td><td>none</td><td>39</td><td>39</td><td>34</td></tr><tr><td>male</td><td>group A</td><td>associate's degree</td><td>free/reduced</td><td>none</td><td>62</td><td>61</td><td>55</td></tr><tr><td>female</td><td>group C</td><td>associate's degree</td><td>standard</td><td>none</td><td>69</td><td>80</td><td>71</td></tr><tr><td>female</td><td>group D</td><td>some high school</td><td>standard</td><td>none</td><td>59</td><td>58</td><td>59</td></tr><tr><td>male</td><td>group B</td><td>some high school</td><td>standard</td><td>none</td><td>67</td><td>64</td><td>61</td></tr><tr><td>male</td><td>group D</td><td>some high school</td><td>free/reduced</td><td>none</td><td>45</td><td>37</td><td>37</td></tr><tr><td>female</td><td>group C</td><td>some college</td><td>standard</td><td>none</td><td>60</td><td>72</td><td>74</td></tr><tr><td>male</td><td>group B</td><td>associate's degree</td><td>free/reduced</td><td>none</td><td>61</td><td>58</td><td>56</td></tr><tr><td>female</td><td>group C</td><td>associate's degree</td><td>standard</td><td>none</td><td>39</td><td>64</td><td>57</td></tr><tr><td>female</td><td>group D</td><td>some college</td><td>free/reduced</td><td>completed</td><td>58</td><td>63</td><td>73</td></tr><tr><td>male</td><td>group D</td><td>some college</td><td>standard</td><td>completed</td><td>63</td><td>55</td><td>63</td></tr><tr><td>female</td><td>group A</td><td>associate's degree</td><td>free/reduced</td><td>none</td><td>41</td><td>51</td><td>48</td></tr><tr><td>male</td><td>group C</td><td>some high school</td><td>free/reduced</td><td>none</td><td>61</td><td>57</td><td>56</td></tr><tr><td>male</td><td>group C</td><td>some high school</td><td>standard</td><td>none</td><td>49</td><td>49</td><td>41</td></tr><tr><td>male</td><td>group B</td><td>associate's degree</td><td>free/reduced</td><td>none</td><td>44</td><td>41</td><td>38</td></tr><tr><td>male</td><td>group E</td><td>some high school</td><td>standard</td><td>none</td><td>30</td><td>26</td><td>22</td></tr><tr><td>male</td><td>group A</td><td>bachelor's degree</td><td>standard</td><td>completed</td><td>80</td><td>78</td><td>81</td></tr><tr><td>female</td><td>group D</td><td>some high school</td><td>standard</td><td>completed</td><td>61</td><td>74</td><td>72</td></tr><tr><td>female</td><td>group E</td><td>master's degree</td><td>standard</td><td>none</td><td>62</td><td>68</td><td>68</td></tr><tr><td>female</td><td>group B</td><td>associate's degree</td><td>standard</td><td>none</td><td>47</td><td>49</td><td>50</td></tr><tr><td>male</td><td>group B</td><td>high school</td><td>free/reduced</td><td>none</td><td>49</td><td>45</td><td>45</td></tr><tr><td>male</td><td>group A</td><td>some college</td><td>free/reduced</td><td>completed</td><td>50</td><td>47</td><td>54</td></tr><tr><td>male</td><td>group E</td><td>associate's degree</td><td>standard</td><td>none</td><td>72</td><td>64</td><td>63</td></tr><tr><td>male</td><td>group D</td><td>high school</td><td>free/reduced</td><td>none</td><td>42</td><td>39</td><td>34</td></tr><tr><td>female</td><td>group C</td><td>some college</td><td>standard</td><td>none</td><td>73</td><td>80</td><td>82</td></tr><tr><td>female</td><td>group C</td><td>some college</td><td>free/reduced</td><td>none</td><td>76</td><td>83</td><td>88</td></tr><tr><td>female</td><td>group D</td><td>associate's degree</td><td>standard</td><td>none</td><td>71</td><td>71</td><td>74</td></tr><tr><td>female</td><td>group A</td><td>some college</td><td>standard</td><td>none</td><td>58</td><td>70</td><td>67</td></tr><tr><td>female</td><td>group D</td><td>some high school</td><td>standard</td><td>none</td><td>73</td><td>86</td><td>82</td></tr><tr><td>female</td><td>group C</td><td>bachelor's degree</td><td>standard</td><td>none</td><td>65</td><td>72</td><td>74</td></tr><tr><td>male</td><td>group C</td><td>high school</td><td>free/reduced</td><td>none</td><td>27</td><td>34</td><td>36</td></tr><tr><td>male</td><td>group C</td><td>high school</td><td>standard</td><td>none</td><td>71</td><td>79</td><td>71</td></tr><tr><td>male</td><td>group C</td><td>associate's degree</td><td>free/reduced</td><td>completed</td><td>43</td><td>45</td><td>50</td></tr><tr><td>female</td><td>group B</td><td>some college</td><td>standard</td><td>none</td><td>79</td><td>86</td><td>92</td></tr><tr><td>male</td><td>group C</td><td>associate's degree</td><td>free/reduced</td><td>completed</td><td>78</td><td>81</td><td>82</td></tr><tr><td>male</td><td>group B</td><td>some high school</td><td>standard</td><td>completed</td><td>65</td><td>66</td><td>62</td></tr><tr><td>female</td><td>group E</td><td>some college</td><td>standard</td><td>completed</td><td>63</td><td>72</td><td>70</td></tr><tr><td>female</td><td>group D</td><td>some college</td><td>free/reduced</td><td>none</td><td>58</td><td>67</td><td>62</td></tr><tr><td>female</td><td>group D</td><td>bachelor's degree</td><td>standard</td><td>none</td><td>65</td><td>67</td><td>62</td></tr><tr><td>male</td><td>group B</td><td>some college</td><td>standard</td><td>none</td><td>79</td><td>67</td><td>67</td></tr><tr><td>male</td><td>group D</td><td>bachelor's degree</td><td>standard</td><td>completed</td><td>68</td><td>74</td><td>74</td></tr><tr><td>female</td><td>group D</td><td>associate's degree</td><td>standard</td><td>none</td><td>85</td><td>91</td><td>89</td></tr><tr><td>male</td><td>group B</td><td>high school</td><td>standard</td><td>completed</td><td>60</td><td>44</td><td>47</td></tr><tr><td>male</td><td>group C</td><td>some college</td><td>standard</td><td>completed</td><td>98</td><td>86</td><td>90</td></tr><tr><td>female</td><td>group C</td><td>some college</td><td>standard</td><td>none</td><td>58</td><td>67</td><td>72</td></tr><tr><td>female</td><td>group D</td><td>master's degree</td><td>standard</td><td>none</td><td>87</td><td>100</td><td>100</td></tr><tr><td>male</td><td>group E</td><td>associate's degree</td><td>standard</td><td>completed</td><td>66</td><td>63</td><td>64</td></tr><tr><td>female</td><td>group B</td><td>associate's degree</td><td>free/reduced</td><td>none</td><td>52</td><td>76</td><td>70</td></tr><tr><td>female</td><td>group B</td><td>some high school</td><td>standard</td><td>none</td><td>70</td><td>64</td><td>72</td></tr><tr><td>female</td><td>group D</td><td>associate's degree</td><td>free/reduced</td><td>completed</td><td>77</td><td>89</td><td>98</td></tr><tr><td>male</td><td>group C</td><td>high school</td><td>standard</td><td>none</td><td>62</td><td>55</td><td>49</td></tr><tr><td>male</td><td>group A</td><td>associate's degree</td><td>standard</td><td>none</td><td>54</td><td>53</td><td>47</td></tr><tr><td>female</td><td>group D</td><td>some college</td><td>standard</td><td>none</td><td>51</td><td>58</td><td>54</td></tr><tr><td>female</td><td>group E</td><td>bachelor's degree</td><td>standard</td><td>completed</td><td>99</td><td>100</td><td>100</td></tr><tr><td>male</td><td>group C</td><td>high school</td><td>standard</td><td>none</td><td>84</td><td>77</td><td>74</td></tr><tr><td>female</td><td>group B</td><td>bachelor's degree</td><td>free/reduced</td><td>none</td><td>75</td><td>85</td><td>82</td></tr><tr><td>female</td><td>group D</td><td>bachelor's degree</td><td>standard</td><td>none</td><td>78</td><td>82</td><td>79</td></tr><tr><td>female</td><td>group D</td><td>some high school</td><td>standard</td><td>none</td><td>51</td><td>63</td><td>61</td></tr><tr><td>female</td><td>group C</td><td>some college</td><td>standard</td><td>none</td><td>55</td><td>69</td><td>65</td></tr><tr><td>female</td><td>group C</td><td>bachelor's degree</td><td>standard</td><td>completed</td><td>79</td><td>92</td><td>89</td></tr><tr><td>male</td><td>group B</td><td>associate's degree</td><td>standard</td><td>completed</td><td>91</td><td>89</td><td>92</td></tr><tr><td>female</td><td>group C</td><td>some college</td><td>standard</td><td>completed</td><td>88</td><td>93</td><td>93</td></tr><tr><td>male</td><td>group D</td><td>high school</td><td>free/reduced</td><td>none</td><td>63</td><td>57</td><td>56</td></tr><tr><td>male</td><td>group E</td><td>some college</td><td>standard</td><td>none</td><td>83</td><td>80</td><td>73</td></tr><tr><td>female</td><td>group B</td><td>high school</td><td>standard</td><td>none</td><td>87</td><td>95</td><td>86</td></tr><tr><td>male</td><td>group B</td><td>some high school</td><td>standard</td><td>none</td><td>72</td><td>68</td><td>67</td></tr><tr><td>male</td><td>group D</td><td>some college</td><td>standard</td><td>completed</td><td>65</td><td>77</td><td>74</td></tr><tr><td>male</td><td>group D</td><td>master's degree</td><td>standard</td><td>none</td><td>82</td><td>82</td><td>74</td></tr><tr><td>female</td><td>group A</td><td>bachelor's degree</td><td>standard</td><td>none</td><td>51</td><td>49</td><td>51</td></tr><tr><td>male</td><td>group D</td><td>master's degree</td><td>standard</td><td>none</td><td>89</td><td>84</td><td>82</td></tr><tr><td>male</td><td>group C</td><td>some high school</td><td>free/reduced</td><td>completed</td><td>53</td><td>37</td><td>40</td></tr><tr><td>male</td><td>group E</td><td>some college</td><td>free/reduced</td><td>completed</td><td>87</td><td>74</td><td>70</td></tr><tr><td>female</td><td>group C</td><td>some college</td><td>standard</td><td>completed</td><td>75</td><td>81</td><td>84</td></tr><tr><td>male</td><td>group D</td><td>bachelor's degree</td><td>free/reduced</td><td>completed</td><td>74</td><td>79</td><td>75</td></tr><tr><td>male</td><td>group C</td><td>bachelor's degree</td><td>standard</td><td>none</td><td>58</td><td>55</td><td>48</td></tr><tr><td>male</td><td>group B</td><td>some high school</td><td>standard</td><td>completed</td><td>51</td><td>54</td><td>41</td></tr><tr><td>male</td><td>group E</td><td>high school</td><td>standard</td><td>none</td><td>70</td><td>55</td><td>56</td></tr><tr><td>female</td><td>group C</td><td>associate's degree</td><td>standard</td><td>none</td><td>59</td><td>66</td><td>67</td></tr><tr><td>male</td><td>group D</td><td>some college</td><td>standard</td><td>completed</td><td>71</td><td>61</td><td>69</td></tr><tr><td>female</td><td>group D</td><td>some high school</td><td>standard</td><td>none</td><td>76</td><td>72</td><td>71</td></tr><tr><td>female</td><td>group C</td><td>some college</td><td>free/reduced</td><td>none</td><td>59</td><td>62</td><td>64</td></tr><tr><td>female</td><td>group E</td><td>some college</td><td>free/reduced</td><td>completed</td><td>42</td><td>55</td><td>54</td></tr><tr><td>male</td><td>group A</td><td>high school</td><td>standard</td><td>none</td><td>57</td><td>43</td><td>47</td></tr><tr><td>male</td><td>group D</td><td>some college</td><td>standard</td><td>none</td><td>88</td><td>73</td><td>78</td></tr><tr><td>female</td><td>group C</td><td>some college</td><td>free/reduced</td><td>none</td><td>22</td><td>39</td><td>33</td></tr><tr><td>male</td><td>group B</td><td>some high school</td><td>standard</td><td>none</td><td>88</td><td>84</td><td>75</td></tr><tr><td>male</td><td>group C</td><td>associate's degree</td><td>free/reduced</td><td>none</td><td>73</td><td>68</td><td>66</td></tr><tr><td>female</td><td>group D</td><td>bachelor's degree</td><td>standard</td><td>completed</td><td>68</td><td>75</td><td>81</td></tr><tr><td>male</td><td>group E</td><td>associate's degree</td><td>free/reduced</td><td>completed</td><td>100</td><td>100</td><td>93</td></tr><tr><td>male</td><td>group A</td><td>some high school</td><td>standard</td><td>completed</td><td>62</td><td>67</td><td>69</td></tr><tr><td>male</td><td>group A</td><td>bachelor's degree</td><td>standard</td><td>none</td><td>77</td><td>67</td><td>68</td></tr><tr><td>female</td><td>group B</td><td>associate's degree</td><td>standard</td><td>completed</td><td>59</td><td>70</td><td>66</td></tr><tr><td>male</td><td>group D</td><td>bachelor's degree</td><td>standard</td><td>none</td><td>54</td><td>49</td><td>47</td></tr><tr><td>male</td><td>group D</td><td>some high school</td><td>standard</td><td>none</td><td>62</td><td>67</td><td>61</td></tr><tr><td>female</td><td>group C</td><td>some college</td><td>standard</td><td>completed</td><td>70</td><td>89</td><td>88</td></tr><tr><td>female</td><td>group E</td><td>high school</td><td>free/reduced</td><td>completed</td><td>66</td><td>74</td><td>78</td></tr><tr><td>male</td><td>group B</td><td>some college</td><td>free/reduced</td><td>none</td><td>60</td><td>60</td><td>60</td></tr><tr><td>female</td><td>group B</td><td>associate's degree</td><td>standard</td><td>completed</td><td>61</td><td>86</td><td>87</td></tr><tr><td>male</td><td>group D</td><td>associate's degree</td><td>free/reduced</td><td>none</td><td>66</td><td>62</td><td>64</td></tr><tr><td>male</td><td>group B</td><td>associate's degree</td><td>free/reduced</td><td>completed</td><td>82</td><td>78</td><td>74</td></tr><tr><td>female</td><td>group E</td><td>some college</td><td>free/reduced</td><td>completed</td><td>75</td><td>88</td><td>85</td></tr><tr><td>male</td><td>group B</td><td>master's degree</td><td>free/reduced</td><td>none</td><td>49</td><td>53</td><td>52</td></tr><tr><td>male</td><td>group C</td><td>high school</td><td>standard</td><td>none</td><td>52</td><td>53</td><td>49</td></tr><tr><td>female</td><td>group E</td><td>master's degree</td><td>standard</td><td>none</td><td>81</td><td>92</td><td>91</td></tr><tr><td>female</td><td>group C</td><td>bachelor's degree</td><td>standard</td><td>completed</td><td>96</td><td>100</td><td>100</td></tr><tr><td>male</td><td>group C</td><td>high school</td><td>free/reduced</td><td>completed</td><td>53</td><td>51</td><td>51</td></tr><tr><td>female</td><td>group B</td><td>master's degree</td><td>free/reduced</td><td>completed</td><td>58</td><td>76</td><td>78</td></tr><tr><td>female</td><td>group B</td><td>high school</td><td>standard</td><td>completed</td><td>68</td><td>83</td><td>78</td></tr><tr><td>female</td><td>group C</td><td>some college</td><td>free/reduced</td><td>completed</td><td>67</td><td>75</td><td>70</td></tr><tr><td>male</td><td>group A</td><td>high school</td><td>standard</td><td>completed</td><td>72</td><td>73</td><td>74</td></tr><tr><td>male</td><td>group E</td><td>some high school</td><td>standard</td><td>none</td><td>94</td><td>88</td><td>78</td></tr><tr><td>female</td><td>group D</td><td>some college</td><td>standard</td><td>none</td><td>79</td><td>86</td><td>81</td></tr><tr><td>female</td><td>group C</td><td>associate's degree</td><td>standard</td><td>none</td><td>63</td><td>67</td><td>70</td></tr><tr><td>female</td><td>group C</td><td>bachelor's degree</td><td>free/reduced</td><td>completed</td><td>43</td><td>51</td><td>54</td></tr><tr><td>female</td><td>group C</td><td>master's degree</td><td>standard</td><td>completed</td><td>81</td><td>91</td><td>87</td></tr><tr><td>female</td><td>group B</td><td>high school</td><td>free/reduced</td><td>completed</td><td>46</td><td>54</td><td>58</td></tr><tr><td>female</td><td>group C</td><td>associate's degree</td><td>standard</td><td>completed</td><td>71</td><td>77</td><td>77</td></tr><tr><td>female</td><td>group B</td><td>master's degree</td><td>free/reduced</td><td>completed</td><td>52</td><td>70</td><td>62</td></tr><tr><td>female</td><td>group D</td><td>some high school</td><td>standard</td><td>completed</td><td>97</td><td>100</td><td>100</td></tr><tr><td>male</td><td>group C</td><td>master's degree</td><td>free/reduced</td><td>completed</td><td>62</td><td>68</td><td>75</td></tr><tr><td>female</td><td>group C</td><td>some college</td><td>free/reduced</td><td>none</td><td>46</td><td>64</td><td>66</td></tr><tr><td>female</td><td>group E</td><td>high school</td><td>standard</td><td>none</td><td>50</td><td>50</td><td>47</td></tr><tr><td>female</td><td>group D</td><td>associate's degree</td><td>standard</td><td>none</td><td>65</td><td>69</td><td>70</td></tr><tr><td>male</td><td>group C</td><td>some high school</td><td>free/reduced</td><td>completed</td><td>45</td><td>52</td><td>49</td></tr><tr><td>male</td><td>group C</td><td>associate's degree</td><td>free/reduced</td><td>completed</td><td>65</td><td>67</td><td>65</td></tr><tr><td>male</td><td>group E</td><td>high school</td><td>standard</td><td>none</td><td>80</td><td>76</td><td>65</td></tr><tr><td>male</td><td>group D</td><td>some high school</td><td>standard</td><td>completed</td><td>62</td><td>66</td><td>68</td></tr><tr><td>male</td><td>group B</td><td>some high school</td><td>free/reduced</td><td>none</td><td>48</td><td>52</td><td>45</td></tr><tr><td>female</td><td>group C</td><td>bachelor's degree</td><td>standard</td><td>none</td><td>77</td><td>88</td><td>87</td></tr><tr><td>female</td><td>group E</td><td>associate's degree</td><td>standard</td><td>none</td><td>66</td><td>65</td><td>69</td></tr><tr><td>male</td><td>group D</td><td>some college</td><td>standard</td><td>completed</td><td>76</td><td>83</td><td>79</td></tr><tr><td>female</td><td>group B</td><td>some high school</td><td>standard</td><td>none</td><td>62</td><td>64</td><td>66</td></tr><tr><td>male</td><td>group D</td><td>some college</td><td>standard</td><td>completed</td><td>77</td><td>62</td><td>62</td></tr><tr><td>female</td><td>group C</td><td>master's degree</td><td>standard</td><td>completed</td><td>69</td><td>84</td><td>85</td></tr><tr><td>male</td><td>group D</td><td>associate's degree</td><td>standard</td><td>none</td><td>61</td><td>55</td><td>52</td></tr><tr><td>male</td><td>group C</td><td>some high school</td><td>free/reduced</td><td>completed</td><td>59</td><td>69</td><td>65</td></tr><tr><td>male</td><td>group E</td><td>high school</td><td>free/reduced</td><td>none</td><td>55</td><td>56</td><td>51</td></tr><tr><td>female</td><td>group B</td><td>some college</td><td>free/reduced</td><td>none</td><td>45</td><td>53</td><td>55</td></tr><tr><td>female</td><td>group B</td><td>bachelor's degree</td><td>free/reduced</td><td>none</td><td>78</td><td>79</td><td>76</td></tr><tr><td>female</td><td>group C</td><td>associate's degree</td><td>standard</td><td>completed</td><td>67</td><td>84</td><td>86</td></tr><tr><td>female</td><td>group D</td><td>some college</td><td>free/reduced</td><td>none</td><td>65</td><td>81</td><td>77</td></tr><tr><td>male</td><td>group C</td><td>associate's degree</td><td>standard</td><td>none</td><td>69</td><td>77</td><td>69</td></tr><tr><td>female</td><td>group B</td><td>associate's degree</td><td>standard</td><td>none</td><td>57</td><td>69</td><td>68</td></tr><tr><td>male</td><td>group C</td><td>some college</td><td>standard</td><td>none</td><td>59</td><td>41</td><td>42</td></tr><tr><td>male</td><td>group D</td><td>some high school</td><td>standard</td><td>completed</td><td>74</td><td>71</td><td>78</td></tr><tr><td>male</td><td>group E</td><td>bachelor's degree</td><td>standard</td><td>none</td><td>82</td><td>62</td><td>62</td></tr><tr><td>male</td><td>group E</td><td>high school</td><td>standard</td><td>completed</td><td>81</td><td>80</td><td>76</td></tr><tr><td>female</td><td>group B</td><td>some college</td><td>free/reduced</td><td>none</td><td>74</td><td>81</td><td>76</td></tr><tr><td>female</td><td>group B</td><td>some college</td><td>free/reduced</td><td>none</td><td>58</td><td>61</td><td>66</td></tr><tr><td>male</td><td>group D</td><td>some high school</td><td>free/reduced</td><td>completed</td><td>80</td><td>79</td><td>79</td></tr><tr><td>male</td><td>group C</td><td>some college</td><td>free/reduced</td><td>none</td><td>35</td><td>28</td><td>27</td></tr><tr><td>female</td><td>group C</td><td>high school</td><td>free/reduced</td><td>none</td><td>42</td><td>62</td><td>60</td></tr><tr><td>male</td><td>group C</td><td>associate's degree</td><td>free/reduced</td><td>completed</td><td>60</td><td>51</td><td>56</td></tr><tr><td>male</td><td>group E</td><td>high school</td><td>standard</td><td>completed</td><td>87</td><td>91</td><td>81</td></tr><tr><td>male</td><td>group B</td><td>some high school</td><td>standard</td><td>completed</td><td>84</td><td>83</td><td>75</td></tr><tr><td>female</td><td>group E</td><td>associate's degree</td><td>free/reduced</td><td>completed</td><td>83</td><td>86</td><td>88</td></tr><tr><td>female</td><td>group C</td><td>high school</td><td>free/reduced</td><td>none</td><td>34</td><td>42</td><td>39</td></tr><tr><td>male</td><td>group B</td><td>high school</td><td>free/reduced</td><td>none</td><td>66</td><td>77</td><td>70</td></tr><tr><td>male</td><td>group B</td><td>some high school</td><td>standard</td><td>completed</td><td>61</td><td>56</td><td>56</td></tr><tr><td>female</td><td>group D</td><td>high school</td><td>standard</td><td>completed</td><td>56</td><td>68</td><td>74</td></tr><tr><td>male</td><td>group B</td><td>associate's degree</td><td>standard</td><td>none</td><td>87</td><td>85</td><td>73</td></tr><tr><td>female</td><td>group C</td><td>some high school</td><td>free/reduced</td><td>none</td><td>55</td><td>65</td><td>62</td></tr><tr><td>male</td><td>group D</td><td>some high school</td><td>standard</td><td>none</td><td>86</td><td>80</td><td>75</td></tr><tr><td>female</td><td>group B</td><td>associate's degree</td><td>standard</td><td>completed</td><td>52</td><td>66</td><td>73</td></tr><tr><td>female</td><td>group E</td><td>master's degree</td><td>free/reduced</td><td>none</td><td>45</td><td>56</td><td>54</td></tr><tr><td>female</td><td>group C</td><td>some college</td><td>standard</td><td>none</td><td>72</td><td>72</td><td>71</td></tr><tr><td>male</td><td>group D</td><td>high school</td><td>standard</td><td>none</td><td>57</td><td>50</td><td>54</td></tr><tr><td>male</td><td>group A</td><td>some high school</td><td>free/reduced</td><td>none</td><td>68</td><td>72</td><td>64</td></tr><tr><td>female</td><td>group C</td><td>some college</td><td>standard</td><td>completed</td><td>88</td><td>95</td><td>94</td></tr><tr><td>male</td><td>group D</td><td>some college</td><td>standard</td><td>none</td><td>76</td><td>64</td><td>66</td></tr><tr><td>male</td><td>group C</td><td>associate's degree</td><td>standard</td><td>none</td><td>46</td><td>43</td><td>42</td></tr><tr><td>female</td><td>group B</td><td>bachelor's degree</td><td>standard</td><td>none</td><td>67</td><td>86</td><td>83</td></tr><tr><td>male</td><td>group E</td><td>some high school</td><td>standard</td><td>none</td><td>92</td><td>87</td><td>78</td></tr><tr><td>male</td><td>group C</td><td>bachelor's degree</td><td>standard</td><td>completed</td><td>83</td><td>82</td><td>84</td></tr><tr><td>male</td><td>group D</td><td>associate's degree</td><td>standard</td><td>none</td><td>80</td><td>75</td><td>77</td></tr><tr><td>male</td><td>group D</td><td>bachelor's degree</td><td>free/reduced</td><td>none</td><td>63</td><td>66</td><td>67</td></tr><tr><td>female</td><td>group D</td><td>some high school</td><td>standard</td><td>completed</td><td>64</td><td>60</td><td>74</td></tr><tr><td>male</td><td>group B</td><td>some college</td><td>standard</td><td>none</td><td>54</td><td>52</td><td>51</td></tr><tr><td>male</td><td>group C</td><td>associate's degree</td><td>standard</td><td>none</td><td>84</td><td>80</td><td>80</td></tr><tr><td>male</td><td>group D</td><td>high school</td><td>free/reduced</td><td>completed</td><td>73</td><td>68</td><td>66</td></tr><tr><td>female</td><td>group E</td><td>bachelor's degree</td><td>standard</td><td>none</td><td>80</td><td>83</td><td>83</td></tr><tr><td>female</td><td>group D</td><td>high school</td><td>standard</td><td>none</td><td>56</td><td>52</td><td>55</td></tr><tr><td>male</td><td>group E</td><td>some college</td><td>standard</td><td>none</td><td>59</td><td>51</td><td>43</td></tr><tr><td>male</td><td>group D</td><td>some high school</td><td>standard</td><td>none</td><td>75</td><td>74</td><td>69</td></tr><tr><td>male</td><td>group C</td><td>associate's degree</td><td>standard</td><td>none</td><td>85</td><td>76</td><td>71</td></tr><tr><td>male</td><td>group E</td><td>associate's degree</td><td>standard</td><td>none</td><td>89</td><td>76</td><td>74</td></tr><tr><td>female</td><td>group B</td><td>high school</td><td>standard</td><td>completed</td><td>58</td><td>70</td><td>68</td></tr><tr><td>female</td><td>group B</td><td>high school</td><td>standard</td><td>none</td><td>65</td><td>64</td><td>62</td></tr><tr><td>male</td><td>group C</td><td>high school</td><td>standard</td><td>none</td><td>68</td><td>60</td><td>53</td></tr><tr><td>male</td><td>group A</td><td>some high school</td><td>standard</td><td>completed</td><td>47</td><td>49</td><td>49</td></tr><tr><td>female</td><td>group D</td><td>some college</td><td>free/reduced</td><td>none</td><td>71</td><td>83</td><td>83</td></tr><tr><td>female</td><td>group B</td><td>some high school</td><td>standard</td><td>completed</td><td>60</td><td>70</td><td>70</td></tr><tr><td>male</td><td>group D</td><td>master's degree</td><td>standard</td><td>none</td><td>80</td><td>80</td><td>72</td></tr><tr><td>male</td><td>group D</td><td>high school</td><td>standard</td><td>none</td><td>54</td><td>52</td><td>52</td></tr><tr><td>female</td><td>group E</td><td>some college</td><td>standard</td><td>none</td><td>62</td><td>73</td><td>70</td></tr><tr><td>female</td><td>group C</td><td>associate's degree</td><td>free/reduced</td><td>none</td><td>64</td><td>73</td><td>68</td></tr><tr><td>male</td><td>group C</td><td>associate's degree</td><td>standard</td><td>completed</td><td>78</td><td>77</td><td>77</td></tr><tr><td>female</td><td>group B</td><td>some college</td><td>standard</td><td>none</td><td>70</td><td>75</td><td>78</td></tr><tr><td>female</td><td>group C</td><td>master's degree</td><td>free/reduced</td><td>completed</td><td>65</td><td>81</td><td>81</td></tr><tr><td>female</td><td>group C</td><td>some high school</td><td>free/reduced</td><td>completed</td><td>64</td><td>79</td><td>77</td></tr><tr><td>male</td><td>group C</td><td>some college</td><td>standard</td><td>completed</td><td>79</td><td>79</td><td>78</td></tr><tr><td>female</td><td>group C</td><td>some high school</td><td>free/reduced</td><td>none</td><td>44</td><td>50</td><td>51</td></tr><tr><td>female</td><td>group E</td><td>high school</td><td>standard</td><td>none</td><td>99</td><td>93</td><td>90</td></tr><tr><td>male</td><td>group D</td><td>high school</td><td>standard</td><td>none</td><td>76</td><td>73</td><td>68</td></tr><tr><td>male</td><td>group D</td><td>some high school</td><td>free/reduced</td><td>none</td><td>59</td><td>42</td><td>41</td></tr><tr><td>female</td><td>group C</td><td>bachelor's degree</td><td>standard</td><td>none</td><td>63</td><td>75</td><td>81</td></tr><tr><td>female</td><td>group D</td><td>high school</td><td>standard</td><td>none</td><td>69</td><td>72</td><td>77</td></tr><tr><td>female</td><td>group D</td><td>associate's degree</td><td>standard</td><td>completed</td><td>88</td><td>92</td><td>95</td></tr><tr><td>female</td><td>group E</td><td>some college</td><td>free/reduced</td><td>none</td><td>71</td><td>76</td><td>70</td></tr><tr><td>male</td><td>group C</td><td>bachelor's degree</td><td>standard</td><td>none</td><td>69</td><td>63</td><td>61</td></tr><tr><td>male</td><td>group C</td><td>some college</td><td>standard</td><td>none</td><td>58</td><td>49</td><td>42</td></tr><tr><td>female</td><td>group D</td><td>associate's degree</td><td>free/reduced</td><td>none</td><td>47</td><td>53</td><td>58</td></tr><tr><td>female</td><td>group D</td><td>some college</td><td>standard</td><td>none</td><td>65</td><td>70</td><td>71</td></tr><tr><td>male</td><td>group B</td><td>some college</td><td>standard</td><td>completed</td><td>88</td><td>85</td><td>76</td></tr><tr><td>male</td><td>group C</td><td>bachelor's degree</td><td>standard</td><td>none</td><td>83</td><td>78</td><td>73</td></tr><tr><td>female</td><td>group C</td><td>some high school</td><td>standard</td><td>completed</td><td>85</td><td>92</td><td>93</td></tr><tr><td>female</td><td>group E</td><td>high school</td><td>standard</td><td>completed</td><td>59</td><td>63</td><td>75</td></tr><tr><td>female</td><td>group C</td><td>some high school</td><td>free/reduced</td><td>none</td><td>65</td><td>86</td><td>80</td></tr><tr><td>male</td><td>group B</td><td>bachelor's degree</td><td>free/reduced</td><td>none</td><td>73</td><td>56</td><td>57</td></tr><tr><td>male</td><td>group D</td><td>high school</td><td>standard</td><td>none</td><td>53</td><td>52</td><td>42</td></tr><tr><td>male</td><td>group D</td><td>high school</td><td>standard</td><td>none</td><td>45</td><td>48</td><td>46</td></tr><tr><td>female</td><td>group D</td><td>bachelor's degree</td><td>free/reduced</td><td>none</td><td>73</td><td>79</td><td>84</td></tr><tr><td>female</td><td>group D</td><td>some college</td><td>free/reduced</td><td>completed</td><td>70</td><td>78</td><td>78</td></tr><tr><td>female</td><td>group B</td><td>some high school</td><td>standard</td><td>none</td><td>37</td><td>46</td><td>46</td></tr><tr><td>male</td><td>group B</td><td>associate's degree</td><td>standard</td><td>completed</td><td>81</td><td>82</td><td>82</td></tr><tr><td>male</td><td>group E</td><td>associate's degree</td><td>standard</td><td>completed</td><td>97</td><td>82</td><td>88</td></tr><tr><td>female</td><td>group B</td><td>some high school</td><td>standard</td><td>none</td><td>67</td><td>89</td><td>82</td></tr><tr><td>male</td><td>group B</td><td>bachelor's degree</td><td>free/reduced</td><td>none</td><td>88</td><td>75</td><td>76</td></tr><tr><td>male</td><td>group E</td><td>some high school</td><td>standard</td><td>completed</td><td>77</td><td>76</td><td>77</td></tr><tr><td>male</td><td>group C</td><td>associate's degree</td><td>standard</td><td>none</td><td>76</td><td>70</td><td>68</td></tr><tr><td>male</td><td>group D</td><td>some high school</td><td>standard</td><td>none</td><td>86</td><td>73</td><td>70</td></tr><tr><td>male</td><td>group C</td><td>some high school</td><td>standard</td><td>completed</td><td>63</td><td>60</td><td>57</td></tr><tr><td>female</td><td>group E</td><td>bachelor's degree</td><td>standard</td><td>none</td><td>65</td><td>73</td><td>75</td></tr><tr><td>male</td><td>group D</td><td>high school</td><td>free/reduced</td><td>completed</td><td>78</td><td>77</td><td>80</td></tr><tr><td>male</td><td>group B</td><td>associate's degree</td><td>free/reduced</td><td>none</td><td>67</td><td>62</td><td>60</td></tr><tr><td>male</td><td>group A</td><td>some high school</td><td>standard</td><td>completed</td><td>46</td><td>41</td><td>43</td></tr><tr><td>male</td><td>group E</td><td>associate's degree</td><td>standard</td><td>completed</td><td>71</td><td>74</td><td>68</td></tr><tr><td>male</td><td>group C</td><td>high school</td><td>free/reduced</td><td>completed</td><td>40</td><td>46</td><td>50</td></tr><tr><td>male</td><td>group D</td><td>associate's degree</td><td>free/reduced</td><td>none</td><td>90</td><td>87</td><td>75</td></tr><tr><td>male</td><td>group A</td><td>some college</td><td>free/reduced</td><td>completed</td><td>81</td><td>78</td><td>81</td></tr><tr><td>male</td><td>group D</td><td>some high school</td><td>free/reduced</td><td>none</td><td>56</td><td>54</td><td>52</td></tr><tr><td>female</td><td>group C</td><td>associate's degree</td><td>standard</td><td>completed</td><td>67</td><td>84</td><td>81</td></tr><tr><td>male</td><td>group B</td><td>associate's degree</td><td>standard</td><td>none</td><td>80</td><td>76</td><td>64</td></tr><tr><td>female</td><td>group C</td><td>associate's degree</td><td>standard</td><td>completed</td><td>74</td><td>75</td><td>83</td></tr><tr><td>male</td><td>group A</td><td>some college</td><td>standard</td><td>none</td><td>69</td><td>67</td><td>69</td></tr><tr><td>male</td><td>group E</td><td>some college</td><td>standard</td><td>completed</td><td>99</td><td>87</td><td>81</td></tr><tr><td>male</td><td>group C</td><td>some high school</td><td>standard</td><td>none</td><td>51</td><td>52</td><td>44</td></tr><tr><td>female</td><td>group B</td><td>associate's degree</td><td>free/reduced</td><td>none</td><td>53</td><td>71</td><td>67</td></tr><tr><td>female</td><td>group D</td><td>high school</td><td>free/reduced</td><td>none</td><td>49</td><td>57</td><td>52</td></tr><tr><td>female</td><td>group B</td><td>associate's degree</td><td>standard</td><td>none</td><td>73</td><td>76</td><td>80</td></tr><tr><td>male</td><td>group B</td><td>bachelor's degree</td><td>standard</td><td>none</td><td>66</td><td>60</td><td>57</td></tr><tr><td>male</td><td>group D</td><td>bachelor's degree</td><td>standard</td><td>completed</td><td>67</td><td>61</td><td>68</td></tr><tr><td>female</td><td>group C</td><td>associate's degree</td><td>free/reduced</td><td>completed</td><td>68</td><td>67</td><td>69</td></tr><tr><td>female</td><td>group C</td><td>bachelor's degree</td><td>standard</td><td>completed</td><td>59</td><td>64</td><td>75</td></tr><tr><td>male</td><td>group C</td><td>high school</td><td>standard</td><td>none</td><td>71</td><td>66</td><td>65</td></tr><tr><td>female</td><td>group D</td><td>master's degree</td><td>standard</td><td>completed</td><td>77</td><td>82</td><td>91</td></tr><tr><td>male</td><td>group C</td><td>associate's degree</td><td>standard</td><td>none</td><td>83</td><td>72</td><td>78</td></tr><tr><td>male</td><td>group B</td><td>bachelor's degree</td><td>standard</td><td>none</td><td>63</td><td>71</td><td>69</td></tr><tr><td>female</td><td>group D</td><td>associate's degree</td><td>free/reduced</td><td>none</td><td>56</td><td>65</td><td>63</td></tr><tr><td>female</td><td>group C</td><td>high school</td><td>free/reduced</td><td>completed</td><td>67</td><td>79</td><td>84</td></tr><tr><td>female</td><td>group E</td><td>high school</td><td>standard</td><td>none</td><td>75</td><td>86</td><td>79</td></tr><tr><td>female</td><td>group C</td><td>some college</td><td>standard</td><td>none</td><td>71</td><td>81</td><td>80</td></tr><tr><td>female</td><td>group C</td><td>some high school</td><td>free/reduced</td><td>none</td><td>43</td><td>53</td><td>53</td></tr><tr><td>female</td><td>group C</td><td>high school</td><td>free/reduced</td><td>none</td><td>41</td><td>46</td><td>43</td></tr><tr><td>female</td><td>group C</td><td>some college</td><td>standard</td><td>none</td><td>82</td><td>90</td><td>94</td></tr><tr><td>male</td><td>group C</td><td>some college</td><td>standard</td><td>none</td><td>61</td><td>61</td><td>62</td></tr><tr><td>male</td><td>group A</td><td>some college</td><td>free/reduced</td><td>none</td><td>28</td><td>23</td><td>19</td></tr><tr><td>male</td><td>group C</td><td>associate's degree</td><td>standard</td><td>completed</td><td>82</td><td>75</td><td>77</td></tr><tr><td>female</td><td>group B</td><td>some high school</td><td>standard</td><td>none</td><td>41</td><td>55</td><td>51</td></tr><tr><td>male</td><td>group C</td><td>high school</td><td>standard</td><td>none</td><td>71</td><td>60</td><td>61</td></tr><tr><td>male</td><td>group C</td><td>associate's degree</td><td>standard</td><td>none</td><td>47</td><td>37</td><td>35</td></tr><tr><td>male</td><td>group E</td><td>associate's degree</td><td>standard</td><td>completed</td><td>62</td><td>56</td><td>53</td></tr><tr><td>male</td><td>group B</td><td>associate's degree</td><td>standard</td><td>none</td><td>90</td><td>78</td><td>81</td></tr><tr><td>female</td><td>group C</td><td>bachelor's degree</td><td>standard</td><td>none</td><td>83</td><td>93</td><td>95</td></tr><tr><td>female</td><td>group B</td><td>some college</td><td>free/reduced</td><td>none</td><td>61</td><td>68</td><td>66</td></tr><tr><td>male</td><td>group D</td><td>some high school</td><td>standard</td><td>completed</td><td>76</td><td>70</td><td>69</td></tr><tr><td>male</td><td>group C</td><td>associate's degree</td><td>standard</td><td>none</td><td>49</td><td>51</td><td>43</td></tr><tr><td>female</td><td>group B</td><td>some high school</td><td>free/reduced</td><td>none</td><td>24</td><td>38</td><td>27</td></tr><tr><td>female</td><td>group D</td><td>some high school</td><td>free/reduced</td><td>completed</td><td>35</td><td>55</td><td>60</td></tr><tr><td>male</td><td>group C</td><td>high school</td><td>free/reduced</td><td>none</td><td>58</td><td>61</td><td>52</td></tr><tr><td>female</td><td>group C</td><td>high school</td><td>standard</td><td>none</td><td>61</td><td>73</td><td>63</td></tr><tr><td>female</td><td>group B</td><td>high school</td><td>standard</td><td>completed</td><td>69</td><td>76</td><td>74</td></tr><tr><td>male</td><td>group D</td><td>associate's degree</td><td>standard</td><td>completed</td><td>67</td><td>72</td><td>67</td></tr><tr><td>male</td><td>group D</td><td>some college</td><td>standard</td><td>none</td><td>79</td><td>73</td><td>67</td></tr><tr><td>female</td><td>group C</td><td>high school</td><td>standard</td><td>none</td><td>72</td><td>80</td><td>75</td></tr><tr><td>male</td><td>group B</td><td>some college</td><td>standard</td><td>none</td><td>62</td><td>61</td><td>57</td></tr><tr><td>female</td><td>group C</td><td>bachelor's degree</td><td>standard</td><td>completed</td><td>77</td><td>94</td><td>95</td></tr><tr><td>male</td><td>group D</td><td>high school</td><td>free/reduced</td><td>none</td><td>75</td><td>74</td><td>66</td></tr><tr><td>male</td><td>group E</td><td>associate's degree</td><td>standard</td><td>none</td><td>87</td><td>74</td><td>76</td></tr><tr><td>female</td><td>group B</td><td>bachelor's degree</td><td>standard</td><td>none</td><td>52</td><td>65</td><td>69</td></tr><tr><td>male</td><td>group E</td><td>some college</td><td>standard</td><td>none</td><td>66</td><td>57</td><td>52</td></tr><tr><td>female</td><td>group C</td><td>some college</td><td>standard</td><td>completed</td><td>63</td><td>78</td><td>80</td></tr><tr><td>female</td><td>group C</td><td>associate's degree</td><td>standard</td><td>none</td><td>46</td><td>58</td><td>57</td></tr><tr><td>female</td><td>group C</td><td>some college</td><td>standard</td><td>none</td><td>59</td><td>71</td><td>70</td></tr><tr><td>female</td><td>group B</td><td>bachelor's degree</td><td>standard</td><td>none</td><td>61</td><td>72</td><td>70</td></tr><tr><td>male</td><td>group A</td><td>associate's degree</td><td>standard</td><td>none</td><td>63</td><td>61</td><td>61</td></tr><tr><td>female</td><td>group C</td><td>some college</td><td>free/reduced</td><td>completed</td><td>42</td><td>66</td><td>69</td></tr><tr><td>male</td><td>group D</td><td>some college</td><td>free/reduced</td><td>none</td><td>59</td><td>62</td><td>61</td></tr><tr><td>female</td><td>group D</td><td>some college</td><td>standard</td><td>none</td><td>80</td><td>90</td><td>89</td></tr><tr><td>female</td><td>group B</td><td>high school</td><td>standard</td><td>none</td><td>58</td><td>62</td><td>59</td></tr><tr><td>male</td><td>group B</td><td>some high school</td><td>standard</td><td>completed</td><td>85</td><td>84</td><td>78</td></tr><tr><td>female</td><td>group C</td><td>some college</td><td>standard</td><td>none</td><td>52</td><td>58</td><td>58</td></tr><tr><td>female</td><td>group D</td><td>some high school</td><td>free/reduced</td><td>none</td><td>27</td><td>34</td><td>32</td></tr><tr><td>male</td><td>group C</td><td>some college</td><td>standard</td><td>none</td><td>59</td><td>60</td><td>58</td></tr><tr><td>male</td><td>group A</td><td>bachelor's degree</td><td>free/reduced</td><td>completed</td><td>49</td><td>58</td><td>60</td></tr><tr><td>male</td><td>group C</td><td>high school</td><td>standard</td><td>completed</td><td>69</td><td>58</td><td>53</td></tr><tr><td>male</td><td>group C</td><td>bachelor's degree</td><td>free/reduced</td><td>none</td><td>61</td><td>66</td><td>61</td></tr><tr><td>female</td><td>group A</td><td>some high school</td><td>free/reduced</td><td>none</td><td>44</td><td>64</td><td>58</td></tr><tr><td>female</td><td>group D</td><td>some high school</td><td>standard</td><td>none</td><td>73</td><td>84</td><td>85</td></tr><tr><td>male</td><td>group E</td><td>some college</td><td>standard</td><td>none</td><td>84</td><td>77</td><td>71</td></tr><tr><td>female</td><td>group C</td><td>some college</td><td>free/reduced</td><td>completed</td><td>45</td><td>73</td><td>70</td></tr><tr><td>male</td><td>group D</td><td>some high school</td><td>standard</td><td>none</td><td>74</td><td>74</td><td>72</td></tr><tr><td>female</td><td>group D</td><td>some college</td><td>standard</td><td>completed</td><td>82</td><td>97</td><td>96</td></tr><tr><td>female</td><td>group D</td><td>bachelor's degree</td><td>standard</td><td>none</td><td>59</td><td>70</td><td>73</td></tr><tr><td>male</td><td>group E</td><td>associate's degree</td><td>free/reduced</td><td>none</td><td>46</td><td>43</td><td>41</td></tr><tr><td>female</td><td>group D</td><td>some high school</td><td>standard</td><td>none</td><td>80</td><td>90</td><td>82</td></tr><tr><td>female</td><td>group D</td><td>master's degree</td><td>free/reduced</td><td>completed</td><td>85</td><td>95</td><td>100</td></tr><tr><td>female</td><td>group A</td><td>some high school</td><td>standard</td><td>none</td><td>71</td><td>83</td><td>77</td></tr><tr><td>male</td><td>group A</td><td>bachelor's degree</td><td>standard</td><td>none</td><td>66</td><td>64</td><td>62</td></tr><tr><td>female</td><td>group B</td><td>associate's degree</td><td>standard</td><td>none</td><td>80</td><td>86</td><td>83</td></tr><tr><td>male</td><td>group C</td><td>associate's degree</td><td>standard</td><td>completed</td><td>87</td><td>100</td><td>95</td></tr><tr><td>male</td><td>group C</td><td>master's degree</td><td>free/reduced</td><td>none</td><td>79</td><td>81</td><td>71</td></tr><tr><td>female</td><td>group E</td><td>some high school</td><td>free/reduced</td><td>none</td><td>38</td><td>49</td><td>45</td></tr><tr><td>female</td><td>group A</td><td>some high school</td><td>free/reduced</td><td>none</td><td>38</td><td>43</td><td>43</td></tr><tr><td>female</td><td>group E</td><td>some college</td><td>standard</td><td>none</td><td>67</td><td>76</td><td>75</td></tr><tr><td>female</td><td>group E</td><td>bachelor's degree</td><td>standard</td><td>none</td><td>64</td><td>73</td><td>70</td></tr><tr><td>female</td><td>group C</td><td>associate's degree</td><td>free/reduced</td><td>none</td><td>57</td><td>78</td><td>67</td></tr><tr><td>female</td><td>group D</td><td>high school</td><td>standard</td><td>none</td><td>62</td><td>64</td><td>64</td></tr><tr><td>male</td><td>group D</td><td>master's degree</td><td>standard</td><td>none</td><td>73</td><td>70</td><td>75</td></tr><tr><td>male</td><td>group E</td><td>some high school</td><td>free/reduced</td><td>completed</td><td>73</td><td>67</td><td>59</td></tr><tr><td>female</td><td>group D</td><td>some college</td><td>standard</td><td>none</td><td>77</td><td>68</td><td>77</td></tr><tr><td>male</td><td>group E</td><td>some college</td><td>standard</td><td>none</td><td>76</td><td>67</td><td>67</td></tr><tr><td>male</td><td>group C</td><td>associate's degree</td><td>standard</td><td>completed</td><td>57</td><td>54</td><td>56</td></tr><tr><td>female</td><td>group C</td><td>some high school</td><td>standard</td><td>completed</td><td>65</td><td>74</td><td>77</td></tr><tr><td>male</td><td>group A</td><td>high school</td><td>free/reduced</td><td>none</td><td>48</td><td>45</td><td>41</td></tr><tr><td>female</td><td>group B</td><td>high school</td><td>free/reduced</td><td>none</td><td>50</td><td>67</td><td>63</td></tr><tr><td>female</td><td>group C</td><td>associate's degree</td><td>standard</td><td>none</td><td>85</td><td>89</td><td>95</td></tr><tr><td>male</td><td>group B</td><td>some high school</td><td>standard</td><td>none</td><td>74</td><td>63</td><td>57</td></tr><tr><td>male</td><td>group D</td><td>some high school</td><td>standard</td><td>none</td><td>60</td><td>59</td><td>54</td></tr><tr><td>female</td><td>group C</td><td>some high school</td><td>standard</td><td>completed</td><td>59</td><td>54</td><td>67</td></tr><tr><td>male</td><td>group A</td><td>some college</td><td>standard</td><td>none</td><td>53</td><td>43</td><td>43</td></tr><tr><td>female</td><td>group A</td><td>some college</td><td>free/reduced</td><td>none</td><td>49</td><td>65</td><td>55</td></tr><tr><td>female</td><td>group D</td><td>high school</td><td>standard</td><td>completed</td><td>88</td><td>99</td><td>100</td></tr><tr><td>female</td><td>group C</td><td>high school</td><td>standard</td><td>none</td><td>54</td><td>59</td><td>62</td></tr><tr><td>female</td><td>group C</td><td>some high school</td><td>standard</td><td>none</td><td>63</td><td>73</td><td>68</td></tr><tr><td>male</td><td>group B</td><td>associate's degree</td><td>standard</td><td>completed</td><td>65</td><td>65</td><td>63</td></tr><tr><td>female</td><td>group B</td><td>associate's degree</td><td>standard</td><td>none</td><td>82</td><td>80</td><td>77</td></tr><tr><td>female</td><td>group D</td><td>high school</td><td>free/reduced</td><td>completed</td><td>52</td><td>57</td><td>56</td></tr><tr><td>male</td><td>group D</td><td>associate's degree</td><td>standard</td><td>completed</td><td>87</td><td>84</td><td>85</td></tr><tr><td>female</td><td>group D</td><td>master's degree</td><td>standard</td><td>completed</td><td>70</td><td>71</td><td>74</td></tr><tr><td>male</td><td>group E</td><td>some college</td><td>standard</td><td>completed</td><td>84</td><td>83</td><td>78</td></tr><tr><td>male</td><td>group D</td><td>associate's degree</td><td>standard</td><td>none</td><td>71</td><td>66</td><td>60</td></tr><tr><td>male</td><td>group B</td><td>some high school</td><td>standard</td><td>completed</td><td>63</td><td>67</td><td>67</td></tr><tr><td>female</td><td>group C</td><td>bachelor's degree</td><td>free/reduced</td><td>completed</td><td>51</td><td>72</td><td>79</td></tr><tr><td>male</td><td>group E</td><td>high school</td><td>standard</td><td>none</td><td>84</td><td>73</td><td>69</td></tr><tr><td>male</td><td>group C</td><td>bachelor's degree</td><td>standard</td><td>completed</td><td>71</td><td>74</td><td>68</td></tr><tr><td>male</td><td>group C</td><td>associate's degree</td><td>standard</td><td>none</td><td>74</td><td>73</td><td>67</td></tr><tr><td>male</td><td>group D</td><td>some college</td><td>standard</td><td>none</td><td>68</td><td>59</td><td>62</td></tr><tr><td>male</td><td>group E</td><td>high school</td><td>free/reduced</td><td>completed</td><td>57</td><td>56</td><td>54</td></tr><tr><td>female</td><td>group C</td><td>associate's degree</td><td>free/reduced</td><td>completed</td><td>82</td><td>93</td><td>93</td></tr><tr><td>female</td><td>group D</td><td>high school</td><td>standard</td><td>completed</td><td>57</td><td>58</td><td>64</td></tr><tr><td>female</td><td>group D</td><td>master's degree</td><td>free/reduced</td><td>completed</td><td>47</td><td>58</td><td>67</td></tr><tr><td>female</td><td>group A</td><td>some high school</td><td>standard</td><td>completed</td><td>59</td><td>85</td><td>80</td></tr><tr><td>male</td><td>group B</td><td>some college</td><td>free/reduced</td><td>none</td><td>41</td><td>39</td><td>34</td></tr><tr><td>female</td><td>group C</td><td>some college</td><td>free/reduced</td><td>none</td><td>62</td><td>67</td><td>62</td></tr><tr><td>male</td><td>group C</td><td>bachelor's degree</td><td>standard</td><td>none</td><td>86</td><td>83</td><td>86</td></tr><tr><td>male</td><td>group C</td><td>some high school</td><td>free/reduced</td><td>none</td><td>69</td><td>71</td><td>65</td></tr><tr><td>male</td><td>group A</td><td>some high school</td><td>free/reduced</td><td>none</td><td>65</td><td>59</td><td>53</td></tr><tr><td>male</td><td>group C</td><td>some high school</td><td>free/reduced</td><td>none</td><td>68</td><td>63</td><td>54</td></tr><tr><td>male</td><td>group C</td><td>associate's degree</td><td>free/reduced</td><td>none</td><td>64</td><td>66</td><td>59</td></tr><tr><td>female</td><td>group C</td><td>high school</td><td>standard</td><td>none</td><td>61</td><td>72</td><td>70</td></tr><tr><td>male</td><td>group C</td><td>high school</td><td>standard</td><td>none</td><td>61</td><td>56</td><td>55</td></tr><tr><td>female</td><td>group A</td><td>some high school</td><td>free/reduced</td><td>none</td><td>47</td><td>59</td><td>50</td></tr><tr><td>male</td><td>group C</td><td>some high school</td><td>standard</td><td>none</td><td>73</td><td>66</td><td>66</td></tr><tr><td>male</td><td>group C</td><td>some college</td><td>free/reduced</td><td>completed</td><td>50</td><td>48</td><td>53</td></tr><tr><td>male</td><td>group D</td><td>associate's degree</td><td>standard</td><td>none</td><td>75</td><td>68</td><td>64</td></tr><tr><td>male</td><td>group D</td><td>associate's degree</td><td>free/reduced</td><td>none</td><td>75</td><td>66</td><td>73</td></tr><tr><td>male</td><td>group C</td><td>high school</td><td>standard</td><td>none</td><td>70</td><td>56</td><td>51</td></tr><tr><td>male</td><td>group D</td><td>some high school</td><td>standard</td><td>completed</td><td>89</td><td>88</td><td>82</td></tr><tr><td>female</td><td>group C</td><td>some college</td><td>standard</td><td>completed</td><td>67</td><td>81</td><td>79</td></tr><tr><td>female</td><td>group D</td><td>high school</td><td>standard</td><td>none</td><td>78</td><td>81</td><td>80</td></tr><tr><td>female</td><td>group A</td><td>some high school</td><td>free/reduced</td><td>none</td><td>59</td><td>73</td><td>69</td></tr><tr><td>female</td><td>group B</td><td>associate's degree</td><td>standard</td><td>none</td><td>73</td><td>83</td><td>76</td></tr><tr><td>male</td><td>group A</td><td>some high school</td><td>free/reduced</td><td>none</td><td>79</td><td>82</td><td>73</td></tr><tr><td>female</td><td>group C</td><td>some high school</td><td>standard</td><td>completed</td><td>67</td><td>74</td><td>77</td></tr><tr><td>male</td><td>group D</td><td>some college</td><td>free/reduced</td><td>none</td><td>69</td><td>66</td><td>60</td></tr><tr><td>male</td><td>group C</td><td>high school</td><td>standard</td><td>completed</td><td>86</td><td>81</td><td>80</td></tr><tr><td>male</td><td>group B</td><td>high school</td><td>standard</td><td>none</td><td>47</td><td>46</td><td>42</td></tr><tr><td>male</td><td>group B</td><td>associate's degree</td><td>standard</td><td>none</td><td>81</td><td>73</td><td>72</td></tr><tr><td>female</td><td>group C</td><td>some college</td><td>free/reduced</td><td>completed</td><td>64</td><td>85</td><td>85</td></tr><tr><td>female</td><td>group E</td><td>some college</td><td>standard</td><td>none</td><td>100</td><td>92</td><td>97</td></tr><tr><td>female</td><td>group C</td><td>associate's degree</td><td>free/reduced</td><td>none</td><td>65</td><td>77</td><td>74</td></tr><tr><td>male</td><td>group C</td><td>some college</td><td>free/reduced</td><td>none</td><td>65</td><td>58</td><td>49</td></tr><tr><td>female</td><td>group C</td><td>associate's degree</td><td>free/reduced</td><td>none</td><td>53</td><td>61</td><td>62</td></tr><tr><td>male</td><td>group C</td><td>bachelor's degree</td><td>free/reduced</td><td>none</td><td>37</td><td>56</td><td>47</td></tr><tr><td>female</td><td>group D</td><td>bachelor's degree</td><td>standard</td><td>none</td><td>79</td><td>89</td><td>89</td></tr><tr><td>male</td><td>group D</td><td>associate's degree</td><td>free/reduced</td><td>none</td><td>53</td><td>54</td><td>48</td></tr><tr><td>female</td><td>group E</td><td>bachelor's degree</td><td>standard</td><td>none</td><td>100</td><td>100</td><td>100</td></tr><tr><td>male</td><td>group B</td><td>high school</td><td>standard</td><td>completed</td><td>72</td><td>65</td><td>68</td></tr><tr><td>male</td><td>group C</td><td>bachelor's degree</td><td>free/reduced</td><td>none</td><td>53</td><td>58</td><td>55</td></tr><tr><td>male</td><td>group B</td><td>some college</td><td>free/reduced</td><td>none</td><td>54</td><td>54</td><td>45</td></tr><tr><td>female</td><td>group E</td><td>some college</td><td>standard</td><td>none</td><td>71</td><td>70</td><td>76</td></tr><tr><td>female</td><td>group C</td><td>some college</td><td>free/reduced</td><td>none</td><td>77</td><td>90</td><td>91</td></tr><tr><td>male</td><td>group A</td><td>bachelor's degree</td><td>standard</td><td>completed</td><td>75</td><td>58</td><td>62</td></tr><tr><td>female</td><td>group C</td><td>some college</td><td>standard</td><td>none</td><td>84</td><td>87</td><td>91</td></tr><tr><td>female</td><td>group D</td><td>associate's degree</td><td>free/reduced</td><td>none</td><td>26</td><td>31</td><td>38</td></tr><tr><td>male</td><td>group A</td><td>high school</td><td>free/reduced</td><td>completed</td><td>72</td><td>67</td><td>65</td></tr><tr><td>female</td><td>group A</td><td>high school</td><td>free/reduced</td><td>completed</td><td>77</td><td>88</td><td>85</td></tr><tr><td>male</td><td>group C</td><td>some college</td><td>standard</td><td>none</td><td>91</td><td>74</td><td>76</td></tr><tr><td>female</td><td>group C</td><td>associate's degree</td><td>standard</td><td>completed</td><td>83</td><td>85</td><td>90</td></tr><tr><td>female</td><td>group C</td><td>high school</td><td>standard</td><td>none</td><td>63</td><td>69</td><td>74</td></tr><tr><td>female</td><td>group C</td><td>associate's degree</td><td>standard</td><td>completed</td><td>68</td><td>86</td><td>84</td></tr><tr><td>female</td><td>group D</td><td>some high school</td><td>standard</td><td>none</td><td>59</td><td>67</td><td>61</td></tr><tr><td>female</td><td>group B</td><td>associate's degree</td><td>standard</td><td>completed</td><td>90</td><td>90</td><td>91</td></tr><tr><td>female</td><td>group D</td><td>bachelor's degree</td><td>standard</td><td>completed</td><td>71</td><td>76</td><td>83</td></tr><tr><td>male</td><td>group E</td><td>bachelor's degree</td><td>standard</td><td>completed</td><td>76</td><td>62</td><td>66</td></tr><tr><td>male</td><td>group D</td><td>associate's degree</td><td>standard</td><td>none</td><td>80</td><td>68</td><td>72</td></tr><tr><td>female</td><td>group D</td><td>master's degree</td><td>standard</td><td>none</td><td>55</td><td>64</td><td>70</td></tr><tr><td>male</td><td>group E</td><td>associate's degree</td><td>standard</td><td>none</td><td>76</td><td>71</td><td>67</td></tr><tr><td>male</td><td>group B</td><td>high school</td><td>standard</td><td>completed</td><td>73</td><td>71</td><td>68</td></tr><tr><td>female</td><td>group D</td><td>associate's degree</td><td>free/reduced</td><td>none</td><td>52</td><td>59</td><td>56</td></tr><tr><td>male</td><td>group C</td><td>some college</td><td>free/reduced</td><td>none</td><td>68</td><td>68</td><td>61</td></tr><tr><td>male</td><td>group A</td><td>high school</td><td>standard</td><td>none</td><td>59</td><td>52</td><td>46</td></tr><tr><td>female</td><td>group B</td><td>associate's degree</td><td>standard</td><td>none</td><td>49</td><td>52</td><td>54</td></tr><tr><td>male</td><td>group C</td><td>high school</td><td>standard</td><td>none</td><td>70</td><td>74</td><td>71</td></tr><tr><td>male</td><td>group D</td><td>some college</td><td>free/reduced</td><td>none</td><td>61</td><td>47</td><td>56</td></tr><tr><td>female</td><td>group C</td><td>associate's degree</td><td>free/reduced</td><td>none</td><td>60</td><td>75</td><td>74</td></tr><tr><td>male</td><td>group B</td><td>some high school</td><td>standard</td><td>completed</td><td>64</td><td>53</td><td>57</td></tr><tr><td>male</td><td>group A</td><td>associate's degree</td><td>free/reduced</td><td>completed</td><td>79</td><td>82</td><td>82</td></tr><tr><td>female</td><td>group A</td><td>associate's degree</td><td>free/reduced</td><td>none</td><td>65</td><td>85</td><td>76</td></tr><tr><td>female</td><td>group C</td><td>associate's degree</td><td>standard</td><td>none</td><td>64</td><td>64</td><td>70</td></tr><tr><td>female</td><td>group C</td><td>some college</td><td>standard</td><td>none</td><td>83</td><td>83</td><td>90</td></tr><tr><td>female</td><td>group C</td><td>bachelor's degree</td><td>standard</td><td>none</td><td>81</td><td>88</td><td>90</td></tr><tr><td>female</td><td>group B</td><td>high school</td><td>standard</td><td>none</td><td>54</td><td>64</td><td>68</td></tr><tr><td>male</td><td>group D</td><td>high school</td><td>standard</td><td>completed</td><td>68</td><td>64</td><td>66</td></tr><tr><td>female</td><td>group C</td><td>some college</td><td>standard</td><td>none</td><td>54</td><td>48</td><td>52</td></tr><tr><td>female</td><td>group D</td><td>some college</td><td>free/reduced</td><td>completed</td><td>59</td><td>78</td><td>76</td></tr><tr><td>female</td><td>group B</td><td>some high school</td><td>standard</td><td>none</td><td>66</td><td>69</td><td>68</td></tr><tr><td>male</td><td>group E</td><td>some college</td><td>standard</td><td>none</td><td>76</td><td>71</td><td>72</td></tr><tr><td>female</td><td>group D</td><td>master's degree</td><td>standard</td><td>none</td><td>74</td><td>79</td><td>82</td></tr><tr><td>female</td><td>group B</td><td>associate's degree</td><td>standard</td><td>completed</td><td>94</td><td>87</td><td>92</td></tr><tr><td>male</td><td>group C</td><td>some college</td><td>free/reduced</td><td>none</td><td>63</td><td>61</td><td>54</td></tr><tr><td>female</td><td>group E</td><td>associate's degree</td><td>standard</td><td>completed</td><td>95</td><td>89</td><td>92</td></tr><tr><td>female</td><td>group D</td><td>master's degree</td><td>free/reduced</td><td>none</td><td>40</td><td>59</td><td>54</td></tr><tr><td>female</td><td>group B</td><td>some high school</td><td>standard</td><td>none</td><td>82</td><td>82</td><td>80</td></tr><tr><td>male</td><td>group A</td><td>high school</td><td>standard</td><td>none</td><td>68</td><td>70</td><td>66</td></tr><tr><td>male</td><td>group B</td><td>bachelor's degree</td><td>free/reduced</td><td>none</td><td>55</td><td>59</td><td>54</td></tr><tr><td>male</td><td>group C</td><td>master's degree</td><td>standard</td><td>none</td><td>79</td><td>78</td><td>77</td></tr><tr><td>female</td><td>group C</td><td>bachelor's degree</td><td>standard</td><td>none</td><td>86</td><td>92</td><td>87</td></tr><tr><td>male</td><td>group D</td><td>some college</td><td>standard</td><td>none</td><td>76</td><td>71</td><td>73</td></tr><tr><td>male</td><td>group A</td><td>some high school</td><td>standard</td><td>none</td><td>64</td><td>50</td><td>43</td></tr><tr><td>male</td><td>group D</td><td>some high school</td><td>free/reduced</td><td>none</td><td>62</td><td>49</td><td>52</td></tr><tr><td>female</td><td>group B</td><td>some high school</td><td>standard</td><td>completed</td><td>54</td><td>61</td><td>62</td></tr><tr><td>female</td><td>group B</td><td>master's degree</td><td>free/reduced</td><td>completed</td><td>77</td><td>97</td><td>94</td></tr><tr><td>female</td><td>group C</td><td>some high school</td><td>standard</td><td>completed</td><td>76</td><td>87</td><td>85</td></tr><tr><td>female</td><td>group D</td><td>some college</td><td>standard</td><td>none</td><td>74</td><td>89</td><td>84</td></tr><tr><td>female</td><td>group E</td><td>some college</td><td>standard</td><td>completed</td><td>66</td><td>74</td><td>73</td></tr><tr><td>female</td><td>group D</td><td>some high school</td><td>standard</td><td>completed</td><td>66</td><td>78</td><td>78</td></tr><tr><td>female</td><td>group B</td><td>high school</td><td>free/reduced</td><td>completed</td><td>67</td><td>78</td><td>79</td></tr><tr><td>male</td><td>group D</td><td>some college</td><td>standard</td><td>none</td><td>71</td><td>49</td><td>52</td></tr><tr><td>female</td><td>group C</td><td>associate's degree</td><td>standard</td><td>none</td><td>91</td><td>86</td><td>84</td></tr><tr><td>male</td><td>group D</td><td>bachelor's degree</td><td>standard</td><td>none</td><td>69</td><td>58</td><td>57</td></tr><tr><td>male</td><td>group C</td><td>master's degree</td><td>free/reduced</td><td>none</td><td>54</td><td>59</td><td>50</td></tr><tr><td>male</td><td>group C</td><td>high school</td><td>standard</td><td>completed</td><td>53</td><td>52</td><td>49</td></tr><tr><td>male</td><td>group E</td><td>some college</td><td>standard</td><td>none</td><td>68</td><td>60</td><td>59</td></tr><tr><td>male</td><td>group C</td><td>some high school</td><td>free/reduced</td><td>completed</td><td>56</td><td>61</td><td>60</td></tr><tr><td>female</td><td>group C</td><td>high school</td><td>free/reduced</td><td>none</td><td>36</td><td>53</td><td>43</td></tr><tr><td>female</td><td>group D</td><td>bachelor's degree</td><td>free/reduced</td><td>none</td><td>29</td><td>41</td><td>47</td></tr><tr><td>female</td><td>group C</td><td>associate's degree</td><td>standard</td><td>none</td><td>62</td><td>74</td><td>70</td></tr><tr><td>female</td><td>group C</td><td>associate's degree</td><td>standard</td><td>completed</td><td>68</td><td>67</td><td>73</td></tr><tr><td>female</td><td>group C</td><td>some high school</td><td>standard</td><td>none</td><td>47</td><td>54</td><td>53</td></tr><tr><td>male</td><td>group E</td><td>associate's degree</td><td>standard</td><td>completed</td><td>62</td><td>61</td><td>58</td></tr><tr><td>female</td><td>group E</td><td>associate's degree</td><td>standard</td><td>completed</td><td>79</td><td>88</td><td>94</td></tr><tr><td>male</td><td>group B</td><td>high school</td><td>standard</td><td>completed</td><td>73</td><td>69</td><td>68</td></tr><tr><td>female</td><td>group C</td><td>bachelor's degree</td><td>free/reduced</td><td>completed</td><td>66</td><td>83</td><td>83</td></tr><tr><td>male</td><td>group C</td><td>associate's degree</td><td>standard</td><td>completed</td><td>51</td><td>60</td><td>58</td></tr><tr><td>female</td><td>group D</td><td>high school</td><td>standard</td><td>none</td><td>51</td><td>66</td><td>62</td></tr><tr><td>male</td><td>group E</td><td>bachelor's degree</td><td>standard</td><td>completed</td><td>85</td><td>66</td><td>71</td></tr><tr><td>male</td><td>group A</td><td>associate's degree</td><td>standard</td><td>completed</td><td>97</td><td>92</td><td>86</td></tr><tr><td>male</td><td>group C</td><td>high school</td><td>standard</td><td>completed</td><td>75</td><td>69</td><td>68</td></tr><tr><td>male</td><td>group D</td><td>associate's degree</td><td>free/reduced</td><td>completed</td><td>79</td><td>82</td><td>80</td></tr><tr><td>female</td><td>group C</td><td>associate's degree</td><td>standard</td><td>none</td><td>81</td><td>77</td><td>79</td></tr><tr><td>female</td><td>group D</td><td>associate's degree</td><td>standard</td><td>none</td><td>82</td><td>95</td><td>89</td></tr><tr><td>female</td><td>group D</td><td>master's degree</td><td>standard</td><td>none</td><td>64</td><td>63</td><td>66</td></tr><tr><td>male</td><td>group E</td><td>some high school</td><td>free/reduced</td><td>completed</td><td>78</td><td>83</td><td>80</td></tr><tr><td>female</td><td>group A</td><td>some high school</td><td>standard</td><td>completed</td><td>92</td><td>100</td><td>97</td></tr><tr><td>male</td><td>group C</td><td>high school</td><td>standard</td><td>completed</td><td>72</td><td>67</td><td>64</td></tr><tr><td>female</td><td>group C</td><td>high school</td><td>free/reduced</td><td>none</td><td>62</td><td>67</td><td>64</td></tr><tr><td>male</td><td>group C</td><td>master's degree</td><td>standard</td><td>none</td><td>79</td><td>72</td><td>69</td></tr><tr><td>male</td><td>group C</td><td>some high school</td><td>free/reduced</td><td>none</td><td>79</td><td>76</td><td>65</td></tr><tr><td>male</td><td>group B</td><td>bachelor's degree</td><td>free/reduced</td><td>completed</td><td>87</td><td>90</td><td>88</td></tr><tr><td>female</td><td>group B</td><td>associate's degree</td><td>standard</td><td>none</td><td>40</td><td>48</td><td>50</td></tr><tr><td>male</td><td>group D</td><td>some college</td><td>free/reduced</td><td>none</td><td>77</td><td>62</td><td>64</td></tr><tr><td>male</td><td>group E</td><td>associate's degree</td><td>standard</td><td>none</td><td>53</td><td>45</td><td>40</td></tr><tr><td>female</td><td>group C</td><td>some college</td><td>free/reduced</td><td>none</td><td>32</td><td>39</td><td>33</td></tr><tr><td>female</td><td>group C</td><td>associate's degree</td><td>standard</td><td>completed</td><td>55</td><td>72</td><td>79</td></tr><tr><td>male</td><td>group C</td><td>master's degree</td><td>free/reduced</td><td>none</td><td>61</td><td>67</td><td>66</td></tr><tr><td>female</td><td>group B</td><td>associate's degree</td><td>free/reduced</td><td>none</td><td>53</td><td>70</td><td>70</td></tr><tr><td>male</td><td>group D</td><td>some high school</td><td>standard</td><td>none</td><td>73</td><td>66</td><td>62</td></tr><tr><td>female</td><td>group D</td><td>some college</td><td>standard</td><td>completed</td><td>74</td><td>75</td><td>79</td></tr><tr><td>female</td><td>group C</td><td>some college</td><td>standard</td><td>none</td><td>63</td><td>74</td><td>74</td></tr><tr><td>male</td><td>group C</td><td>bachelor's degree</td><td>standard</td><td>completed</td><td>96</td><td>90</td><td>92</td></tr><tr><td>female</td><td>group D</td><td>some college</td><td>free/reduced</td><td>completed</td><td>63</td><td>80</td><td>80</td></tr><tr><td>male</td><td>group B</td><td>bachelor's degree</td><td>free/reduced</td><td>none</td><td>48</td><td>51</td><td>46</td></tr><tr><td>male</td><td>group B</td><td>associate's degree</td><td>standard</td><td>none</td><td>48</td><td>43</td><td>45</td></tr><tr><td>female</td><td>group E</td><td>bachelor's degree</td><td>free/reduced</td><td>completed</td><td>92</td><td>100</td><td>100</td></tr><tr><td>female</td><td>group D</td><td>master's degree</td><td>free/reduced</td><td>completed</td><td>61</td><td>71</td><td>78</td></tr><tr><td>male</td><td>group B</td><td>high school</td><td>free/reduced</td><td>none</td><td>63</td><td>48</td><td>47</td></tr><tr><td>male</td><td>group D</td><td>bachelor's degree</td><td>free/reduced</td><td>none</td><td>68</td><td>68</td><td>67</td></tr><tr><td>male</td><td>group B</td><td>some college</td><td>standard</td><td>completed</td><td>71</td><td>75</td><td>70</td></tr><tr><td>male</td><td>group A</td><td>bachelor's degree</td><td>standard</td><td>none</td><td>91</td><td>96</td><td>92</td></tr><tr><td>female</td><td>group C</td><td>some college</td><td>standard</td><td>none</td><td>53</td><td>62</td><td>56</td></tr><tr><td>female</td><td>group C</td><td>high school</td><td>free/reduced</td><td>completed</td><td>50</td><td>66</td><td>64</td></tr><tr><td>female</td><td>group E</td><td>high school</td><td>standard</td><td>none</td><td>74</td><td>81</td><td>71</td></tr><tr><td>male</td><td>group A</td><td>associate's degree</td><td>free/reduced</td><td>completed</td><td>40</td><td>55</td><td>53</td></tr><tr><td>male</td><td>group A</td><td>some college</td><td>standard</td><td>completed</td><td>61</td><td>51</td><td>52</td></tr><tr><td>female</td><td>group B</td><td>high school</td><td>standard</td><td>none</td><td>81</td><td>91</td><td>89</td></tr><tr><td>female</td><td>group B</td><td>some college</td><td>free/reduced</td><td>completed</td><td>48</td><td>56</td><td>58</td></tr><tr><td>female</td><td>group D</td><td>master's degree</td><td>standard</td><td>none</td><td>53</td><td>61</td><td>68</td></tr><tr><td>female</td><td>group D</td><td>some high school</td><td>standard</td><td>none</td><td>81</td><td>97</td><td>96</td></tr><tr><td>female</td><td>group E</td><td>some high school</td><td>standard</td><td>none</td><td>77</td><td>79</td><td>80</td></tr><tr><td>female</td><td>group D</td><td>bachelor's degree</td><td>free/reduced</td><td>none</td><td>63</td><td>73</td><td>78</td></tr><tr><td>female</td><td>group D</td><td>associate's degree</td><td>standard</td><td>completed</td><td>73</td><td>75</td><td>80</td></tr><tr><td>female</td><td>group D</td><td>some college</td><td>standard</td><td>none</td><td>69</td><td>77</td><td>77</td></tr><tr><td>female</td><td>group C</td><td>associate's degree</td><td>standard</td><td>none</td><td>65</td><td>76</td><td>76</td></tr><tr><td>female</td><td>group A</td><td>high school</td><td>standard</td><td>none</td><td>55</td><td>73</td><td>73</td></tr><tr><td>female</td><td>group C</td><td>bachelor's degree</td><td>free/reduced</td><td>none</td><td>44</td><td>63</td><td>62</td></tr><tr><td>female</td><td>group C</td><td>some college</td><td>standard</td><td>none</td><td>54</td><td>64</td><td>65</td></tr><tr><td>female</td><td>group A</td><td>some high school</td><td>standard</td><td>none</td><td>48</td><td>66</td><td>65</td></tr><tr><td>male</td><td>group C</td><td>some college</td><td>free/reduced</td><td>none</td><td>58</td><td>57</td><td>54</td></tr><tr><td>male</td><td>group A</td><td>some high school</td><td>standard</td><td>none</td><td>71</td><td>62</td><td>50</td></tr><tr><td>male</td><td>group E</td><td>bachelor's degree</td><td>standard</td><td>none</td><td>68</td><td>68</td><td>64</td></tr><tr><td>female</td><td>group E</td><td>high school</td><td>standard</td><td>none</td><td>74</td><td>76</td><td>73</td></tr><tr><td>female</td><td>group C</td><td>bachelor's degree</td><td>standard</td><td>completed</td><td>92</td><td>100</td><td>99</td></tr><tr><td>female</td><td>group C</td><td>bachelor's degree</td><td>standard</td><td>completed</td><td>56</td><td>79</td><td>72</td></tr><tr><td>male</td><td>group B</td><td>high school</td><td>free/reduced</td><td>none</td><td>30</td><td>24</td><td>15</td></tr><tr><td>male</td><td>group A</td><td>some high school</td><td>standard</td><td>none</td><td>53</td><td>54</td><td>48</td></tr><tr><td>female</td><td>group D</td><td>high school</td><td>standard</td><td>none</td><td>69</td><td>77</td><td>73</td></tr><tr><td>female</td><td>group D</td><td>some high school</td><td>standard</td><td>none</td><td>65</td><td>82</td><td>81</td></tr><tr><td>female</td><td>group D</td><td>master's degree</td><td>standard</td><td>none</td><td>54</td><td>60</td><td>63</td></tr><tr><td>female</td><td>group C</td><td>high school</td><td>standard</td><td>none</td><td>29</td><td>29</td><td>30</td></tr><tr><td>female</td><td>group E</td><td>some college</td><td>standard</td><td>none</td><td>76</td><td>78</td><td>80</td></tr><tr><td>male</td><td>group D</td><td>high school</td><td>free/reduced</td><td>none</td><td>60</td><td>57</td><td>51</td></tr><tr><td>male</td><td>group D</td><td>master's degree</td><td>free/reduced</td><td>completed</td><td>84</td><td>89</td><td>90</td></tr><tr><td>male</td><td>group C</td><td>some high school</td><td>standard</td><td>none</td><td>75</td><td>72</td><td>62</td></tr><tr><td>female</td><td>group C</td><td>associate's degree</td><td>standard</td><td>none</td><td>85</td><td>84</td><td>82</td></tr><tr><td>female</td><td>group C</td><td>master's degree</td><td>free/reduced</td><td>none</td><td>40</td><td>58</td><td>54</td></tr><tr><td>female</td><td>group E</td><td>some college</td><td>standard</td><td>none</td><td>61</td><td>64</td><td>62</td></tr><tr><td>female</td><td>group B</td><td>associate's degree</td><td>standard</td><td>none</td><td>58</td><td>63</td><td>65</td></tr><tr><td>male</td><td>group D</td><td>some college</td><td>free/reduced</td><td>completed</td><td>69</td><td>60</td><td>63</td></tr><tr><td>female</td><td>group C</td><td>some college</td><td>standard</td><td>none</td><td>58</td><td>59</td><td>66</td></tr><tr><td>male</td><td>group C</td><td>bachelor's degree</td><td>standard</td><td>completed</td><td>94</td><td>90</td><td>91</td></tr><tr><td>female</td><td>group C</td><td>associate's degree</td><td>standard</td><td>none</td><td>65</td><td>77</td><td>74</td></tr><tr><td>female</td><td>group A</td><td>associate's degree</td><td>standard</td><td>none</td><td>82</td><td>93</td><td>93</td></tr><tr><td>female</td><td>group C</td><td>high school</td><td>standard</td><td>none</td><td>60</td><td>68</td><td>72</td></tr><tr><td>female</td><td>group E</td><td>bachelor's degree</td><td>standard</td><td>none</td><td>37</td><td>45</td><td>38</td></tr><tr><td>male</td><td>group D</td><td>bachelor's degree</td><td>standard</td><td>none</td><td>88</td><td>78</td><td>83</td></tr><tr><td>male</td><td>group D</td><td>master's degree</td><td>standard</td><td>none</td><td>95</td><td>81</td><td>84</td></tr><tr><td>male</td><td>group C</td><td>associate's degree</td><td>free/reduced</td><td>completed</td><td>65</td><td>73</td><td>68</td></tr><tr><td>female</td><td>group C</td><td>high school</td><td>free/reduced</td><td>none</td><td>35</td><td>61</td><td>54</td></tr><tr><td>male</td><td>group B</td><td>bachelor's degree</td><td>free/reduced</td><td>none</td><td>62</td><td>63</td><td>56</td></tr><tr><td>male</td><td>group C</td><td>high school</td><td>free/reduced</td><td>completed</td><td>58</td><td>51</td><td>52</td></tr><tr><td>male</td><td>group A</td><td>some college</td><td>standard</td><td>completed</td><td>100</td><td>96</td><td>86</td></tr><tr><td>female</td><td>group E</td><td>bachelor's degree</td><td>free/reduced</td><td>none</td><td>61</td><td>58</td><td>62</td></tr><tr><td>male</td><td>group D</td><td>some college</td><td>standard</td><td>completed</td><td>100</td><td>97</td><td>99</td></tr><tr><td>male</td><td>group B</td><td>associate's degree</td><td>free/reduced</td><td>completed</td><td>69</td><td>70</td><td>63</td></tr><tr><td>male</td><td>group D</td><td>associate's degree</td><td>standard</td><td>none</td><td>61</td><td>48</td><td>46</td></tr><tr><td>male</td><td>group D</td><td>some college</td><td>free/reduced</td><td>none</td><td>49</td><td>57</td><td>46</td></tr><tr><td>female</td><td>group C</td><td>some high school</td><td>standard</td><td>completed</td><td>44</td><td>51</td><td>55</td></tr><tr><td>male</td><td>group D</td><td>some college</td><td>standard</td><td>none</td><td>67</td><td>64</td><td>70</td></tr><tr><td>male</td><td>group B</td><td>high school</td><td>standard</td><td>none</td><td>79</td><td>60</td><td>65</td></tr><tr><td>female</td><td>group B</td><td>bachelor's degree</td><td>standard</td><td>completed</td><td>66</td><td>74</td><td>81</td></tr><tr><td>female</td><td>group C</td><td>high school</td><td>standard</td><td>none</td><td>75</td><td>88</td><td>85</td></tr><tr><td>male</td><td>group D</td><td>some high school</td><td>standard</td><td>none</td><td>84</td><td>84</td><td>80</td></tr><tr><td>male</td><td>group A</td><td>high school</td><td>standard</td><td>none</td><td>71</td><td>74</td><td>64</td></tr><tr><td>female</td><td>group B</td><td>high school</td><td>free/reduced</td><td>completed</td><td>67</td><td>80</td><td>81</td></tr><tr><td>female</td><td>group D</td><td>some high school</td><td>standard</td><td>completed</td><td>80</td><td>92</td><td>88</td></tr><tr><td>male</td><td>group E</td><td>some college</td><td>standard</td><td>none</td><td>86</td><td>76</td><td>74</td></tr><tr><td>female</td><td>group D</td><td>associate's degree</td><td>standard</td><td>none</td><td>76</td><td>74</td><td>73</td></tr><tr><td>male</td><td>group D</td><td>high school</td><td>standard</td><td>none</td><td>41</td><td>52</td><td>51</td></tr><tr><td>female</td><td>group D</td><td>associate's degree</td><td>free/reduced</td><td>completed</td><td>74</td><td>88</td><td>90</td></tr><tr><td>female</td><td>group B</td><td>some high school</td><td>free/reduced</td><td>none</td><td>72</td><td>81</td><td>79</td></tr><tr><td>female</td><td>group E</td><td>high school</td><td>standard</td><td>completed</td><td>74</td><td>79</td><td>80</td></tr><tr><td>male</td><td>group B</td><td>high school</td><td>standard</td><td>none</td><td>70</td><td>65</td><td>60</td></tr><tr><td>female</td><td>group B</td><td>bachelor's degree</td><td>standard</td><td>completed</td><td>65</td><td>81</td><td>81</td></tr><tr><td>female</td><td>group D</td><td>associate's degree</td><td>standard</td><td>none</td><td>59</td><td>70</td><td>65</td></tr><tr><td>female</td><td>group E</td><td>high school</td><td>free/reduced</td><td>none</td><td>64</td><td>62</td><td>68</td></tr><tr><td>female</td><td>group B</td><td>high school</td><td>standard</td><td>none</td><td>50</td><td>53</td><td>55</td></tr><tr><td>female</td><td>group D</td><td>some college</td><td>standard</td><td>completed</td><td>69</td><td>79</td><td>81</td></tr><tr><td>male</td><td>group C</td><td>some high school</td><td>free/reduced</td><td>completed</td><td>51</td><td>56</td><td>53</td></tr><tr><td>female</td><td>group A</td><td>high school</td><td>standard</td><td>completed</td><td>68</td><td>80</td><td>76</td></tr><tr><td>female</td><td>group D</td><td>some college</td><td>standard</td><td>completed</td><td>85</td><td>86</td><td>98</td></tr><tr><td>female</td><td>group A</td><td>associate's degree</td><td>standard</td><td>completed</td><td>65</td><td>70</td><td>74</td></tr><tr><td>female</td><td>group B</td><td>some high school</td><td>standard</td><td>none</td><td>73</td><td>79</td><td>79</td></tr><tr><td>female</td><td>group B</td><td>some college</td><td>standard</td><td>none</td><td>62</td><td>67</td><td>67</td></tr><tr><td>male</td><td>group C</td><td>associate's degree</td><td>free/reduced</td><td>none</td><td>77</td><td>67</td><td>64</td></tr><tr><td>male</td><td>group D</td><td>some high school</td><td>standard</td><td>none</td><td>69</td><td>66</td><td>61</td></tr><tr><td>female</td><td>group D</td><td>associate's degree</td><td>free/reduced</td><td>none</td><td>43</td><td>60</td><td>58</td></tr><tr><td>male</td><td>group D</td><td>associate's degree</td><td>standard</td><td>none</td><td>90</td><td>87</td><td>85</td></tr><tr><td>male</td><td>group C</td><td>some college</td><td>free/reduced</td><td>none</td><td>74</td><td>77</td><td>73</td></tr><tr><td>male</td><td>group C</td><td>some high school</td><td>standard</td><td>none</td><td>73</td><td>66</td><td>63</td></tr><tr><td>female</td><td>group D</td><td>some college</td><td>free/reduced</td><td>none</td><td>55</td><td>71</td><td>69</td></tr><tr><td>female</td><td>group C</td><td>high school</td><td>standard</td><td>none</td><td>65</td><td>69</td><td>67</td></tr><tr><td>male</td><td>group D</td><td>associate's degree</td><td>standard</td><td>none</td><td>80</td><td>63</td><td>63</td></tr><tr><td>female</td><td>group C</td><td>some high school</td><td>free/reduced</td><td>completed</td><td>50</td><td>60</td><td>60</td></tr><tr><td>female</td><td>group C</td><td>some college</td><td>free/reduced</td><td>completed</td><td>63</td><td>73</td><td>71</td></tr><tr><td>female</td><td>group B</td><td>bachelor's degree</td><td>free/reduced</td><td>none</td><td>77</td><td>85</td><td>87</td></tr><tr><td>male</td><td>group C</td><td>some college</td><td>standard</td><td>none</td><td>73</td><td>74</td><td>61</td></tr><tr><td>male</td><td>group D</td><td>associate's degree</td><td>standard</td><td>completed</td><td>81</td><td>72</td><td>77</td></tr><tr><td>female</td><td>group C</td><td>high school</td><td>free/reduced</td><td>none</td><td>66</td><td>76</td><td>68</td></tr><tr><td>male</td><td>group D</td><td>associate's degree</td><td>free/reduced</td><td>none</td><td>52</td><td>57</td><td>50</td></tr><tr><td>female</td><td>group C</td><td>some college</td><td>standard</td><td>none</td><td>69</td><td>78</td><td>76</td></tr><tr><td>female</td><td>group C</td><td>associate's degree</td><td>standard</td><td>completed</td><td>65</td><td>84</td><td>84</td></tr><tr><td>female</td><td>group D</td><td>high school</td><td>standard</td><td>completed</td><td>69</td><td>77</td><td>78</td></tr><tr><td>female</td><td>group B</td><td>some college</td><td>standard</td><td>completed</td><td>50</td><td>64</td><td>66</td></tr><tr><td>female</td><td>group E</td><td>some college</td><td>standard</td><td>completed</td><td>73</td><td>78</td><td>76</td></tr><tr><td>female</td><td>group C</td><td>some high school</td><td>standard</td><td>completed</td><td>70</td><td>82</td><td>76</td></tr><tr><td>male</td><td>group D</td><td>associate's degree</td><td>free/reduced</td><td>none</td><td>81</td><td>75</td><td>78</td></tr><tr><td>male</td><td>group D</td><td>some college</td><td>free/reduced</td><td>none</td><td>63</td><td>61</td><td>60</td></tr><tr><td>female</td><td>group D</td><td>high school</td><td>standard</td><td>none</td><td>67</td><td>72</td><td>74</td></tr><tr><td>male</td><td>group B</td><td>high school</td><td>standard</td><td>none</td><td>60</td><td>68</td><td>60</td></tr><tr><td>male</td><td>group B</td><td>high school</td><td>standard</td><td>none</td><td>62</td><td>55</td><td>54</td></tr><tr><td>female</td><td>group C</td><td>some high school</td><td>free/reduced</td><td>completed</td><td>29</td><td>40</td><td>44</td></tr><tr><td>male</td><td>group B</td><td>some college</td><td>standard</td><td>completed</td><td>62</td><td>66</td><td>68</td></tr><tr><td>female</td><td>group E</td><td>master's degree</td><td>standard</td><td>completed</td><td>94</td><td>99</td><td>100</td></tr><tr><td>male</td><td>group E</td><td>some college</td><td>standard</td><td>completed</td><td>85</td><td>75</td><td>68</td></tr><tr><td>male</td><td>group D</td><td>associate's degree</td><td>free/reduced</td><td>none</td><td>77</td><td>78</td><td>73</td></tr><tr><td>male</td><td>group A</td><td>high school</td><td>free/reduced</td><td>none</td><td>53</td><td>58</td><td>44</td></tr><tr><td>male</td><td>group E</td><td>some college</td><td>free/reduced</td><td>none</td><td>93</td><td>90</td><td>83</td></tr><tr><td>female</td><td>group C</td><td>associate's degree</td><td>standard</td><td>none</td><td>49</td><td>53</td><td>53</td></tr><tr><td>female</td><td>group E</td><td>associate's degree</td><td>free/reduced</td><td>none</td><td>73</td><td>76</td><td>78</td></tr><tr><td>female</td><td>group C</td><td>bachelor's degree</td><td>free/reduced</td><td>completed</td><td>66</td><td>74</td><td>81</td></tr><tr><td>female</td><td>group D</td><td>associate's degree</td><td>standard</td><td>none</td><td>77</td><td>77</td><td>73</td></tr><tr><td>female</td><td>group C</td><td>some high school</td><td>standard</td><td>none</td><td>49</td><td>63</td><td>56</td></tr><tr><td>female</td><td>group D</td><td>some college</td><td>free/reduced</td><td>none</td><td>79</td><td>89</td><td>86</td></tr><tr><td>female</td><td>group C</td><td>associate's degree</td><td>standard</td><td>completed</td><td>75</td><td>82</td><td>90</td></tr><tr><td>female</td><td>group A</td><td>bachelor's degree</td><td>standard</td><td>none</td><td>59</td><td>72</td><td>70</td></tr><tr><td>female</td><td>group D</td><td>associate's degree</td><td>standard</td><td>completed</td><td>57</td><td>78</td><td>79</td></tr><tr><td>male</td><td>group C</td><td>high school</td><td>free/reduced</td><td>none</td><td>66</td><td>66</td><td>59</td></tr><tr><td>female</td><td>group E</td><td>bachelor's degree</td><td>standard</td><td>completed</td><td>79</td><td>81</td><td>82</td></tr><tr><td>female</td><td>group B</td><td>some high school</td><td>standard</td><td>none</td><td>57</td><td>67</td><td>72</td></tr><tr><td>male</td><td>group A</td><td>bachelor's degree</td><td>standard</td><td>completed</td><td>87</td><td>84</td><td>87</td></tr><tr><td>female</td><td>group D</td><td>some college</td><td>standard</td><td>none</td><td>63</td><td>64</td><td>67</td></tr><tr><td>female</td><td>group B</td><td>some high school</td><td>free/reduced</td><td>completed</td><td>59</td><td>63</td><td>64</td></tr><tr><td>male</td><td>group A</td><td>bachelor's degree</td><td>free/reduced</td><td>none</td><td>62</td><td>72</td><td>65</td></tr><tr><td>male</td><td>group D</td><td>high school</td><td>standard</td><td>none</td><td>46</td><td>34</td><td>36</td></tr><tr><td>male</td><td>group C</td><td>some college</td><td>standard</td><td>none</td><td>66</td><td>59</td><td>52</td></tr><tr><td>male</td><td>group D</td><td>high school</td><td>standard</td><td>none</td><td>89</td><td>87</td><td>79</td></tr><tr><td>female</td><td>group D</td><td>associate's degree</td><td>free/reduced</td><td>completed</td><td>42</td><td>61</td><td>58</td></tr><tr><td>male</td><td>group C</td><td>some college</td><td>standard</td><td>completed</td><td>93</td><td>84</td><td>90</td></tr><tr><td>female</td><td>group E</td><td>some high school</td><td>standard</td><td>completed</td><td>80</td><td>85</td><td>85</td></tr><tr><td>female</td><td>group D</td><td>some college</td><td>standard</td><td>none</td><td>98</td><td>100</td><td>99</td></tr><tr><td>male</td><td>group D</td><td>master's degree</td><td>standard</td><td>none</td><td>81</td><td>81</td><td>84</td></tr><tr><td>female</td><td>group B</td><td>some high school</td><td>standard</td><td>completed</td><td>60</td><td>70</td><td>74</td></tr><tr><td>female</td><td>group B</td><td>associate's degree</td><td>free/reduced</td><td>completed</td><td>76</td><td>94</td><td>87</td></tr><tr><td>male</td><td>group C</td><td>associate's degree</td><td>standard</td><td>completed</td><td>73</td><td>78</td><td>72</td></tr><tr><td>female</td><td>group C</td><td>associate's degree</td><td>standard</td><td>completed</td><td>96</td><td>96</td><td>99</td></tr><tr><td>female</td><td>group C</td><td>high school</td><td>standard</td><td>none</td><td>76</td><td>76</td><td>74</td></tr><tr><td>male</td><td>group E</td><td>associate's degree</td><td>free/reduced</td><td>completed</td><td>91</td><td>73</td><td>80</td></tr><tr><td>female</td><td>group C</td><td>some college</td><td>free/reduced</td><td>none</td><td>62</td><td>72</td><td>70</td></tr><tr><td>male</td><td>group D</td><td>some high school</td><td>free/reduced</td><td>completed</td><td>55</td><td>59</td><td>59</td></tr><tr><td>female</td><td>group B</td><td>some high school</td><td>free/reduced</td><td>completed</td><td>74</td><td>90</td><td>88</td></tr><tr><td>male</td><td>group C</td><td>high school</td><td>standard</td><td>none</td><td>50</td><td>48</td><td>42</td></tr><tr><td>male</td><td>group B</td><td>some college</td><td>standard</td><td>none</td><td>47</td><td>43</td><td>41</td></tr><tr><td>male</td><td>group E</td><td>some college</td><td>standard</td><td>completed</td><td>81</td><td>74</td><td>71</td></tr><tr><td>female</td><td>group E</td><td>associate's degree</td><td>standard</td><td>completed</td><td>65</td><td>75</td><td>77</td></tr><tr><td>male</td><td>group E</td><td>some high school</td><td>standard</td><td>completed</td><td>68</td><td>51</td><td>57</td></tr><tr><td>female</td><td>group D</td><td>high school</td><td>free/reduced</td><td>none</td><td>73</td><td>92</td><td>84</td></tr><tr><td>male</td><td>group C</td><td>some college</td><td>standard</td><td>none</td><td>53</td><td>39</td><td>37</td></tr><tr><td>female</td><td>group B</td><td>associate's degree</td><td>free/reduced</td><td>completed</td><td>68</td><td>77</td><td>80</td></tr><tr><td>male</td><td>group A</td><td>some high school</td><td>free/reduced</td><td>none</td><td>55</td><td>46</td><td>43</td></tr><tr><td>female</td><td>group C</td><td>some college</td><td>standard</td><td>completed</td><td>87</td><td>89</td><td>94</td></tr><tr><td>male</td><td>group D</td><td>some high school</td><td>standard</td><td>none</td><td>55</td><td>47</td><td>44</td></tr><tr><td>female</td><td>group E</td><td>some college</td><td>free/reduced</td><td>none</td><td>53</td><td>58</td><td>57</td></tr><tr><td>male</td><td>group C</td><td>master's degree</td><td>standard</td><td>none</td><td>67</td><td>57</td><td>59</td></tr><tr><td>male</td><td>group C</td><td>associate's degree</td><td>standard</td><td>none</td><td>92</td><td>79</td><td>84</td></tr><tr><td>female</td><td>group B</td><td>some college</td><td>free/reduced</td><td>completed</td><td>53</td><td>66</td><td>73</td></tr><tr><td>male</td><td>group D</td><td>associate's degree</td><td>standard</td><td>none</td><td>81</td><td>71</td><td>73</td></tr><tr><td>male</td><td>group C</td><td>high school</td><td>free/reduced</td><td>none</td><td>61</td><td>60</td><td>55</td></tr><tr><td>male</td><td>group D</td><td>bachelor's degree</td><td>standard</td><td>none</td><td>80</td><td>73</td><td>72</td></tr><tr><td>female</td><td>group A</td><td>associate's degree</td><td>free/reduced</td><td>none</td><td>37</td><td>57</td><td>56</td></tr><tr><td>female</td><td>group C</td><td>high school</td><td>standard</td><td>none</td><td>81</td><td>84</td><td>82</td></tr><tr><td>female</td><td>group C</td><td>associate's degree</td><td>standard</td><td>completed</td><td>59</td><td>73</td><td>72</td></tr><tr><td>male</td><td>group B</td><td>some college</td><td>free/reduced</td><td>none</td><td>55</td><td>55</td><td>47</td></tr><tr><td>male</td><td>group D</td><td>associate's degree</td><td>standard</td><td>none</td><td>72</td><td>79</td><td>74</td></tr><tr><td>male</td><td>group D</td><td>high school</td><td>standard</td><td>none</td><td>69</td><td>75</td><td>71</td></tr><tr><td>male</td><td>group C</td><td>some college</td><td>standard</td><td>none</td><td>69</td><td>64</td><td>68</td></tr><tr><td>female</td><td>group C</td><td>bachelor's degree</td><td>free/reduced</td><td>none</td><td>50</td><td>60</td><td>59</td></tr><tr><td>male</td><td>group B</td><td>some college</td><td>standard</td><td>completed</td><td>87</td><td>84</td><td>86</td></tr><tr><td>male</td><td>group D</td><td>some high school</td><td>standard</td><td>completed</td><td>71</td><td>69</td><td>68</td></tr><tr><td>male</td><td>group E</td><td>some college</td><td>standard</td><td>none</td><td>68</td><td>72</td><td>65</td></tr><tr><td>male</td><td>group C</td><td>master's degree</td><td>free/reduced</td><td>completed</td><td>79</td><td>77</td><td>75</td></tr><tr><td>female</td><td>group C</td><td>some high school</td><td>standard</td><td>completed</td><td>77</td><td>90</td><td>85</td></tr><tr><td>male</td><td>group C</td><td>associate's degree</td><td>free/reduced</td><td>none</td><td>58</td><td>55</td><td>53</td></tr><tr><td>female</td><td>group E</td><td>associate's degree</td><td>standard</td><td>none</td><td>84</td><td>95</td><td>92</td></tr><tr><td>male</td><td>group D</td><td>some college</td><td>standard</td><td>none</td><td>55</td><td>58</td><td>52</td></tr><tr><td>male</td><td>group E</td><td>bachelor's degree</td><td>free/reduced</td><td>completed</td><td>70</td><td>68</td><td>72</td></tr><tr><td>female</td><td>group D</td><td>some college</td><td>free/reduced</td><td>completed</td><td>52</td><td>59</td><td>65</td></tr><tr><td>male</td><td>group B</td><td>some college</td><td>standard</td><td>completed</td><td>69</td><td>77</td><td>77</td></tr><tr><td>female</td><td>group C</td><td>high school</td><td>free/reduced</td><td>none</td><td>53</td><td>72</td><td>64</td></tr><tr><td>female</td><td>group D</td><td>some high school</td><td>standard</td><td>none</td><td>48</td><td>58</td><td>54</td></tr><tr><td>male</td><td>group D</td><td>some high school</td><td>standard</td><td>completed</td><td>78</td><td>81</td><td>86</td></tr><tr><td>female</td><td>group B</td><td>high school</td><td>standard</td><td>none</td><td>62</td><td>62</td><td>63</td></tr><tr><td>male</td><td>group D</td><td>some college</td><td>standard</td><td>none</td><td>60</td><td>63</td><td>59</td></tr><tr><td>female</td><td>group B</td><td>high school</td><td>standard</td><td>none</td><td>74</td><td>72</td><td>72</td></tr><tr><td>female</td><td>group C</td><td>high school</td><td>standard</td><td>completed</td><td>58</td><td>75</td><td>77</td></tr><tr><td>male</td><td>group B</td><td>high school</td><td>standard</td><td>completed</td><td>76</td><td>62</td><td>60</td></tr><tr><td>female</td><td>group D</td><td>some high school</td><td>standard</td><td>none</td><td>68</td><td>71</td><td>75</td></tr><tr><td>male</td><td>group A</td><td>some college</td><td>free/reduced</td><td>none</td><td>58</td><td>60</td><td>57</td></tr><tr><td>male</td><td>group B</td><td>high school</td><td>standard</td><td>none</td><td>52</td><td>48</td><td>49</td></tr><tr><td>male</td><td>group D</td><td>bachelor's degree</td><td>standard</td><td>none</td><td>75</td><td>73</td><td>74</td></tr><tr><td>female</td><td>group B</td><td>some high school</td><td>free/reduced</td><td>completed</td><td>52</td><td>67</td><td>72</td></tr><tr><td>female</td><td>group C</td><td>bachelor's degree</td><td>free/reduced</td><td>none</td><td>62</td><td>78</td><td>79</td></tr><tr><td>male</td><td>group B</td><td>some college</td><td>standard</td><td>none</td><td>66</td><td>65</td><td>60</td></tr><tr><td>female</td><td>group B</td><td>some high school</td><td>free/reduced</td><td>none</td><td>49</td><td>58</td><td>55</td></tr><tr><td>female</td><td>group B</td><td>high school</td><td>standard</td><td>none</td><td>66</td><td>72</td><td>70</td></tr><tr><td>female</td><td>group C</td><td>some college</td><td>free/reduced</td><td>none</td><td>35</td><td>44</td><td>43</td></tr><tr><td>female</td><td>group A</td><td>some college</td><td>standard</td><td>completed</td><td>72</td><td>79</td><td>82</td></tr><tr><td>male</td><td>group E</td><td>associate's degree</td><td>standard</td><td>completed</td><td>94</td><td>85</td><td>82</td></tr><tr><td>female</td><td>group D</td><td>associate's degree</td><td>free/reduced</td><td>none</td><td>46</td><td>56</td><td>57</td></tr><tr><td>female</td><td>group B</td><td>master's degree</td><td>standard</td><td>none</td><td>77</td><td>90</td><td>84</td></tr><tr><td>female</td><td>group B</td><td>high school</td><td>free/reduced</td><td>completed</td><td>76</td><td>85</td><td>82</td></tr><tr><td>female</td><td>group C</td><td>associate's degree</td><td>standard</td><td>completed</td><td>52</td><td>59</td><td>62</td></tr><tr><td>male</td><td>group C</td><td>bachelor's degree</td><td>standard</td><td>completed</td><td>91</td><td>81</td><td>79</td></tr><tr><td>female</td><td>group B</td><td>some high school</td><td>standard</td><td>completed</td><td>32</td><td>51</td><td>44</td></tr><tr><td>female</td><td>group E</td><td>some high school</td><td>free/reduced</td><td>none</td><td>72</td><td>79</td><td>77</td></tr><tr><td>female</td><td>group B</td><td>some college</td><td>standard</td><td>none</td><td>19</td><td>38</td><td>32</td></tr><tr><td>male</td><td>group C</td><td>associate's degree</td><td>free/reduced</td><td>none</td><td>68</td><td>65</td><td>61</td></tr><tr><td>female</td><td>group C</td><td>master's degree</td><td>free/reduced</td><td>none</td><td>52</td><td>65</td><td>61</td></tr><tr><td>female</td><td>group B</td><td>high school</td><td>standard</td><td>none</td><td>48</td><td>62</td><td>60</td></tr><tr><td>female</td><td>group D</td><td>some college</td><td>free/reduced</td><td>none</td><td>60</td><td>66</td><td>70</td></tr><tr><td>male</td><td>group D</td><td>high school</td><td>free/reduced</td><td>none</td><td>66</td><td>74</td><td>69</td></tr><tr><td>male</td><td>group E</td><td>some high school</td><td>standard</td><td>completed</td><td>89</td><td>84</td><td>77</td></tr><tr><td>female</td><td>group B</td><td>high school</td><td>standard</td><td>none</td><td>42</td><td>52</td><td>51</td></tr><tr><td>female</td><td>group E</td><td>associate's degree</td><td>free/reduced</td><td>completed</td><td>57</td><td>68</td><td>73</td></tr><tr><td>male</td><td>group D</td><td>high school</td><td>standard</td><td>none</td><td>70</td><td>70</td><td>70</td></tr><tr><td>female</td><td>group E</td><td>associate's degree</td><td>free/reduced</td><td>none</td><td>70</td><td>84</td><td>81</td></tr><tr><td>male</td><td>group E</td><td>some college</td><td>standard</td><td>none</td><td>69</td><td>60</td><td>54</td></tr><tr><td>female</td><td>group C</td><td>associate's degree</td><td>standard</td><td>none</td><td>52</td><td>55</td><td>57</td></tr><tr><td>male</td><td>group C</td><td>some high school</td><td>standard</td><td>completed</td><td>67</td><td>73</td><td>68</td></tr><tr><td>male</td><td>group C</td><td>some high school</td><td>standard</td><td>completed</td><td>76</td><td>80</td><td>73</td></tr><tr><td>female</td><td>group E</td><td>associate's degree</td><td>standard</td><td>none</td><td>87</td><td>94</td><td>95</td></tr><tr><td>female</td><td>group B</td><td>some college</td><td>standard</td><td>none</td><td>82</td><td>85</td><td>87</td></tr><tr><td>female</td><td>group C</td><td>some college</td><td>standard</td><td>none</td><td>73</td><td>76</td><td>78</td></tr><tr><td>male</td><td>group A</td><td>some college</td><td>free/reduced</td><td>none</td><td>75</td><td>81</td><td>74</td></tr><tr><td>female</td><td>group D</td><td>some college</td><td>free/reduced</td><td>none</td><td>64</td><td>74</td><td>75</td></tr><tr><td>female</td><td>group E</td><td>high school</td><td>free/reduced</td><td>none</td><td>41</td><td>45</td><td>40</td></tr><tr><td>male</td><td>group C</td><td>high school</td><td>standard</td><td>none</td><td>90</td><td>75</td><td>69</td></tr><tr><td>male</td><td>group B</td><td>bachelor's degree</td><td>standard</td><td>none</td><td>59</td><td>54</td><td>51</td></tr><tr><td>male</td><td>group A</td><td>some high school</td><td>standard</td><td>none</td><td>51</td><td>31</td><td>36</td></tr><tr><td>male</td><td>group A</td><td>high school</td><td>free/reduced</td><td>none</td><td>45</td><td>47</td><td>49</td></tr><tr><td>female</td><td>group C</td><td>master's degree</td><td>standard</td><td>completed</td><td>54</td><td>64</td><td>67</td></tr><tr><td>male</td><td>group E</td><td>some high school</td><td>standard</td><td>completed</td><td>87</td><td>84</td><td>76</td></tr><tr><td>female</td><td>group C</td><td>high school</td><td>standard</td><td>none</td><td>72</td><td>80</td><td>83</td></tr><tr><td>male</td><td>group B</td><td>some high school</td><td>standard</td><td>completed</td><td>94</td><td>86</td><td>87</td></tr><tr><td>female</td><td>group A</td><td>bachelor's degree</td><td>standard</td><td>none</td><td>45</td><td>59</td><td>64</td></tr><tr><td>male</td><td>group D</td><td>bachelor's degree</td><td>free/reduced</td><td>completed</td><td>61</td><td>70</td><td>76</td></tr><tr><td>female</td><td>group B</td><td>high school</td><td>free/reduced</td><td>none</td><td>60</td><td>72</td><td>68</td></tr><tr><td>female</td><td>group C</td><td>some high school</td><td>standard</td><td>none</td><td>77</td><td>91</td><td>88</td></tr><tr><td>female</td><td>group A</td><td>some high school</td><td>standard</td><td>completed</td><td>85</td><td>90</td><td>92</td></tr><tr><td>female</td><td>group D</td><td>bachelor's degree</td><td>free/reduced</td><td>none</td><td>78</td><td>90</td><td>93</td></tr><tr><td>male</td><td>group E</td><td>some college</td><td>free/reduced</td><td>completed</td><td>49</td><td>52</td><td>51</td></tr><tr><td>female</td><td>group B</td><td>high school</td><td>free/reduced</td><td>none</td><td>71</td><td>87</td><td>82</td></tr><tr><td>female</td><td>group C</td><td>some high school</td><td>free/reduced</td><td>none</td><td>48</td><td>58</td><td>52</td></tr><tr><td>male</td><td>group C</td><td>high school</td><td>standard</td><td>none</td><td>62</td><td>67</td><td>58</td></tr><tr><td>female</td><td>group C</td><td>associate's degree</td><td>free/reduced</td><td>completed</td><td>56</td><td>68</td><td>70</td></tr><tr><td>female</td><td>group C</td><td>some high school</td><td>standard</td><td>none</td><td>65</td><td>69</td><td>76</td></tr><tr><td>female</td><td>group D</td><td>some high school</td><td>free/reduced</td><td>completed</td><td>69</td><td>86</td><td>81</td></tr><tr><td>male</td><td>group B</td><td>some high school</td><td>standard</td><td>none</td><td>68</td><td>54</td><td>53</td></tr><tr><td>female</td><td>group A</td><td>some college</td><td>free/reduced</td><td>none</td><td>61</td><td>60</td><td>57</td></tr><tr><td>female</td><td>group C</td><td>bachelor's degree</td><td>free/reduced</td><td>completed</td><td>74</td><td>86</td><td>89</td></tr><tr><td>male</td><td>group A</td><td>bachelor's degree</td><td>standard</td><td>none</td><td>64</td><td>60</td><td>58</td></tr><tr><td>female</td><td>group B</td><td>high school</td><td>standard</td><td>completed</td><td>77</td><td>82</td><td>89</td></tr><tr><td>male</td><td>group B</td><td>some college</td><td>standard</td><td>none</td><td>58</td><td>50</td><td>45</td></tr><tr><td>female</td><td>group C</td><td>high school</td><td>standard</td><td>completed</td><td>60</td><td>64</td><td>74</td></tr><tr><td>male</td><td>group E</td><td>high school</td><td>standard</td><td>none</td><td>73</td><td>64</td><td>57</td></tr><tr><td>female</td><td>group A</td><td>high school</td><td>standard</td><td>completed</td><td>75</td><td>82</td><td>79</td></tr><tr><td>male</td><td>group B</td><td>associate's degree</td><td>free/reduced</td><td>completed</td><td>58</td><td>57</td><td>53</td></tr><tr><td>female</td><td>group C</td><td>associate's degree</td><td>standard</td><td>none</td><td>66</td><td>77</td><td>73</td></tr><tr><td>female</td><td>group D</td><td>high school</td><td>free/reduced</td><td>none</td><td>39</td><td>52</td><td>46</td></tr><tr><td>male</td><td>group C</td><td>some high school</td><td>standard</td><td>none</td><td>64</td><td>58</td><td>51</td></tr><tr><td>female</td><td>group B</td><td>high school</td><td>free/reduced</td><td>completed</td><td>23</td><td>44</td><td>36</td></tr><tr><td>male</td><td>group B</td><td>some college</td><td>free/reduced</td><td>completed</td><td>74</td><td>77</td><td>76</td></tr><tr><td>female</td><td>group D</td><td>some high school</td><td>free/reduced</td><td>completed</td><td>40</td><td>65</td><td>64</td></tr><tr><td>male</td><td>group E</td><td>master's degree</td><td>standard</td><td>none</td><td>90</td><td>85</td><td>84</td></tr><tr><td>male</td><td>group C</td><td>master's degree</td><td>standard</td><td>completed</td><td>91</td><td>85</td><td>85</td></tr><tr><td>male</td><td>group D</td><td>high school</td><td>standard</td><td>none</td><td>64</td><td>54</td><td>50</td></tr><tr><td>female</td><td>group C</td><td>high school</td><td>standard</td><td>none</td><td>59</td><td>72</td><td>68</td></tr><tr><td>male</td><td>group D</td><td>associate's degree</td><td>standard</td><td>none</td><td>80</td><td>75</td><td>69</td></tr><tr><td>male</td><td>group C</td><td>master's degree</td><td>standard</td><td>none</td><td>71</td><td>67</td><td>67</td></tr><tr><td>female</td><td>group A</td><td>high school</td><td>standard</td><td>none</td><td>61</td><td>68</td><td>63</td></tr><tr><td>female</td><td>group E</td><td>some college</td><td>standard</td><td>none</td><td>87</td><td>85</td><td>93</td></tr><tr><td>male</td><td>group E</td><td>some high school</td><td>standard</td><td>none</td><td>82</td><td>67</td><td>61</td></tr><tr><td>male</td><td>group C</td><td>some high school</td><td>standard</td><td>none</td><td>62</td><td>64</td><td>55</td></tr><tr><td>female</td><td>group B</td><td>bachelor's degree</td><td>standard</td><td>none</td><td>97</td><td>97</td><td>96</td></tr><tr><td>male</td><td>group B</td><td>some college</td><td>free/reduced</td><td>none</td><td>75</td><td>68</td><td>65</td></tr><tr><td>female</td><td>group C</td><td>bachelor's degree</td><td>standard</td><td>none</td><td>65</td><td>79</td><td>81</td></tr><tr><td>male</td><td>group B</td><td>high school</td><td>standard</td><td>completed</td><td>52</td><td>49</td><td>46</td></tr><tr><td>male</td><td>group C</td><td>associate's degree</td><td>free/reduced</td><td>none</td><td>87</td><td>73</td><td>72</td></tr><tr><td>female</td><td>group C</td><td>associate's degree</td><td>standard</td><td>none</td><td>53</td><td>62</td><td>53</td></tr><tr><td>female</td><td>group E</td><td>master's degree</td><td>free/reduced</td><td>none</td><td>81</td><td>86</td><td>87</td></tr><tr><td>male</td><td>group D</td><td>bachelor's degree</td><td>free/reduced</td><td>completed</td><td>39</td><td>42</td><td>38</td></tr><tr><td>female</td><td>group C</td><td>some college</td><td>standard</td><td>completed</td><td>71</td><td>71</td><td>80</td></tr><tr><td>male</td><td>group C</td><td>associate's degree</td><td>standard</td><td>none</td><td>97</td><td>93</td><td>91</td></tr><tr><td>male</td><td>group D</td><td>some college</td><td>standard</td><td>completed</td><td>82</td><td>82</td><td>88</td></tr><tr><td>male</td><td>group C</td><td>high school</td><td>free/reduced</td><td>none</td><td>59</td><td>53</td><td>52</td></tr><tr><td>male</td><td>group B</td><td>associate's degree</td><td>standard</td><td>none</td><td>61</td><td>42</td><td>41</td></tr><tr><td>male</td><td>group E</td><td>associate's degree</td><td>free/reduced</td><td>completed</td><td>78</td><td>74</td><td>72</td></tr><tr><td>male</td><td>group C</td><td>associate's degree</td><td>free/reduced</td><td>none</td><td>49</td><td>51</td><td>51</td></tr><tr><td>male</td><td>group B</td><td>high school</td><td>standard</td><td>none</td><td>59</td><td>58</td><td>47</td></tr><tr><td>female</td><td>group C</td><td>some college</td><td>standard</td><td>completed</td><td>70</td><td>72</td><td>76</td></tr><tr><td>male</td><td>group B</td><td>associate's degree</td><td>standard</td><td>completed</td><td>82</td><td>84</td><td>78</td></tr><tr><td>male</td><td>group E</td><td>associate's degree</td><td>free/reduced</td><td>none</td><td>90</td><td>90</td><td>82</td></tr><tr><td>female</td><td>group C</td><td>bachelor's degree</td><td>free/reduced</td><td>none</td><td>43</td><td>62</td><td>61</td></tr><tr><td>male</td><td>group C</td><td>some college</td><td>free/reduced</td><td>none</td><td>80</td><td>64</td><td>66</td></tr><tr><td>male</td><td>group D</td><td>some college</td><td>standard</td><td>none</td><td>81</td><td>82</td><td>84</td></tr><tr><td>male</td><td>group C</td><td>some high school</td><td>standard</td><td>none</td><td>57</td><td>61</td><td>54</td></tr><tr><td>female</td><td>group D</td><td>some high school</td><td>standard</td><td>none</td><td>59</td><td>72</td><td>80</td></tr><tr><td>female</td><td>group D</td><td>associate's degree</td><td>standard</td><td>none</td><td>64</td><td>76</td><td>74</td></tr><tr><td>male</td><td>group C</td><td>bachelor's degree</td><td>standard</td><td>completed</td><td>63</td><td>64</td><td>66</td></tr><tr><td>female</td><td>group E</td><td>bachelor's degree</td><td>standard</td><td>completed</td><td>71</td><td>70</td><td>70</td></tr><tr><td>female</td><td>group B</td><td>high school</td><td>free/reduced</td><td>none</td><td>64</td><td>73</td><td>71</td></tr><tr><td>male</td><td>group D</td><td>bachelor's degree</td><td>free/reduced</td><td>none</td><td>55</td><td>46</td><td>44</td></tr><tr><td>female</td><td>group E</td><td>associate's degree</td><td>standard</td><td>none</td><td>51</td><td>51</td><td>54</td></tr><tr><td>female</td><td>group C</td><td>associate's degree</td><td>standard</td><td>completed</td><td>62</td><td>76</td><td>80</td></tr><tr><td>female</td><td>group E</td><td>associate's degree</td><td>standard</td><td>completed</td><td>93</td><td>100</td><td>95</td></tr><tr><td>male</td><td>group C</td><td>high school</td><td>free/reduced</td><td>none</td><td>54</td><td>72</td><td>59</td></tr><tr><td>female</td><td>group D</td><td>some college</td><td>free/reduced</td><td>none</td><td>69</td><td>65</td><td>74</td></tr><tr><td>male</td><td>group D</td><td>high school</td><td>free/reduced</td><td>none</td><td>44</td><td>51</td><td>48</td></tr><tr><td>female</td><td>group E</td><td>some college</td><td>standard</td><td>completed</td><td>86</td><td>85</td><td>91</td></tr><tr><td>female</td><td>group E</td><td>associate's degree</td><td>standard</td><td>none</td><td>85</td><td>92</td><td>85</td></tr><tr><td>female</td><td>group A</td><td>master's degree</td><td>free/reduced</td><td>none</td><td>50</td><td>67</td><td>73</td></tr><tr><td>male</td><td>group D</td><td>some high school</td><td>standard</td><td>completed</td><td>88</td><td>74</td><td>75</td></tr><tr><td>female</td><td>group E</td><td>associate's degree</td><td>standard</td><td>none</td><td>59</td><td>62</td><td>69</td></tr><tr><td>female</td><td>group E</td><td>some high school</td><td>free/reduced</td><td>none</td><td>32</td><td>34</td><td>38</td></tr><tr><td>male</td><td>group B</td><td>high school</td><td>free/reduced</td><td>none</td><td>36</td><td>29</td><td>27</td></tr><tr><td>female</td><td>group B</td><td>some high school</td><td>free/reduced</td><td>completed</td><td>63</td><td>78</td><td>79</td></tr><tr><td>male</td><td>group D</td><td>associate's degree</td><td>standard</td><td>completed</td><td>67</td><td>54</td><td>63</td></tr><tr><td>female</td><td>group D</td><td>some high school</td><td>standard</td><td>completed</td><td>65</td><td>78</td><td>82</td></tr><tr><td>male</td><td>group D</td><td>master's degree</td><td>standard</td><td>none</td><td>85</td><td>84</td><td>89</td></tr><tr><td>female</td><td>group C</td><td>master's degree</td><td>standard</td><td>none</td><td>73</td><td>78</td><td>74</td></tr><tr><td>female</td><td>group A</td><td>high school</td><td>free/reduced</td><td>completed</td><td>34</td><td>48</td><td>41</td></tr><tr><td>female</td><td>group D</td><td>bachelor's degree</td><td>free/reduced</td><td>completed</td><td>93</td><td>100</td><td>100</td></tr><tr><td>female</td><td>group D</td><td>some high school</td><td>free/reduced</td><td>none</td><td>67</td><td>84</td><td>84</td></tr><tr><td>male</td><td>group D</td><td>some college</td><td>standard</td><td>none</td><td>88</td><td>77</td><td>77</td></tr><tr><td>male</td><td>group B</td><td>high school</td><td>standard</td><td>none</td><td>57</td><td>48</td><td>51</td></tr><tr><td>female</td><td>group D</td><td>some college</td><td>standard</td><td>completed</td><td>79</td><td>84</td><td>91</td></tr><tr><td>female</td><td>group C</td><td>bachelor's degree</td><td>free/reduced</td><td>none</td><td>67</td><td>75</td><td>72</td></tr><tr><td>male</td><td>group E</td><td>bachelor's degree</td><td>standard</td><td>completed</td><td>70</td><td>64</td><td>70</td></tr><tr><td>male</td><td>group D</td><td>bachelor's degree</td><td>free/reduced</td><td>none</td><td>50</td><td>42</td><td>48</td></tr><tr><td>female</td><td>group A</td><td>some college</td><td>standard</td><td>none</td><td>69</td><td>84</td><td>82</td></tr><tr><td>female</td><td>group C</td><td>bachelor's degree</td><td>standard</td><td>completed</td><td>52</td><td>61</td><td>66</td></tr><tr><td>female</td><td>group C</td><td>bachelor's degree</td><td>free/reduced</td><td>completed</td><td>47</td><td>62</td><td>66</td></tr><tr><td>female</td><td>group B</td><td>associate's degree</td><td>free/reduced</td><td>none</td><td>46</td><td>61</td><td>55</td></tr><tr><td>female</td><td>group E</td><td>some college</td><td>standard</td><td>none</td><td>68</td><td>70</td><td>66</td></tr><tr><td>male</td><td>group E</td><td>bachelor's degree</td><td>standard</td><td>completed</td><td>100</td><td>100</td><td>100</td></tr><tr><td>female</td><td>group C</td><td>high school</td><td>standard</td><td>none</td><td>44</td><td>61</td><td>52</td></tr><tr><td>female</td><td>group C</td><td>associate's degree</td><td>standard</td><td>completed</td><td>57</td><td>77</td><td>80</td></tr><tr><td>male</td><td>group B</td><td>some college</td><td>standard</td><td>completed</td><td>91</td><td>96</td><td>91</td></tr><tr><td>male</td><td>group D</td><td>high school</td><td>free/reduced</td><td>none</td><td>69</td><td>70</td><td>67</td></tr><tr><td>female</td><td>group C</td><td>high school</td><td>free/reduced</td><td>none</td><td>35</td><td>53</td><td>46</td></tr><tr><td>male</td><td>group D</td><td>high school</td><td>standard</td><td>none</td><td>72</td><td>66</td><td>66</td></tr><tr><td>female</td><td>group B</td><td>associate's degree</td><td>free/reduced</td><td>none</td><td>54</td><td>65</td><td>65</td></tr><tr><td>male</td><td>group D</td><td>high school</td><td>free/reduced</td><td>none</td><td>74</td><td>70</td><td>69</td></tr><tr><td>male</td><td>group E</td><td>some high school</td><td>standard</td><td>completed</td><td>74</td><td>64</td><td>60</td></tr><tr><td>male</td><td>group E</td><td>associate's degree</td><td>free/reduced</td><td>none</td><td>64</td><td>56</td><td>52</td></tr><tr><td>female</td><td>group D</td><td>high school</td><td>free/reduced</td><td>completed</td><td>65</td><td>61</td><td>71</td></tr><tr><td>male</td><td>group E</td><td>associate's degree</td><td>free/reduced</td><td>completed</td><td>46</td><td>43</td><td>44</td></tr><tr><td>female</td><td>group C</td><td>some high school</td><td>free/reduced</td><td>none</td><td>48</td><td>56</td><td>51</td></tr><tr><td>male</td><td>group C</td><td>some college</td><td>free/reduced</td><td>completed</td><td>67</td><td>74</td><td>70</td></tr><tr><td>male</td><td>group D</td><td>some college</td><td>free/reduced</td><td>none</td><td>62</td><td>57</td><td>62</td></tr><tr><td>male</td><td>group D</td><td>associate's degree</td><td>free/reduced</td><td>completed</td><td>61</td><td>71</td><td>73</td></tr><tr><td>male</td><td>group C</td><td>bachelor's degree</td><td>free/reduced</td><td>completed</td><td>70</td><td>75</td><td>74</td></tr><tr><td>male</td><td>group C</td><td>associate's degree</td><td>standard</td><td>completed</td><td>98</td><td>87</td><td>90</td></tr><tr><td>male</td><td>group D</td><td>some college</td><td>free/reduced</td><td>none</td><td>70</td><td>63</td><td>58</td></tr><tr><td>male</td><td>group A</td><td>associate's degree</td><td>standard</td><td>none</td><td>67</td><td>57</td><td>53</td></tr><tr><td>female</td><td>group E</td><td>high school</td><td>free/reduced</td><td>none</td><td>57</td><td>58</td><td>57</td></tr><tr><td>male</td><td>group D</td><td>some college</td><td>standard</td><td>completed</td><td>85</td><td>81</td><td>85</td></tr><tr><td>male</td><td>group D</td><td>some high school</td><td>standard</td><td>completed</td><td>77</td><td>68</td><td>69</td></tr><tr><td>male</td><td>group C</td><td>master's degree</td><td>free/reduced</td><td>completed</td><td>72</td><td>66</td><td>72</td></tr><tr><td>female</td><td>group D</td><td>master's degree</td><td>standard</td><td>none</td><td>78</td><td>91</td><td>96</td></tr><tr><td>male</td><td>group C</td><td>high school</td><td>standard</td><td>none</td><td>81</td><td>66</td><td>64</td></tr><tr><td>male</td><td>group A</td><td>some high school</td><td>free/reduced</td><td>completed</td><td>61</td><td>62</td><td>61</td></tr><tr><td>female</td><td>group B</td><td>high school</td><td>standard</td><td>none</td><td>58</td><td>68</td><td>61</td></tr><tr><td>female</td><td>group C</td><td>associate's degree</td><td>standard</td><td>none</td><td>54</td><td>61</td><td>58</td></tr><tr><td>male</td><td>group B</td><td>high school</td><td>standard</td><td>none</td><td>82</td><td>82</td><td>80</td></tr><tr><td>female</td><td>group D</td><td>some college</td><td>free/reduced</td><td>none</td><td>49</td><td>58</td><td>60</td></tr><tr><td>male</td><td>group B</td><td>some high school</td><td>free/reduced</td><td>completed</td><td>49</td><td>50</td><td>52</td></tr><tr><td>female</td><td>group E</td><td>high school</td><td>free/reduced</td><td>completed</td><td>57</td><td>75</td><td>73</td></tr><tr><td>male</td><td>group E</td><td>high school</td><td>standard</td><td>none</td><td>94</td><td>73</td><td>71</td></tr><tr><td>female</td><td>group D</td><td>some college</td><td>standard</td><td>completed</td><td>75</td><td>77</td><td>83</td></tr><tr><td>female</td><td>group E</td><td>some high school</td><td>free/reduced</td><td>none</td><td>74</td><td>74</td><td>72</td></tr><tr><td>male</td><td>group C</td><td>high school</td><td>standard</td><td>completed</td><td>58</td><td>52</td><td>54</td></tr><tr><td>female</td><td>group C</td><td>some college</td><td>standard</td><td>none</td><td>62</td><td>69</td><td>69</td></tr><tr><td>male</td><td>group E</td><td>associate's degree</td><td>standard</td><td>none</td><td>72</td><td>57</td><td>62</td></tr><tr><td>male</td><td>group C</td><td>some college</td><td>standard</td><td>none</td><td>84</td><td>87</td><td>81</td></tr><tr><td>female</td><td>group D</td><td>master's degree</td><td>standard</td><td>none</td><td>92</td><td>100</td><td>100</td></tr><tr><td>female</td><td>group D</td><td>high school</td><td>standard</td><td>none</td><td>45</td><td>63</td><td>59</td></tr><tr><td>male</td><td>group C</td><td>high school</td><td>standard</td><td>none</td><td>75</td><td>81</td><td>71</td></tr><tr><td>female</td><td>group A</td><td>some college</td><td>standard</td><td>none</td><td>56</td><td>58</td><td>64</td></tr><tr><td>female</td><td>group D</td><td>some high school</td><td>free/reduced</td><td>none</td><td>48</td><td>54</td><td>53</td></tr><tr><td>female</td><td>group E</td><td>associate's degree</td><td>standard</td><td>none</td><td>100</td><td>100</td><td>100</td></tr><tr><td>female</td><td>group C</td><td>some high school</td><td>free/reduced</td><td>completed</td><td>65</td><td>76</td><td>75</td></tr><tr><td>male</td><td>group D</td><td>some college</td><td>standard</td><td>none</td><td>72</td><td>57</td><td>58</td></tr><tr><td>female</td><td>group D</td><td>some college</td><td>standard</td><td>none</td><td>62</td><td>70</td><td>72</td></tr><tr><td>male</td><td>group A</td><td>some high school</td><td>standard</td><td>completed</td><td>66</td><td>68</td><td>64</td></tr><tr><td>male</td><td>group C</td><td>some college</td><td>standard</td><td>none</td><td>63</td><td>63</td><td>60</td></tr><tr><td>female</td><td>group E</td><td>associate's degree</td><td>standard</td><td>none</td><td>68</td><td>76</td><td>67</td></tr><tr><td>female</td><td>group B</td><td>bachelor's degree</td><td>standard</td><td>none</td><td>75</td><td>84</td><td>80</td></tr><tr><td>female</td><td>group D</td><td>bachelor's degree</td><td>standard</td><td>none</td><td>89</td><td>100</td><td>100</td></tr><tr><td>male</td><td>group C</td><td>some high school</td><td>standard</td><td>completed</td><td>78</td><td>72</td><td>69</td></tr><tr><td>female</td><td>group A</td><td>high school</td><td>free/reduced</td><td>completed</td><td>53</td><td>50</td><td>60</td></tr><tr><td>female</td><td>group D</td><td>some college</td><td>free/reduced</td><td>none</td><td>49</td><td>65</td><td>61</td></tr><tr><td>female</td><td>group A</td><td>some college</td><td>standard</td><td>none</td><td>54</td><td>63</td><td>67</td></tr><tr><td>female</td><td>group C</td><td>some college</td><td>standard</td><td>completed</td><td>64</td><td>82</td><td>77</td></tr><tr><td>male</td><td>group B</td><td>some college</td><td>free/reduced</td><td>completed</td><td>60</td><td>62</td><td>60</td></tr><tr><td>male</td><td>group C</td><td>associate's degree</td><td>standard</td><td>none</td><td>62</td><td>65</td><td>58</td></tr><tr><td>male</td><td>group D</td><td>high school</td><td>standard</td><td>completed</td><td>55</td><td>41</td><td>48</td></tr><tr><td>female</td><td>group C</td><td>associate's degree</td><td>standard</td><td>none</td><td>91</td><td>95</td><td>94</td></tr><tr><td>female</td><td>group B</td><td>high school</td><td>free/reduced</td><td>none</td><td>8</td><td>24</td><td>23</td></tr><tr><td>male</td><td>group D</td><td>some high school</td><td>standard</td><td>none</td><td>81</td><td>78</td><td>78</td></tr><tr><td>male</td><td>group B</td><td>some high school</td><td>standard</td><td>completed</td><td>79</td><td>85</td><td>86</td></tr><tr><td>female</td><td>group A</td><td>some college</td><td>standard</td><td>completed</td><td>78</td><td>87</td><td>91</td></tr><tr><td>female</td><td>group C</td><td>some high school</td><td>standard</td><td>none</td><td>74</td><td>75</td><td>82</td></tr><tr><td>male</td><td>group A</td><td>high school</td><td>standard</td><td>none</td><td>57</td><td>51</td><td>54</td></tr><tr><td>female</td><td>group C</td><td>associate's degree</td><td>standard</td><td>none</td><td>40</td><td>59</td><td>51</td></tr><tr><td>male</td><td>group E</td><td>some high school</td><td>standard</td><td>completed</td><td>81</td><td>75</td><td>76</td></tr><tr><td>female</td><td>group A</td><td>some high school</td><td>free/reduced</td><td>none</td><td>44</td><td>45</td><td>45</td></tr><tr><td>female</td><td>group D</td><td>some college</td><td>free/reduced</td><td>completed</td><td>67</td><td>86</td><td>83</td></tr><tr><td>male</td><td>group E</td><td>high school</td><td>free/reduced</td><td>completed</td><td>86</td><td>81</td><td>75</td></tr><tr><td>female</td><td>group B</td><td>some high school</td><td>standard</td><td>completed</td><td>65</td><td>82</td><td>78</td></tr><tr><td>female</td><td>group D</td><td>associate's degree</td><td>free/reduced</td><td>none</td><td>55</td><td>76</td><td>76</td></tr><tr><td>female</td><td>group D</td><td>bachelor's degree</td><td>free/reduced</td><td>none</td><td>62</td><td>72</td><td>74</td></tr><tr><td>male</td><td>group A</td><td>high school</td><td>standard</td><td>none</td><td>63</td><td>63</td><td>62</td></tr><tr><td>female</td><td>group E</td><td>master's degree</td><td>standard</td><td>completed</td><td>88</td><td>99</td><td>95</td></tr><tr><td>male</td><td>group C</td><td>high school</td><td>free/reduced</td><td>none</td><td>62</td><td>55</td><td>55</td></tr><tr><td>female</td><td>group C</td><td>high school</td><td>free/reduced</td><td>completed</td><td>59</td><td>71</td><td>65</td></tr><tr><td>female</td><td>group D</td><td>some college</td><td>standard</td><td>completed</td><td>68</td><td>78</td><td>77</td></tr><tr><td>female</td><td>group D</td><td>some college</td><td>free/reduced</td><td>none</td><td>77</td><td>86</td><td>86</td></tr></tbody></table></div>"
      ]
     },
     "metadata": {
      "application/vnd.databricks.v1+output": {
       "addedWidgets": {},
       "aggData": [],
       "aggError": "",
       "aggOverflow": false,
       "aggSchema": [],
       "aggSeriesLimitReached": false,
       "aggType": "",
       "arguments": {},
       "columnCustomDisplayInfos": {},
       "data": [
        [
         "female",
         "group B",
         "bachelor's degree",
         "standard",
         "none",
         "72",
         "72",
         "74"
        ],
        [
         "female",
         "group C",
         "some college",
         "standard",
         "completed",
         "69",
         "90",
         "88"
        ],
        [
         "female",
         "group B",
         "master's degree",
         "standard",
         "none",
         "90",
         "95",
         "93"
        ],
        [
         "male",
         "group A",
         "associate's degree",
         "free/reduced",
         "none",
         "47",
         "57",
         "44"
        ],
        [
         "male",
         "group C",
         "some college",
         "standard",
         "none",
         "76",
         "78",
         "75"
        ],
        [
         "female",
         "group B",
         "associate's degree",
         "standard",
         "none",
         "71",
         "83",
         "78"
        ],
        [
         "female",
         "group B",
         "some college",
         "standard",
         "completed",
         "88",
         "95",
         "92"
        ],
        [
         "male",
         "group B",
         "some college",
         "free/reduced",
         "none",
         "40",
         "43",
         "39"
        ],
        [
         "male",
         "group D",
         "high school",
         "free/reduced",
         "completed",
         "64",
         "64",
         "67"
        ],
        [
         "female",
         "group B",
         "high school",
         "free/reduced",
         "none",
         "38",
         "60",
         "50"
        ],
        [
         "male",
         "group C",
         "associate's degree",
         "standard",
         "none",
         "58",
         "54",
         "52"
        ],
        [
         "male",
         "group D",
         "associate's degree",
         "standard",
         "none",
         "40",
         "52",
         "43"
        ],
        [
         "female",
         "group B",
         "high school",
         "standard",
         "none",
         "65",
         "81",
         "73"
        ],
        [
         "male",
         "group A",
         "some college",
         "standard",
         "completed",
         "78",
         "72",
         "70"
        ],
        [
         "female",
         "group A",
         "master's degree",
         "standard",
         "none",
         "50",
         "53",
         "58"
        ],
        [
         "female",
         "group C",
         "some high school",
         "standard",
         "none",
         "69",
         "75",
         "78"
        ],
        [
         "male",
         "group C",
         "high school",
         "standard",
         "none",
         "88",
         "89",
         "86"
        ],
        [
         "female",
         "group B",
         "some high school",
         "free/reduced",
         "none",
         "18",
         "32",
         "28"
        ],
        [
         "male",
         "group C",
         "master's degree",
         "free/reduced",
         "completed",
         "46",
         "42",
         "46"
        ],
        [
         "female",
         "group C",
         "associate's degree",
         "free/reduced",
         "none",
         "54",
         "58",
         "61"
        ],
        [
         "male",
         "group D",
         "high school",
         "standard",
         "none",
         "66",
         "69",
         "63"
        ],
        [
         "female",
         "group B",
         "some college",
         "free/reduced",
         "completed",
         "65",
         "75",
         "70"
        ],
        [
         "male",
         "group D",
         "some college",
         "standard",
         "none",
         "44",
         "54",
         "53"
        ],
        [
         "female",
         "group C",
         "some high school",
         "standard",
         "none",
         "69",
         "73",
         "73"
        ],
        [
         "male",
         "group D",
         "bachelor's degree",
         "free/reduced",
         "completed",
         "74",
         "71",
         "80"
        ],
        [
         "male",
         "group A",
         "master's degree",
         "free/reduced",
         "none",
         "73",
         "74",
         "72"
        ],
        [
         "male",
         "group B",
         "some college",
         "standard",
         "none",
         "69",
         "54",
         "55"
        ],
        [
         "female",
         "group C",
         "bachelor's degree",
         "standard",
         "none",
         "67",
         "69",
         "75"
        ],
        [
         "male",
         "group C",
         "high school",
         "standard",
         "none",
         "70",
         "70",
         "65"
        ],
        [
         "female",
         "group D",
         "master's degree",
         "standard",
         "none",
         "62",
         "70",
         "75"
        ],
        [
         "female",
         "group D",
         "some college",
         "standard",
         "none",
         "69",
         "74",
         "74"
        ],
        [
         "female",
         "group B",
         "some college",
         "standard",
         "none",
         "63",
         "65",
         "61"
        ],
        [
         "female",
         "group E",
         "master's degree",
         "free/reduced",
         "none",
         "56",
         "72",
         "65"
        ],
        [
         "male",
         "group D",
         "some college",
         "standard",
         "none",
         "40",
         "42",
         "38"
        ],
        [
         "male",
         "group E",
         "some college",
         "standard",
         "none",
         "97",
         "87",
         "82"
        ],
        [
         "male",
         "group E",
         "associate's degree",
         "standard",
         "completed",
         "81",
         "81",
         "79"
        ],
        [
         "female",
         "group D",
         "associate's degree",
         "standard",
         "none",
         "74",
         "81",
         "83"
        ],
        [
         "female",
         "group D",
         "some high school",
         "free/reduced",
         "none",
         "50",
         "64",
         "59"
        ],
        [
         "female",
         "group D",
         "associate's degree",
         "free/reduced",
         "completed",
         "75",
         "90",
         "88"
        ],
        [
         "male",
         "group B",
         "associate's degree",
         "free/reduced",
         "none",
         "57",
         "56",
         "57"
        ],
        [
         "male",
         "group C",
         "associate's degree",
         "free/reduced",
         "none",
         "55",
         "61",
         "54"
        ],
        [
         "female",
         "group C",
         "associate's degree",
         "standard",
         "none",
         "58",
         "73",
         "68"
        ],
        [
         "female",
         "group B",
         "associate's degree",
         "standard",
         "none",
         "53",
         "58",
         "65"
        ],
        [
         "male",
         "group B",
         "some college",
         "free/reduced",
         "completed",
         "59",
         "65",
         "66"
        ],
        [
         "female",
         "group E",
         "associate's degree",
         "free/reduced",
         "none",
         "50",
         "56",
         "54"
        ],
        [
         "male",
         "group B",
         "associate's degree",
         "standard",
         "none",
         "65",
         "54",
         "57"
        ],
        [
         "female",
         "group A",
         "associate's degree",
         "standard",
         "completed",
         "55",
         "65",
         "62"
        ],
        [
         "female",
         "group C",
         "high school",
         "standard",
         "none",
         "66",
         "71",
         "76"
        ],
        [
         "female",
         "group D",
         "associate's degree",
         "free/reduced",
         "completed",
         "57",
         "74",
         "76"
        ],
        [
         "male",
         "group C",
         "high school",
         "standard",
         "completed",
         "82",
         "84",
         "82"
        ],
        [
         "male",
         "group E",
         "some college",
         "standard",
         "none",
         "53",
         "55",
         "48"
        ],
        [
         "male",
         "group E",
         "associate's degree",
         "free/reduced",
         "completed",
         "77",
         "69",
         "68"
        ],
        [
         "male",
         "group C",
         "some college",
         "standard",
         "none",
         "53",
         "44",
         "42"
        ],
        [
         "male",
         "group D",
         "high school",
         "standard",
         "none",
         "88",
         "78",
         "75"
        ],
        [
         "female",
         "group C",
         "some high school",
         "free/reduced",
         "completed",
         "71",
         "84",
         "87"
        ],
        [
         "female",
         "group C",
         "high school",
         "free/reduced",
         "none",
         "33",
         "41",
         "43"
        ],
        [
         "female",
         "group E",
         "associate's degree",
         "standard",
         "completed",
         "82",
         "85",
         "86"
        ],
        [
         "male",
         "group D",
         "associate's degree",
         "standard",
         "none",
         "52",
         "55",
         "49"
        ],
        [
         "male",
         "group D",
         "some college",
         "standard",
         "completed",
         "58",
         "59",
         "58"
        ],
        [
         "female",
         "group C",
         "some high school",
         "free/reduced",
         "none",
         "0",
         "17",
         "10"
        ],
        [
         "male",
         "group E",
         "bachelor's degree",
         "free/reduced",
         "completed",
         "79",
         "74",
         "72"
        ],
        [
         "male",
         "group A",
         "some high school",
         "free/reduced",
         "none",
         "39",
         "39",
         "34"
        ],
        [
         "male",
         "group A",
         "associate's degree",
         "free/reduced",
         "none",
         "62",
         "61",
         "55"
        ],
        [
         "female",
         "group C",
         "associate's degree",
         "standard",
         "none",
         "69",
         "80",
         "71"
        ],
        [
         "female",
         "group D",
         "some high school",
         "standard",
         "none",
         "59",
         "58",
         "59"
        ],
        [
         "male",
         "group B",
         "some high school",
         "standard",
         "none",
         "67",
         "64",
         "61"
        ],
        [
         "male",
         "group D",
         "some high school",
         "free/reduced",
         "none",
         "45",
         "37",
         "37"
        ],
        [
         "female",
         "group C",
         "some college",
         "standard",
         "none",
         "60",
         "72",
         "74"
        ],
        [
         "male",
         "group B",
         "associate's degree",
         "free/reduced",
         "none",
         "61",
         "58",
         "56"
        ],
        [
         "female",
         "group C",
         "associate's degree",
         "standard",
         "none",
         "39",
         "64",
         "57"
        ],
        [
         "female",
         "group D",
         "some college",
         "free/reduced",
         "completed",
         "58",
         "63",
         "73"
        ],
        [
         "male",
         "group D",
         "some college",
         "standard",
         "completed",
         "63",
         "55",
         "63"
        ],
        [
         "female",
         "group A",
         "associate's degree",
         "free/reduced",
         "none",
         "41",
         "51",
         "48"
        ],
        [
         "male",
         "group C",
         "some high school",
         "free/reduced",
         "none",
         "61",
         "57",
         "56"
        ],
        [
         "male",
         "group C",
         "some high school",
         "standard",
         "none",
         "49",
         "49",
         "41"
        ],
        [
         "male",
         "group B",
         "associate's degree",
         "free/reduced",
         "none",
         "44",
         "41",
         "38"
        ],
        [
         "male",
         "group E",
         "some high school",
         "standard",
         "none",
         "30",
         "26",
         "22"
        ],
        [
         "male",
         "group A",
         "bachelor's degree",
         "standard",
         "completed",
         "80",
         "78",
         "81"
        ],
        [
         "female",
         "group D",
         "some high school",
         "standard",
         "completed",
         "61",
         "74",
         "72"
        ],
        [
         "female",
         "group E",
         "master's degree",
         "standard",
         "none",
         "62",
         "68",
         "68"
        ],
        [
         "female",
         "group B",
         "associate's degree",
         "standard",
         "none",
         "47",
         "49",
         "50"
        ],
        [
         "male",
         "group B",
         "high school",
         "free/reduced",
         "none",
         "49",
         "45",
         "45"
        ],
        [
         "male",
         "group A",
         "some college",
         "free/reduced",
         "completed",
         "50",
         "47",
         "54"
        ],
        [
         "male",
         "group E",
         "associate's degree",
         "standard",
         "none",
         "72",
         "64",
         "63"
        ],
        [
         "male",
         "group D",
         "high school",
         "free/reduced",
         "none",
         "42",
         "39",
         "34"
        ],
        [
         "female",
         "group C",
         "some college",
         "standard",
         "none",
         "73",
         "80",
         "82"
        ],
        [
         "female",
         "group C",
         "some college",
         "free/reduced",
         "none",
         "76",
         "83",
         "88"
        ],
        [
         "female",
         "group D",
         "associate's degree",
         "standard",
         "none",
         "71",
         "71",
         "74"
        ],
        [
         "female",
         "group A",
         "some college",
         "standard",
         "none",
         "58",
         "70",
         "67"
        ],
        [
         "female",
         "group D",
         "some high school",
         "standard",
         "none",
         "73",
         "86",
         "82"
        ],
        [
         "female",
         "group C",
         "bachelor's degree",
         "standard",
         "none",
         "65",
         "72",
         "74"
        ],
        [
         "male",
         "group C",
         "high school",
         "free/reduced",
         "none",
         "27",
         "34",
         "36"
        ],
        [
         "male",
         "group C",
         "high school",
         "standard",
         "none",
         "71",
         "79",
         "71"
        ],
        [
         "male",
         "group C",
         "associate's degree",
         "free/reduced",
         "completed",
         "43",
         "45",
         "50"
        ],
        [
         "female",
         "group B",
         "some college",
         "standard",
         "none",
         "79",
         "86",
         "92"
        ],
        [
         "male",
         "group C",
         "associate's degree",
         "free/reduced",
         "completed",
         "78",
         "81",
         "82"
        ],
        [
         "male",
         "group B",
         "some high school",
         "standard",
         "completed",
         "65",
         "66",
         "62"
        ],
        [
         "female",
         "group E",
         "some college",
         "standard",
         "completed",
         "63",
         "72",
         "70"
        ],
        [
         "female",
         "group D",
         "some college",
         "free/reduced",
         "none",
         "58",
         "67",
         "62"
        ],
        [
         "female",
         "group D",
         "bachelor's degree",
         "standard",
         "none",
         "65",
         "67",
         "62"
        ],
        [
         "male",
         "group B",
         "some college",
         "standard",
         "none",
         "79",
         "67",
         "67"
        ],
        [
         "male",
         "group D",
         "bachelor's degree",
         "standard",
         "completed",
         "68",
         "74",
         "74"
        ],
        [
         "female",
         "group D",
         "associate's degree",
         "standard",
         "none",
         "85",
         "91",
         "89"
        ],
        [
         "male",
         "group B",
         "high school",
         "standard",
         "completed",
         "60",
         "44",
         "47"
        ],
        [
         "male",
         "group C",
         "some college",
         "standard",
         "completed",
         "98",
         "86",
         "90"
        ],
        [
         "female",
         "group C",
         "some college",
         "standard",
         "none",
         "58",
         "67",
         "72"
        ],
        [
         "female",
         "group D",
         "master's degree",
         "standard",
         "none",
         "87",
         "100",
         "100"
        ],
        [
         "male",
         "group E",
         "associate's degree",
         "standard",
         "completed",
         "66",
         "63",
         "64"
        ],
        [
         "female",
         "group B",
         "associate's degree",
         "free/reduced",
         "none",
         "52",
         "76",
         "70"
        ],
        [
         "female",
         "group B",
         "some high school",
         "standard",
         "none",
         "70",
         "64",
         "72"
        ],
        [
         "female",
         "group D",
         "associate's degree",
         "free/reduced",
         "completed",
         "77",
         "89",
         "98"
        ],
        [
         "male",
         "group C",
         "high school",
         "standard",
         "none",
         "62",
         "55",
         "49"
        ],
        [
         "male",
         "group A",
         "associate's degree",
         "standard",
         "none",
         "54",
         "53",
         "47"
        ],
        [
         "female",
         "group D",
         "some college",
         "standard",
         "none",
         "51",
         "58",
         "54"
        ],
        [
         "female",
         "group E",
         "bachelor's degree",
         "standard",
         "completed",
         "99",
         "100",
         "100"
        ],
        [
         "male",
         "group C",
         "high school",
         "standard",
         "none",
         "84",
         "77",
         "74"
        ],
        [
         "female",
         "group B",
         "bachelor's degree",
         "free/reduced",
         "none",
         "75",
         "85",
         "82"
        ],
        [
         "female",
         "group D",
         "bachelor's degree",
         "standard",
         "none",
         "78",
         "82",
         "79"
        ],
        [
         "female",
         "group D",
         "some high school",
         "standard",
         "none",
         "51",
         "63",
         "61"
        ],
        [
         "female",
         "group C",
         "some college",
         "standard",
         "none",
         "55",
         "69",
         "65"
        ],
        [
         "female",
         "group C",
         "bachelor's degree",
         "standard",
         "completed",
         "79",
         "92",
         "89"
        ],
        [
         "male",
         "group B",
         "associate's degree",
         "standard",
         "completed",
         "91",
         "89",
         "92"
        ],
        [
         "female",
         "group C",
         "some college",
         "standard",
         "completed",
         "88",
         "93",
         "93"
        ],
        [
         "male",
         "group D",
         "high school",
         "free/reduced",
         "none",
         "63",
         "57",
         "56"
        ],
        [
         "male",
         "group E",
         "some college",
         "standard",
         "none",
         "83",
         "80",
         "73"
        ],
        [
         "female",
         "group B",
         "high school",
         "standard",
         "none",
         "87",
         "95",
         "86"
        ],
        [
         "male",
         "group B",
         "some high school",
         "standard",
         "none",
         "72",
         "68",
         "67"
        ],
        [
         "male",
         "group D",
         "some college",
         "standard",
         "completed",
         "65",
         "77",
         "74"
        ],
        [
         "male",
         "group D",
         "master's degree",
         "standard",
         "none",
         "82",
         "82",
         "74"
        ],
        [
         "female",
         "group A",
         "bachelor's degree",
         "standard",
         "none",
         "51",
         "49",
         "51"
        ],
        [
         "male",
         "group D",
         "master's degree",
         "standard",
         "none",
         "89",
         "84",
         "82"
        ],
        [
         "male",
         "group C",
         "some high school",
         "free/reduced",
         "completed",
         "53",
         "37",
         "40"
        ],
        [
         "male",
         "group E",
         "some college",
         "free/reduced",
         "completed",
         "87",
         "74",
         "70"
        ],
        [
         "female",
         "group C",
         "some college",
         "standard",
         "completed",
         "75",
         "81",
         "84"
        ],
        [
         "male",
         "group D",
         "bachelor's degree",
         "free/reduced",
         "completed",
         "74",
         "79",
         "75"
        ],
        [
         "male",
         "group C",
         "bachelor's degree",
         "standard",
         "none",
         "58",
         "55",
         "48"
        ],
        [
         "male",
         "group B",
         "some high school",
         "standard",
         "completed",
         "51",
         "54",
         "41"
        ],
        [
         "male",
         "group E",
         "high school",
         "standard",
         "none",
         "70",
         "55",
         "56"
        ],
        [
         "female",
         "group C",
         "associate's degree",
         "standard",
         "none",
         "59",
         "66",
         "67"
        ],
        [
         "male",
         "group D",
         "some college",
         "standard",
         "completed",
         "71",
         "61",
         "69"
        ],
        [
         "female",
         "group D",
         "some high school",
         "standard",
         "none",
         "76",
         "72",
         "71"
        ],
        [
         "female",
         "group C",
         "some college",
         "free/reduced",
         "none",
         "59",
         "62",
         "64"
        ],
        [
         "female",
         "group E",
         "some college",
         "free/reduced",
         "completed",
         "42",
         "55",
         "54"
        ],
        [
         "male",
         "group A",
         "high school",
         "standard",
         "none",
         "57",
         "43",
         "47"
        ],
        [
         "male",
         "group D",
         "some college",
         "standard",
         "none",
         "88",
         "73",
         "78"
        ],
        [
         "female",
         "group C",
         "some college",
         "free/reduced",
         "none",
         "22",
         "39",
         "33"
        ],
        [
         "male",
         "group B",
         "some high school",
         "standard",
         "none",
         "88",
         "84",
         "75"
        ],
        [
         "male",
         "group C",
         "associate's degree",
         "free/reduced",
         "none",
         "73",
         "68",
         "66"
        ],
        [
         "female",
         "group D",
         "bachelor's degree",
         "standard",
         "completed",
         "68",
         "75",
         "81"
        ],
        [
         "male",
         "group E",
         "associate's degree",
         "free/reduced",
         "completed",
         "100",
         "100",
         "93"
        ],
        [
         "male",
         "group A",
         "some high school",
         "standard",
         "completed",
         "62",
         "67",
         "69"
        ],
        [
         "male",
         "group A",
         "bachelor's degree",
         "standard",
         "none",
         "77",
         "67",
         "68"
        ],
        [
         "female",
         "group B",
         "associate's degree",
         "standard",
         "completed",
         "59",
         "70",
         "66"
        ],
        [
         "male",
         "group D",
         "bachelor's degree",
         "standard",
         "none",
         "54",
         "49",
         "47"
        ],
        [
         "male",
         "group D",
         "some high school",
         "standard",
         "none",
         "62",
         "67",
         "61"
        ],
        [
         "female",
         "group C",
         "some college",
         "standard",
         "completed",
         "70",
         "89",
         "88"
        ],
        [
         "female",
         "group E",
         "high school",
         "free/reduced",
         "completed",
         "66",
         "74",
         "78"
        ],
        [
         "male",
         "group B",
         "some college",
         "free/reduced",
         "none",
         "60",
         "60",
         "60"
        ],
        [
         "female",
         "group B",
         "associate's degree",
         "standard",
         "completed",
         "61",
         "86",
         "87"
        ],
        [
         "male",
         "group D",
         "associate's degree",
         "free/reduced",
         "none",
         "66",
         "62",
         "64"
        ],
        [
         "male",
         "group B",
         "associate's degree",
         "free/reduced",
         "completed",
         "82",
         "78",
         "74"
        ],
        [
         "female",
         "group E",
         "some college",
         "free/reduced",
         "completed",
         "75",
         "88",
         "85"
        ],
        [
         "male",
         "group B",
         "master's degree",
         "free/reduced",
         "none",
         "49",
         "53",
         "52"
        ],
        [
         "male",
         "group C",
         "high school",
         "standard",
         "none",
         "52",
         "53",
         "49"
        ],
        [
         "female",
         "group E",
         "master's degree",
         "standard",
         "none",
         "81",
         "92",
         "91"
        ],
        [
         "female",
         "group C",
         "bachelor's degree",
         "standard",
         "completed",
         "96",
         "100",
         "100"
        ],
        [
         "male",
         "group C",
         "high school",
         "free/reduced",
         "completed",
         "53",
         "51",
         "51"
        ],
        [
         "female",
         "group B",
         "master's degree",
         "free/reduced",
         "completed",
         "58",
         "76",
         "78"
        ],
        [
         "female",
         "group B",
         "high school",
         "standard",
         "completed",
         "68",
         "83",
         "78"
        ],
        [
         "female",
         "group C",
         "some college",
         "free/reduced",
         "completed",
         "67",
         "75",
         "70"
        ],
        [
         "male",
         "group A",
         "high school",
         "standard",
         "completed",
         "72",
         "73",
         "74"
        ],
        [
         "male",
         "group E",
         "some high school",
         "standard",
         "none",
         "94",
         "88",
         "78"
        ],
        [
         "female",
         "group D",
         "some college",
         "standard",
         "none",
         "79",
         "86",
         "81"
        ],
        [
         "female",
         "group C",
         "associate's degree",
         "standard",
         "none",
         "63",
         "67",
         "70"
        ],
        [
         "female",
         "group C",
         "bachelor's degree",
         "free/reduced",
         "completed",
         "43",
         "51",
         "54"
        ],
        [
         "female",
         "group C",
         "master's degree",
         "standard",
         "completed",
         "81",
         "91",
         "87"
        ],
        [
         "female",
         "group B",
         "high school",
         "free/reduced",
         "completed",
         "46",
         "54",
         "58"
        ],
        [
         "female",
         "group C",
         "associate's degree",
         "standard",
         "completed",
         "71",
         "77",
         "77"
        ],
        [
         "female",
         "group B",
         "master's degree",
         "free/reduced",
         "completed",
         "52",
         "70",
         "62"
        ],
        [
         "female",
         "group D",
         "some high school",
         "standard",
         "completed",
         "97",
         "100",
         "100"
        ],
        [
         "male",
         "group C",
         "master's degree",
         "free/reduced",
         "completed",
         "62",
         "68",
         "75"
        ],
        [
         "female",
         "group C",
         "some college",
         "free/reduced",
         "none",
         "46",
         "64",
         "66"
        ],
        [
         "female",
         "group E",
         "high school",
         "standard",
         "none",
         "50",
         "50",
         "47"
        ],
        [
         "female",
         "group D",
         "associate's degree",
         "standard",
         "none",
         "65",
         "69",
         "70"
        ],
        [
         "male",
         "group C",
         "some high school",
         "free/reduced",
         "completed",
         "45",
         "52",
         "49"
        ],
        [
         "male",
         "group C",
         "associate's degree",
         "free/reduced",
         "completed",
         "65",
         "67",
         "65"
        ],
        [
         "male",
         "group E",
         "high school",
         "standard",
         "none",
         "80",
         "76",
         "65"
        ],
        [
         "male",
         "group D",
         "some high school",
         "standard",
         "completed",
         "62",
         "66",
         "68"
        ],
        [
         "male",
         "group B",
         "some high school",
         "free/reduced",
         "none",
         "48",
         "52",
         "45"
        ],
        [
         "female",
         "group C",
         "bachelor's degree",
         "standard",
         "none",
         "77",
         "88",
         "87"
        ],
        [
         "female",
         "group E",
         "associate's degree",
         "standard",
         "none",
         "66",
         "65",
         "69"
        ],
        [
         "male",
         "group D",
         "some college",
         "standard",
         "completed",
         "76",
         "83",
         "79"
        ],
        [
         "female",
         "group B",
         "some high school",
         "standard",
         "none",
         "62",
         "64",
         "66"
        ],
        [
         "male",
         "group D",
         "some college",
         "standard",
         "completed",
         "77",
         "62",
         "62"
        ],
        [
         "female",
         "group C",
         "master's degree",
         "standard",
         "completed",
         "69",
         "84",
         "85"
        ],
        [
         "male",
         "group D",
         "associate's degree",
         "standard",
         "none",
         "61",
         "55",
         "52"
        ],
        [
         "male",
         "group C",
         "some high school",
         "free/reduced",
         "completed",
         "59",
         "69",
         "65"
        ],
        [
         "male",
         "group E",
         "high school",
         "free/reduced",
         "none",
         "55",
         "56",
         "51"
        ],
        [
         "female",
         "group B",
         "some college",
         "free/reduced",
         "none",
         "45",
         "53",
         "55"
        ],
        [
         "female",
         "group B",
         "bachelor's degree",
         "free/reduced",
         "none",
         "78",
         "79",
         "76"
        ],
        [
         "female",
         "group C",
         "associate's degree",
         "standard",
         "completed",
         "67",
         "84",
         "86"
        ],
        [
         "female",
         "group D",
         "some college",
         "free/reduced",
         "none",
         "65",
         "81",
         "77"
        ],
        [
         "male",
         "group C",
         "associate's degree",
         "standard",
         "none",
         "69",
         "77",
         "69"
        ],
        [
         "female",
         "group B",
         "associate's degree",
         "standard",
         "none",
         "57",
         "69",
         "68"
        ],
        [
         "male",
         "group C",
         "some college",
         "standard",
         "none",
         "59",
         "41",
         "42"
        ],
        [
         "male",
         "group D",
         "some high school",
         "standard",
         "completed",
         "74",
         "71",
         "78"
        ],
        [
         "male",
         "group E",
         "bachelor's degree",
         "standard",
         "none",
         "82",
         "62",
         "62"
        ],
        [
         "male",
         "group E",
         "high school",
         "standard",
         "completed",
         "81",
         "80",
         "76"
        ],
        [
         "female",
         "group B",
         "some college",
         "free/reduced",
         "none",
         "74",
         "81",
         "76"
        ],
        [
         "female",
         "group B",
         "some college",
         "free/reduced",
         "none",
         "58",
         "61",
         "66"
        ],
        [
         "male",
         "group D",
         "some high school",
         "free/reduced",
         "completed",
         "80",
         "79",
         "79"
        ],
        [
         "male",
         "group C",
         "some college",
         "free/reduced",
         "none",
         "35",
         "28",
         "27"
        ],
        [
         "female",
         "group C",
         "high school",
         "free/reduced",
         "none",
         "42",
         "62",
         "60"
        ],
        [
         "male",
         "group C",
         "associate's degree",
         "free/reduced",
         "completed",
         "60",
         "51",
         "56"
        ],
        [
         "male",
         "group E",
         "high school",
         "standard",
         "completed",
         "87",
         "91",
         "81"
        ],
        [
         "male",
         "group B",
         "some high school",
         "standard",
         "completed",
         "84",
         "83",
         "75"
        ],
        [
         "female",
         "group E",
         "associate's degree",
         "free/reduced",
         "completed",
         "83",
         "86",
         "88"
        ],
        [
         "female",
         "group C",
         "high school",
         "free/reduced",
         "none",
         "34",
         "42",
         "39"
        ],
        [
         "male",
         "group B",
         "high school",
         "free/reduced",
         "none",
         "66",
         "77",
         "70"
        ],
        [
         "male",
         "group B",
         "some high school",
         "standard",
         "completed",
         "61",
         "56",
         "56"
        ],
        [
         "female",
         "group D",
         "high school",
         "standard",
         "completed",
         "56",
         "68",
         "74"
        ],
        [
         "male",
         "group B",
         "associate's degree",
         "standard",
         "none",
         "87",
         "85",
         "73"
        ],
        [
         "female",
         "group C",
         "some high school",
         "free/reduced",
         "none",
         "55",
         "65",
         "62"
        ],
        [
         "male",
         "group D",
         "some high school",
         "standard",
         "none",
         "86",
         "80",
         "75"
        ],
        [
         "female",
         "group B",
         "associate's degree",
         "standard",
         "completed",
         "52",
         "66",
         "73"
        ],
        [
         "female",
         "group E",
         "master's degree",
         "free/reduced",
         "none",
         "45",
         "56",
         "54"
        ],
        [
         "female",
         "group C",
         "some college",
         "standard",
         "none",
         "72",
         "72",
         "71"
        ],
        [
         "male",
         "group D",
         "high school",
         "standard",
         "none",
         "57",
         "50",
         "54"
        ],
        [
         "male",
         "group A",
         "some high school",
         "free/reduced",
         "none",
         "68",
         "72",
         "64"
        ],
        [
         "female",
         "group C",
         "some college",
         "standard",
         "completed",
         "88",
         "95",
         "94"
        ],
        [
         "male",
         "group D",
         "some college",
         "standard",
         "none",
         "76",
         "64",
         "66"
        ],
        [
         "male",
         "group C",
         "associate's degree",
         "standard",
         "none",
         "46",
         "43",
         "42"
        ],
        [
         "female",
         "group B",
         "bachelor's degree",
         "standard",
         "none",
         "67",
         "86",
         "83"
        ],
        [
         "male",
         "group E",
         "some high school",
         "standard",
         "none",
         "92",
         "87",
         "78"
        ],
        [
         "male",
         "group C",
         "bachelor's degree",
         "standard",
         "completed",
         "83",
         "82",
         "84"
        ],
        [
         "male",
         "group D",
         "associate's degree",
         "standard",
         "none",
         "80",
         "75",
         "77"
        ],
        [
         "male",
         "group D",
         "bachelor's degree",
         "free/reduced",
         "none",
         "63",
         "66",
         "67"
        ],
        [
         "female",
         "group D",
         "some high school",
         "standard",
         "completed",
         "64",
         "60",
         "74"
        ],
        [
         "male",
         "group B",
         "some college",
         "standard",
         "none",
         "54",
         "52",
         "51"
        ],
        [
         "male",
         "group C",
         "associate's degree",
         "standard",
         "none",
         "84",
         "80",
         "80"
        ],
        [
         "male",
         "group D",
         "high school",
         "free/reduced",
         "completed",
         "73",
         "68",
         "66"
        ],
        [
         "female",
         "group E",
         "bachelor's degree",
         "standard",
         "none",
         "80",
         "83",
         "83"
        ],
        [
         "female",
         "group D",
         "high school",
         "standard",
         "none",
         "56",
         "52",
         "55"
        ],
        [
         "male",
         "group E",
         "some college",
         "standard",
         "none",
         "59",
         "51",
         "43"
        ],
        [
         "male",
         "group D",
         "some high school",
         "standard",
         "none",
         "75",
         "74",
         "69"
        ],
        [
         "male",
         "group C",
         "associate's degree",
         "standard",
         "none",
         "85",
         "76",
         "71"
        ],
        [
         "male",
         "group E",
         "associate's degree",
         "standard",
         "none",
         "89",
         "76",
         "74"
        ],
        [
         "female",
         "group B",
         "high school",
         "standard",
         "completed",
         "58",
         "70",
         "68"
        ],
        [
         "female",
         "group B",
         "high school",
         "standard",
         "none",
         "65",
         "64",
         "62"
        ],
        [
         "male",
         "group C",
         "high school",
         "standard",
         "none",
         "68",
         "60",
         "53"
        ],
        [
         "male",
         "group A",
         "some high school",
         "standard",
         "completed",
         "47",
         "49",
         "49"
        ],
        [
         "female",
         "group D",
         "some college",
         "free/reduced",
         "none",
         "71",
         "83",
         "83"
        ],
        [
         "female",
         "group B",
         "some high school",
         "standard",
         "completed",
         "60",
         "70",
         "70"
        ],
        [
         "male",
         "group D",
         "master's degree",
         "standard",
         "none",
         "80",
         "80",
         "72"
        ],
        [
         "male",
         "group D",
         "high school",
         "standard",
         "none",
         "54",
         "52",
         "52"
        ],
        [
         "female",
         "group E",
         "some college",
         "standard",
         "none",
         "62",
         "73",
         "70"
        ],
        [
         "female",
         "group C",
         "associate's degree",
         "free/reduced",
         "none",
         "64",
         "73",
         "68"
        ],
        [
         "male",
         "group C",
         "associate's degree",
         "standard",
         "completed",
         "78",
         "77",
         "77"
        ],
        [
         "female",
         "group B",
         "some college",
         "standard",
         "none",
         "70",
         "75",
         "78"
        ],
        [
         "female",
         "group C",
         "master's degree",
         "free/reduced",
         "completed",
         "65",
         "81",
         "81"
        ],
        [
         "female",
         "group C",
         "some high school",
         "free/reduced",
         "completed",
         "64",
         "79",
         "77"
        ],
        [
         "male",
         "group C",
         "some college",
         "standard",
         "completed",
         "79",
         "79",
         "78"
        ],
        [
         "female",
         "group C",
         "some high school",
         "free/reduced",
         "none",
         "44",
         "50",
         "51"
        ],
        [
         "female",
         "group E",
         "high school",
         "standard",
         "none",
         "99",
         "93",
         "90"
        ],
        [
         "male",
         "group D",
         "high school",
         "standard",
         "none",
         "76",
         "73",
         "68"
        ],
        [
         "male",
         "group D",
         "some high school",
         "free/reduced",
         "none",
         "59",
         "42",
         "41"
        ],
        [
         "female",
         "group C",
         "bachelor's degree",
         "standard",
         "none",
         "63",
         "75",
         "81"
        ],
        [
         "female",
         "group D",
         "high school",
         "standard",
         "none",
         "69",
         "72",
         "77"
        ],
        [
         "female",
         "group D",
         "associate's degree",
         "standard",
         "completed",
         "88",
         "92",
         "95"
        ],
        [
         "female",
         "group E",
         "some college",
         "free/reduced",
         "none",
         "71",
         "76",
         "70"
        ],
        [
         "male",
         "group C",
         "bachelor's degree",
         "standard",
         "none",
         "69",
         "63",
         "61"
        ],
        [
         "male",
         "group C",
         "some college",
         "standard",
         "none",
         "58",
         "49",
         "42"
        ],
        [
         "female",
         "group D",
         "associate's degree",
         "free/reduced",
         "none",
         "47",
         "53",
         "58"
        ],
        [
         "female",
         "group D",
         "some college",
         "standard",
         "none",
         "65",
         "70",
         "71"
        ],
        [
         "male",
         "group B",
         "some college",
         "standard",
         "completed",
         "88",
         "85",
         "76"
        ],
        [
         "male",
         "group C",
         "bachelor's degree",
         "standard",
         "none",
         "83",
         "78",
         "73"
        ],
        [
         "female",
         "group C",
         "some high school",
         "standard",
         "completed",
         "85",
         "92",
         "93"
        ],
        [
         "female",
         "group E",
         "high school",
         "standard",
         "completed",
         "59",
         "63",
         "75"
        ],
        [
         "female",
         "group C",
         "some high school",
         "free/reduced",
         "none",
         "65",
         "86",
         "80"
        ],
        [
         "male",
         "group B",
         "bachelor's degree",
         "free/reduced",
         "none",
         "73",
         "56",
         "57"
        ],
        [
         "male",
         "group D",
         "high school",
         "standard",
         "none",
         "53",
         "52",
         "42"
        ],
        [
         "male",
         "group D",
         "high school",
         "standard",
         "none",
         "45",
         "48",
         "46"
        ],
        [
         "female",
         "group D",
         "bachelor's degree",
         "free/reduced",
         "none",
         "73",
         "79",
         "84"
        ],
        [
         "female",
         "group D",
         "some college",
         "free/reduced",
         "completed",
         "70",
         "78",
         "78"
        ],
        [
         "female",
         "group B",
         "some high school",
         "standard",
         "none",
         "37",
         "46",
         "46"
        ],
        [
         "male",
         "group B",
         "associate's degree",
         "standard",
         "completed",
         "81",
         "82",
         "82"
        ],
        [
         "male",
         "group E",
         "associate's degree",
         "standard",
         "completed",
         "97",
         "82",
         "88"
        ],
        [
         "female",
         "group B",
         "some high school",
         "standard",
         "none",
         "67",
         "89",
         "82"
        ],
        [
         "male",
         "group B",
         "bachelor's degree",
         "free/reduced",
         "none",
         "88",
         "75",
         "76"
        ],
        [
         "male",
         "group E",
         "some high school",
         "standard",
         "completed",
         "77",
         "76",
         "77"
        ],
        [
         "male",
         "group C",
         "associate's degree",
         "standard",
         "none",
         "76",
         "70",
         "68"
        ],
        [
         "male",
         "group D",
         "some high school",
         "standard",
         "none",
         "86",
         "73",
         "70"
        ],
        [
         "male",
         "group C",
         "some high school",
         "standard",
         "completed",
         "63",
         "60",
         "57"
        ],
        [
         "female",
         "group E",
         "bachelor's degree",
         "standard",
         "none",
         "65",
         "73",
         "75"
        ],
        [
         "male",
         "group D",
         "high school",
         "free/reduced",
         "completed",
         "78",
         "77",
         "80"
        ],
        [
         "male",
         "group B",
         "associate's degree",
         "free/reduced",
         "none",
         "67",
         "62",
         "60"
        ],
        [
         "male",
         "group A",
         "some high school",
         "standard",
         "completed",
         "46",
         "41",
         "43"
        ],
        [
         "male",
         "group E",
         "associate's degree",
         "standard",
         "completed",
         "71",
         "74",
         "68"
        ],
        [
         "male",
         "group C",
         "high school",
         "free/reduced",
         "completed",
         "40",
         "46",
         "50"
        ],
        [
         "male",
         "group D",
         "associate's degree",
         "free/reduced",
         "none",
         "90",
         "87",
         "75"
        ],
        [
         "male",
         "group A",
         "some college",
         "free/reduced",
         "completed",
         "81",
         "78",
         "81"
        ],
        [
         "male",
         "group D",
         "some high school",
         "free/reduced",
         "none",
         "56",
         "54",
         "52"
        ],
        [
         "female",
         "group C",
         "associate's degree",
         "standard",
         "completed",
         "67",
         "84",
         "81"
        ],
        [
         "male",
         "group B",
         "associate's degree",
         "standard",
         "none",
         "80",
         "76",
         "64"
        ],
        [
         "female",
         "group C",
         "associate's degree",
         "standard",
         "completed",
         "74",
         "75",
         "83"
        ],
        [
         "male",
         "group A",
         "some college",
         "standard",
         "none",
         "69",
         "67",
         "69"
        ],
        [
         "male",
         "group E",
         "some college",
         "standard",
         "completed",
         "99",
         "87",
         "81"
        ],
        [
         "male",
         "group C",
         "some high school",
         "standard",
         "none",
         "51",
         "52",
         "44"
        ],
        [
         "female",
         "group B",
         "associate's degree",
         "free/reduced",
         "none",
         "53",
         "71",
         "67"
        ],
        [
         "female",
         "group D",
         "high school",
         "free/reduced",
         "none",
         "49",
         "57",
         "52"
        ],
        [
         "female",
         "group B",
         "associate's degree",
         "standard",
         "none",
         "73",
         "76",
         "80"
        ],
        [
         "male",
         "group B",
         "bachelor's degree",
         "standard",
         "none",
         "66",
         "60",
         "57"
        ],
        [
         "male",
         "group D",
         "bachelor's degree",
         "standard",
         "completed",
         "67",
         "61",
         "68"
        ],
        [
         "female",
         "group C",
         "associate's degree",
         "free/reduced",
         "completed",
         "68",
         "67",
         "69"
        ],
        [
         "female",
         "group C",
         "bachelor's degree",
         "standard",
         "completed",
         "59",
         "64",
         "75"
        ],
        [
         "male",
         "group C",
         "high school",
         "standard",
         "none",
         "71",
         "66",
         "65"
        ],
        [
         "female",
         "group D",
         "master's degree",
         "standard",
         "completed",
         "77",
         "82",
         "91"
        ],
        [
         "male",
         "group C",
         "associate's degree",
         "standard",
         "none",
         "83",
         "72",
         "78"
        ],
        [
         "male",
         "group B",
         "bachelor's degree",
         "standard",
         "none",
         "63",
         "71",
         "69"
        ],
        [
         "female",
         "group D",
         "associate's degree",
         "free/reduced",
         "none",
         "56",
         "65",
         "63"
        ],
        [
         "female",
         "group C",
         "high school",
         "free/reduced",
         "completed",
         "67",
         "79",
         "84"
        ],
        [
         "female",
         "group E",
         "high school",
         "standard",
         "none",
         "75",
         "86",
         "79"
        ],
        [
         "female",
         "group C",
         "some college",
         "standard",
         "none",
         "71",
         "81",
         "80"
        ],
        [
         "female",
         "group C",
         "some high school",
         "free/reduced",
         "none",
         "43",
         "53",
         "53"
        ],
        [
         "female",
         "group C",
         "high school",
         "free/reduced",
         "none",
         "41",
         "46",
         "43"
        ],
        [
         "female",
         "group C",
         "some college",
         "standard",
         "none",
         "82",
         "90",
         "94"
        ],
        [
         "male",
         "group C",
         "some college",
         "standard",
         "none",
         "61",
         "61",
         "62"
        ],
        [
         "male",
         "group A",
         "some college",
         "free/reduced",
         "none",
         "28",
         "23",
         "19"
        ],
        [
         "male",
         "group C",
         "associate's degree",
         "standard",
         "completed",
         "82",
         "75",
         "77"
        ],
        [
         "female",
         "group B",
         "some high school",
         "standard",
         "none",
         "41",
         "55",
         "51"
        ],
        [
         "male",
         "group C",
         "high school",
         "standard",
         "none",
         "71",
         "60",
         "61"
        ],
        [
         "male",
         "group C",
         "associate's degree",
         "standard",
         "none",
         "47",
         "37",
         "35"
        ],
        [
         "male",
         "group E",
         "associate's degree",
         "standard",
         "completed",
         "62",
         "56",
         "53"
        ],
        [
         "male",
         "group B",
         "associate's degree",
         "standard",
         "none",
         "90",
         "78",
         "81"
        ],
        [
         "female",
         "group C",
         "bachelor's degree",
         "standard",
         "none",
         "83",
         "93",
         "95"
        ],
        [
         "female",
         "group B",
         "some college",
         "free/reduced",
         "none",
         "61",
         "68",
         "66"
        ],
        [
         "male",
         "group D",
         "some high school",
         "standard",
         "completed",
         "76",
         "70",
         "69"
        ],
        [
         "male",
         "group C",
         "associate's degree",
         "standard",
         "none",
         "49",
         "51",
         "43"
        ],
        [
         "female",
         "group B",
         "some high school",
         "free/reduced",
         "none",
         "24",
         "38",
         "27"
        ],
        [
         "female",
         "group D",
         "some high school",
         "free/reduced",
         "completed",
         "35",
         "55",
         "60"
        ],
        [
         "male",
         "group C",
         "high school",
         "free/reduced",
         "none",
         "58",
         "61",
         "52"
        ],
        [
         "female",
         "group C",
         "high school",
         "standard",
         "none",
         "61",
         "73",
         "63"
        ],
        [
         "female",
         "group B",
         "high school",
         "standard",
         "completed",
         "69",
         "76",
         "74"
        ],
        [
         "male",
         "group D",
         "associate's degree",
         "standard",
         "completed",
         "67",
         "72",
         "67"
        ],
        [
         "male",
         "group D",
         "some college",
         "standard",
         "none",
         "79",
         "73",
         "67"
        ],
        [
         "female",
         "group C",
         "high school",
         "standard",
         "none",
         "72",
         "80",
         "75"
        ],
        [
         "male",
         "group B",
         "some college",
         "standard",
         "none",
         "62",
         "61",
         "57"
        ],
        [
         "female",
         "group C",
         "bachelor's degree",
         "standard",
         "completed",
         "77",
         "94",
         "95"
        ],
        [
         "male",
         "group D",
         "high school",
         "free/reduced",
         "none",
         "75",
         "74",
         "66"
        ],
        [
         "male",
         "group E",
         "associate's degree",
         "standard",
         "none",
         "87",
         "74",
         "76"
        ],
        [
         "female",
         "group B",
         "bachelor's degree",
         "standard",
         "none",
         "52",
         "65",
         "69"
        ],
        [
         "male",
         "group E",
         "some college",
         "standard",
         "none",
         "66",
         "57",
         "52"
        ],
        [
         "female",
         "group C",
         "some college",
         "standard",
         "completed",
         "63",
         "78",
         "80"
        ],
        [
         "female",
         "group C",
         "associate's degree",
         "standard",
         "none",
         "46",
         "58",
         "57"
        ],
        [
         "female",
         "group C",
         "some college",
         "standard",
         "none",
         "59",
         "71",
         "70"
        ],
        [
         "female",
         "group B",
         "bachelor's degree",
         "standard",
         "none",
         "61",
         "72",
         "70"
        ],
        [
         "male",
         "group A",
         "associate's degree",
         "standard",
         "none",
         "63",
         "61",
         "61"
        ],
        [
         "female",
         "group C",
         "some college",
         "free/reduced",
         "completed",
         "42",
         "66",
         "69"
        ],
        [
         "male",
         "group D",
         "some college",
         "free/reduced",
         "none",
         "59",
         "62",
         "61"
        ],
        [
         "female",
         "group D",
         "some college",
         "standard",
         "none",
         "80",
         "90",
         "89"
        ],
        [
         "female",
         "group B",
         "high school",
         "standard",
         "none",
         "58",
         "62",
         "59"
        ],
        [
         "male",
         "group B",
         "some high school",
         "standard",
         "completed",
         "85",
         "84",
         "78"
        ],
        [
         "female",
         "group C",
         "some college",
         "standard",
         "none",
         "52",
         "58",
         "58"
        ],
        [
         "female",
         "group D",
         "some high school",
         "free/reduced",
         "none",
         "27",
         "34",
         "32"
        ],
        [
         "male",
         "group C",
         "some college",
         "standard",
         "none",
         "59",
         "60",
         "58"
        ],
        [
         "male",
         "group A",
         "bachelor's degree",
         "free/reduced",
         "completed",
         "49",
         "58",
         "60"
        ],
        [
         "male",
         "group C",
         "high school",
         "standard",
         "completed",
         "69",
         "58",
         "53"
        ],
        [
         "male",
         "group C",
         "bachelor's degree",
         "free/reduced",
         "none",
         "61",
         "66",
         "61"
        ],
        [
         "female",
         "group A",
         "some high school",
         "free/reduced",
         "none",
         "44",
         "64",
         "58"
        ],
        [
         "female",
         "group D",
         "some high school",
         "standard",
         "none",
         "73",
         "84",
         "85"
        ],
        [
         "male",
         "group E",
         "some college",
         "standard",
         "none",
         "84",
         "77",
         "71"
        ],
        [
         "female",
         "group C",
         "some college",
         "free/reduced",
         "completed",
         "45",
         "73",
         "70"
        ],
        [
         "male",
         "group D",
         "some high school",
         "standard",
         "none",
         "74",
         "74",
         "72"
        ],
        [
         "female",
         "group D",
         "some college",
         "standard",
         "completed",
         "82",
         "97",
         "96"
        ],
        [
         "female",
         "group D",
         "bachelor's degree",
         "standard",
         "none",
         "59",
         "70",
         "73"
        ],
        [
         "male",
         "group E",
         "associate's degree",
         "free/reduced",
         "none",
         "46",
         "43",
         "41"
        ],
        [
         "female",
         "group D",
         "some high school",
         "standard",
         "none",
         "80",
         "90",
         "82"
        ],
        [
         "female",
         "group D",
         "master's degree",
         "free/reduced",
         "completed",
         "85",
         "95",
         "100"
        ],
        [
         "female",
         "group A",
         "some high school",
         "standard",
         "none",
         "71",
         "83",
         "77"
        ],
        [
         "male",
         "group A",
         "bachelor's degree",
         "standard",
         "none",
         "66",
         "64",
         "62"
        ],
        [
         "female",
         "group B",
         "associate's degree",
         "standard",
         "none",
         "80",
         "86",
         "83"
        ],
        [
         "male",
         "group C",
         "associate's degree",
         "standard",
         "completed",
         "87",
         "100",
         "95"
        ],
        [
         "male",
         "group C",
         "master's degree",
         "free/reduced",
         "none",
         "79",
         "81",
         "71"
        ],
        [
         "female",
         "group E",
         "some high school",
         "free/reduced",
         "none",
         "38",
         "49",
         "45"
        ],
        [
         "female",
         "group A",
         "some high school",
         "free/reduced",
         "none",
         "38",
         "43",
         "43"
        ],
        [
         "female",
         "group E",
         "some college",
         "standard",
         "none",
         "67",
         "76",
         "75"
        ],
        [
         "female",
         "group E",
         "bachelor's degree",
         "standard",
         "none",
         "64",
         "73",
         "70"
        ],
        [
         "female",
         "group C",
         "associate's degree",
         "free/reduced",
         "none",
         "57",
         "78",
         "67"
        ],
        [
         "female",
         "group D",
         "high school",
         "standard",
         "none",
         "62",
         "64",
         "64"
        ],
        [
         "male",
         "group D",
         "master's degree",
         "standard",
         "none",
         "73",
         "70",
         "75"
        ],
        [
         "male",
         "group E",
         "some high school",
         "free/reduced",
         "completed",
         "73",
         "67",
         "59"
        ],
        [
         "female",
         "group D",
         "some college",
         "standard",
         "none",
         "77",
         "68",
         "77"
        ],
        [
         "male",
         "group E",
         "some college",
         "standard",
         "none",
         "76",
         "67",
         "67"
        ],
        [
         "male",
         "group C",
         "associate's degree",
         "standard",
         "completed",
         "57",
         "54",
         "56"
        ],
        [
         "female",
         "group C",
         "some high school",
         "standard",
         "completed",
         "65",
         "74",
         "77"
        ],
        [
         "male",
         "group A",
         "high school",
         "free/reduced",
         "none",
         "48",
         "45",
         "41"
        ],
        [
         "female",
         "group B",
         "high school",
         "free/reduced",
         "none",
         "50",
         "67",
         "63"
        ],
        [
         "female",
         "group C",
         "associate's degree",
         "standard",
         "none",
         "85",
         "89",
         "95"
        ],
        [
         "male",
         "group B",
         "some high school",
         "standard",
         "none",
         "74",
         "63",
         "57"
        ],
        [
         "male",
         "group D",
         "some high school",
         "standard",
         "none",
         "60",
         "59",
         "54"
        ],
        [
         "female",
         "group C",
         "some high school",
         "standard",
         "completed",
         "59",
         "54",
         "67"
        ],
        [
         "male",
         "group A",
         "some college",
         "standard",
         "none",
         "53",
         "43",
         "43"
        ],
        [
         "female",
         "group A",
         "some college",
         "free/reduced",
         "none",
         "49",
         "65",
         "55"
        ],
        [
         "female",
         "group D",
         "high school",
         "standard",
         "completed",
         "88",
         "99",
         "100"
        ],
        [
         "female",
         "group C",
         "high school",
         "standard",
         "none",
         "54",
         "59",
         "62"
        ],
        [
         "female",
         "group C",
         "some high school",
         "standard",
         "none",
         "63",
         "73",
         "68"
        ],
        [
         "male",
         "group B",
         "associate's degree",
         "standard",
         "completed",
         "65",
         "65",
         "63"
        ],
        [
         "female",
         "group B",
         "associate's degree",
         "standard",
         "none",
         "82",
         "80",
         "77"
        ],
        [
         "female",
         "group D",
         "high school",
         "free/reduced",
         "completed",
         "52",
         "57",
         "56"
        ],
        [
         "male",
         "group D",
         "associate's degree",
         "standard",
         "completed",
         "87",
         "84",
         "85"
        ],
        [
         "female",
         "group D",
         "master's degree",
         "standard",
         "completed",
         "70",
         "71",
         "74"
        ],
        [
         "male",
         "group E",
         "some college",
         "standard",
         "completed",
         "84",
         "83",
         "78"
        ],
        [
         "male",
         "group D",
         "associate's degree",
         "standard",
         "none",
         "71",
         "66",
         "60"
        ],
        [
         "male",
         "group B",
         "some high school",
         "standard",
         "completed",
         "63",
         "67",
         "67"
        ],
        [
         "female",
         "group C",
         "bachelor's degree",
         "free/reduced",
         "completed",
         "51",
         "72",
         "79"
        ],
        [
         "male",
         "group E",
         "high school",
         "standard",
         "none",
         "84",
         "73",
         "69"
        ],
        [
         "male",
         "group C",
         "bachelor's degree",
         "standard",
         "completed",
         "71",
         "74",
         "68"
        ],
        [
         "male",
         "group C",
         "associate's degree",
         "standard",
         "none",
         "74",
         "73",
         "67"
        ],
        [
         "male",
         "group D",
         "some college",
         "standard",
         "none",
         "68",
         "59",
         "62"
        ],
        [
         "male",
         "group E",
         "high school",
         "free/reduced",
         "completed",
         "57",
         "56",
         "54"
        ],
        [
         "female",
         "group C",
         "associate's degree",
         "free/reduced",
         "completed",
         "82",
         "93",
         "93"
        ],
        [
         "female",
         "group D",
         "high school",
         "standard",
         "completed",
         "57",
         "58",
         "64"
        ],
        [
         "female",
         "group D",
         "master's degree",
         "free/reduced",
         "completed",
         "47",
         "58",
         "67"
        ],
        [
         "female",
         "group A",
         "some high school",
         "standard",
         "completed",
         "59",
         "85",
         "80"
        ],
        [
         "male",
         "group B",
         "some college",
         "free/reduced",
         "none",
         "41",
         "39",
         "34"
        ],
        [
         "female",
         "group C",
         "some college",
         "free/reduced",
         "none",
         "62",
         "67",
         "62"
        ],
        [
         "male",
         "group C",
         "bachelor's degree",
         "standard",
         "none",
         "86",
         "83",
         "86"
        ],
        [
         "male",
         "group C",
         "some high school",
         "free/reduced",
         "none",
         "69",
         "71",
         "65"
        ],
        [
         "male",
         "group A",
         "some high school",
         "free/reduced",
         "none",
         "65",
         "59",
         "53"
        ],
        [
         "male",
         "group C",
         "some high school",
         "free/reduced",
         "none",
         "68",
         "63",
         "54"
        ],
        [
         "male",
         "group C",
         "associate's degree",
         "free/reduced",
         "none",
         "64",
         "66",
         "59"
        ],
        [
         "female",
         "group C",
         "high school",
         "standard",
         "none",
         "61",
         "72",
         "70"
        ],
        [
         "male",
         "group C",
         "high school",
         "standard",
         "none",
         "61",
         "56",
         "55"
        ],
        [
         "female",
         "group A",
         "some high school",
         "free/reduced",
         "none",
         "47",
         "59",
         "50"
        ],
        [
         "male",
         "group C",
         "some high school",
         "standard",
         "none",
         "73",
         "66",
         "66"
        ],
        [
         "male",
         "group C",
         "some college",
         "free/reduced",
         "completed",
         "50",
         "48",
         "53"
        ],
        [
         "male",
         "group D",
         "associate's degree",
         "standard",
         "none",
         "75",
         "68",
         "64"
        ],
        [
         "male",
         "group D",
         "associate's degree",
         "free/reduced",
         "none",
         "75",
         "66",
         "73"
        ],
        [
         "male",
         "group C",
         "high school",
         "standard",
         "none",
         "70",
         "56",
         "51"
        ],
        [
         "male",
         "group D",
         "some high school",
         "standard",
         "completed",
         "89",
         "88",
         "82"
        ],
        [
         "female",
         "group C",
         "some college",
         "standard",
         "completed",
         "67",
         "81",
         "79"
        ],
        [
         "female",
         "group D",
         "high school",
         "standard",
         "none",
         "78",
         "81",
         "80"
        ],
        [
         "female",
         "group A",
         "some high school",
         "free/reduced",
         "none",
         "59",
         "73",
         "69"
        ],
        [
         "female",
         "group B",
         "associate's degree",
         "standard",
         "none",
         "73",
         "83",
         "76"
        ],
        [
         "male",
         "group A",
         "some high school",
         "free/reduced",
         "none",
         "79",
         "82",
         "73"
        ],
        [
         "female",
         "group C",
         "some high school",
         "standard",
         "completed",
         "67",
         "74",
         "77"
        ],
        [
         "male",
         "group D",
         "some college",
         "free/reduced",
         "none",
         "69",
         "66",
         "60"
        ],
        [
         "male",
         "group C",
         "high school",
         "standard",
         "completed",
         "86",
         "81",
         "80"
        ],
        [
         "male",
         "group B",
         "high school",
         "standard",
         "none",
         "47",
         "46",
         "42"
        ],
        [
         "male",
         "group B",
         "associate's degree",
         "standard",
         "none",
         "81",
         "73",
         "72"
        ],
        [
         "female",
         "group C",
         "some college",
         "free/reduced",
         "completed",
         "64",
         "85",
         "85"
        ],
        [
         "female",
         "group E",
         "some college",
         "standard",
         "none",
         "100",
         "92",
         "97"
        ],
        [
         "female",
         "group C",
         "associate's degree",
         "free/reduced",
         "none",
         "65",
         "77",
         "74"
        ],
        [
         "male",
         "group C",
         "some college",
         "free/reduced",
         "none",
         "65",
         "58",
         "49"
        ],
        [
         "female",
         "group C",
         "associate's degree",
         "free/reduced",
         "none",
         "53",
         "61",
         "62"
        ],
        [
         "male",
         "group C",
         "bachelor's degree",
         "free/reduced",
         "none",
         "37",
         "56",
         "47"
        ],
        [
         "female",
         "group D",
         "bachelor's degree",
         "standard",
         "none",
         "79",
         "89",
         "89"
        ],
        [
         "male",
         "group D",
         "associate's degree",
         "free/reduced",
         "none",
         "53",
         "54",
         "48"
        ],
        [
         "female",
         "group E",
         "bachelor's degree",
         "standard",
         "none",
         "100",
         "100",
         "100"
        ],
        [
         "male",
         "group B",
         "high school",
         "standard",
         "completed",
         "72",
         "65",
         "68"
        ],
        [
         "male",
         "group C",
         "bachelor's degree",
         "free/reduced",
         "none",
         "53",
         "58",
         "55"
        ],
        [
         "male",
         "group B",
         "some college",
         "free/reduced",
         "none",
         "54",
         "54",
         "45"
        ],
        [
         "female",
         "group E",
         "some college",
         "standard",
         "none",
         "71",
         "70",
         "76"
        ],
        [
         "female",
         "group C",
         "some college",
         "free/reduced",
         "none",
         "77",
         "90",
         "91"
        ],
        [
         "male",
         "group A",
         "bachelor's degree",
         "standard",
         "completed",
         "75",
         "58",
         "62"
        ],
        [
         "female",
         "group C",
         "some college",
         "standard",
         "none",
         "84",
         "87",
         "91"
        ],
        [
         "female",
         "group D",
         "associate's degree",
         "free/reduced",
         "none",
         "26",
         "31",
         "38"
        ],
        [
         "male",
         "group A",
         "high school",
         "free/reduced",
         "completed",
         "72",
         "67",
         "65"
        ],
        [
         "female",
         "group A",
         "high school",
         "free/reduced",
         "completed",
         "77",
         "88",
         "85"
        ],
        [
         "male",
         "group C",
         "some college",
         "standard",
         "none",
         "91",
         "74",
         "76"
        ],
        [
         "female",
         "group C",
         "associate's degree",
         "standard",
         "completed",
         "83",
         "85",
         "90"
        ],
        [
         "female",
         "group C",
         "high school",
         "standard",
         "none",
         "63",
         "69",
         "74"
        ],
        [
         "female",
         "group C",
         "associate's degree",
         "standard",
         "completed",
         "68",
         "86",
         "84"
        ],
        [
         "female",
         "group D",
         "some high school",
         "standard",
         "none",
         "59",
         "67",
         "61"
        ],
        [
         "female",
         "group B",
         "associate's degree",
         "standard",
         "completed",
         "90",
         "90",
         "91"
        ],
        [
         "female",
         "group D",
         "bachelor's degree",
         "standard",
         "completed",
         "71",
         "76",
         "83"
        ],
        [
         "male",
         "group E",
         "bachelor's degree",
         "standard",
         "completed",
         "76",
         "62",
         "66"
        ],
        [
         "male",
         "group D",
         "associate's degree",
         "standard",
         "none",
         "80",
         "68",
         "72"
        ],
        [
         "female",
         "group D",
         "master's degree",
         "standard",
         "none",
         "55",
         "64",
         "70"
        ],
        [
         "male",
         "group E",
         "associate's degree",
         "standard",
         "none",
         "76",
         "71",
         "67"
        ],
        [
         "male",
         "group B",
         "high school",
         "standard",
         "completed",
         "73",
         "71",
         "68"
        ],
        [
         "female",
         "group D",
         "associate's degree",
         "free/reduced",
         "none",
         "52",
         "59",
         "56"
        ],
        [
         "male",
         "group C",
         "some college",
         "free/reduced",
         "none",
         "68",
         "68",
         "61"
        ],
        [
         "male",
         "group A",
         "high school",
         "standard",
         "none",
         "59",
         "52",
         "46"
        ],
        [
         "female",
         "group B",
         "associate's degree",
         "standard",
         "none",
         "49",
         "52",
         "54"
        ],
        [
         "male",
         "group C",
         "high school",
         "standard",
         "none",
         "70",
         "74",
         "71"
        ],
        [
         "male",
         "group D",
         "some college",
         "free/reduced",
         "none",
         "61",
         "47",
         "56"
        ],
        [
         "female",
         "group C",
         "associate's degree",
         "free/reduced",
         "none",
         "60",
         "75",
         "74"
        ],
        [
         "male",
         "group B",
         "some high school",
         "standard",
         "completed",
         "64",
         "53",
         "57"
        ],
        [
         "male",
         "group A",
         "associate's degree",
         "free/reduced",
         "completed",
         "79",
         "82",
         "82"
        ],
        [
         "female",
         "group A",
         "associate's degree",
         "free/reduced",
         "none",
         "65",
         "85",
         "76"
        ],
        [
         "female",
         "group C",
         "associate's degree",
         "standard",
         "none",
         "64",
         "64",
         "70"
        ],
        [
         "female",
         "group C",
         "some college",
         "standard",
         "none",
         "83",
         "83",
         "90"
        ],
        [
         "female",
         "group C",
         "bachelor's degree",
         "standard",
         "none",
         "81",
         "88",
         "90"
        ],
        [
         "female",
         "group B",
         "high school",
         "standard",
         "none",
         "54",
         "64",
         "68"
        ],
        [
         "male",
         "group D",
         "high school",
         "standard",
         "completed",
         "68",
         "64",
         "66"
        ],
        [
         "female",
         "group C",
         "some college",
         "standard",
         "none",
         "54",
         "48",
         "52"
        ],
        [
         "female",
         "group D",
         "some college",
         "free/reduced",
         "completed",
         "59",
         "78",
         "76"
        ],
        [
         "female",
         "group B",
         "some high school",
         "standard",
         "none",
         "66",
         "69",
         "68"
        ],
        [
         "male",
         "group E",
         "some college",
         "standard",
         "none",
         "76",
         "71",
         "72"
        ],
        [
         "female",
         "group D",
         "master's degree",
         "standard",
         "none",
         "74",
         "79",
         "82"
        ],
        [
         "female",
         "group B",
         "associate's degree",
         "standard",
         "completed",
         "94",
         "87",
         "92"
        ],
        [
         "male",
         "group C",
         "some college",
         "free/reduced",
         "none",
         "63",
         "61",
         "54"
        ],
        [
         "female",
         "group E",
         "associate's degree",
         "standard",
         "completed",
         "95",
         "89",
         "92"
        ],
        [
         "female",
         "group D",
         "master's degree",
         "free/reduced",
         "none",
         "40",
         "59",
         "54"
        ],
        [
         "female",
         "group B",
         "some high school",
         "standard",
         "none",
         "82",
         "82",
         "80"
        ],
        [
         "male",
         "group A",
         "high school",
         "standard",
         "none",
         "68",
         "70",
         "66"
        ],
        [
         "male",
         "group B",
         "bachelor's degree",
         "free/reduced",
         "none",
         "55",
         "59",
         "54"
        ],
        [
         "male",
         "group C",
         "master's degree",
         "standard",
         "none",
         "79",
         "78",
         "77"
        ],
        [
         "female",
         "group C",
         "bachelor's degree",
         "standard",
         "none",
         "86",
         "92",
         "87"
        ],
        [
         "male",
         "group D",
         "some college",
         "standard",
         "none",
         "76",
         "71",
         "73"
        ],
        [
         "male",
         "group A",
         "some high school",
         "standard",
         "none",
         "64",
         "50",
         "43"
        ],
        [
         "male",
         "group D",
         "some high school",
         "free/reduced",
         "none",
         "62",
         "49",
         "52"
        ],
        [
         "female",
         "group B",
         "some high school",
         "standard",
         "completed",
         "54",
         "61",
         "62"
        ],
        [
         "female",
         "group B",
         "master's degree",
         "free/reduced",
         "completed",
         "77",
         "97",
         "94"
        ],
        [
         "female",
         "group C",
         "some high school",
         "standard",
         "completed",
         "76",
         "87",
         "85"
        ],
        [
         "female",
         "group D",
         "some college",
         "standard",
         "none",
         "74",
         "89",
         "84"
        ],
        [
         "female",
         "group E",
         "some college",
         "standard",
         "completed",
         "66",
         "74",
         "73"
        ],
        [
         "female",
         "group D",
         "some high school",
         "standard",
         "completed",
         "66",
         "78",
         "78"
        ],
        [
         "female",
         "group B",
         "high school",
         "free/reduced",
         "completed",
         "67",
         "78",
         "79"
        ],
        [
         "male",
         "group D",
         "some college",
         "standard",
         "none",
         "71",
         "49",
         "52"
        ],
        [
         "female",
         "group C",
         "associate's degree",
         "standard",
         "none",
         "91",
         "86",
         "84"
        ],
        [
         "male",
         "group D",
         "bachelor's degree",
         "standard",
         "none",
         "69",
         "58",
         "57"
        ],
        [
         "male",
         "group C",
         "master's degree",
         "free/reduced",
         "none",
         "54",
         "59",
         "50"
        ],
        [
         "male",
         "group C",
         "high school",
         "standard",
         "completed",
         "53",
         "52",
         "49"
        ],
        [
         "male",
         "group E",
         "some college",
         "standard",
         "none",
         "68",
         "60",
         "59"
        ],
        [
         "male",
         "group C",
         "some high school",
         "free/reduced",
         "completed",
         "56",
         "61",
         "60"
        ],
        [
         "female",
         "group C",
         "high school",
         "free/reduced",
         "none",
         "36",
         "53",
         "43"
        ],
        [
         "female",
         "group D",
         "bachelor's degree",
         "free/reduced",
         "none",
         "29",
         "41",
         "47"
        ],
        [
         "female",
         "group C",
         "associate's degree",
         "standard",
         "none",
         "62",
         "74",
         "70"
        ],
        [
         "female",
         "group C",
         "associate's degree",
         "standard",
         "completed",
         "68",
         "67",
         "73"
        ],
        [
         "female",
         "group C",
         "some high school",
         "standard",
         "none",
         "47",
         "54",
         "53"
        ],
        [
         "male",
         "group E",
         "associate's degree",
         "standard",
         "completed",
         "62",
         "61",
         "58"
        ],
        [
         "female",
         "group E",
         "associate's degree",
         "standard",
         "completed",
         "79",
         "88",
         "94"
        ],
        [
         "male",
         "group B",
         "high school",
         "standard",
         "completed",
         "73",
         "69",
         "68"
        ],
        [
         "female",
         "group C",
         "bachelor's degree",
         "free/reduced",
         "completed",
         "66",
         "83",
         "83"
        ],
        [
         "male",
         "group C",
         "associate's degree",
         "standard",
         "completed",
         "51",
         "60",
         "58"
        ],
        [
         "female",
         "group D",
         "high school",
         "standard",
         "none",
         "51",
         "66",
         "62"
        ],
        [
         "male",
         "group E",
         "bachelor's degree",
         "standard",
         "completed",
         "85",
         "66",
         "71"
        ],
        [
         "male",
         "group A",
         "associate's degree",
         "standard",
         "completed",
         "97",
         "92",
         "86"
        ],
        [
         "male",
         "group C",
         "high school",
         "standard",
         "completed",
         "75",
         "69",
         "68"
        ],
        [
         "male",
         "group D",
         "associate's degree",
         "free/reduced",
         "completed",
         "79",
         "82",
         "80"
        ],
        [
         "female",
         "group C",
         "associate's degree",
         "standard",
         "none",
         "81",
         "77",
         "79"
        ],
        [
         "female",
         "group D",
         "associate's degree",
         "standard",
         "none",
         "82",
         "95",
         "89"
        ],
        [
         "female",
         "group D",
         "master's degree",
         "standard",
         "none",
         "64",
         "63",
         "66"
        ],
        [
         "male",
         "group E",
         "some high school",
         "free/reduced",
         "completed",
         "78",
         "83",
         "80"
        ],
        [
         "female",
         "group A",
         "some high school",
         "standard",
         "completed",
         "92",
         "100",
         "97"
        ],
        [
         "male",
         "group C",
         "high school",
         "standard",
         "completed",
         "72",
         "67",
         "64"
        ],
        [
         "female",
         "group C",
         "high school",
         "free/reduced",
         "none",
         "62",
         "67",
         "64"
        ],
        [
         "male",
         "group C",
         "master's degree",
         "standard",
         "none",
         "79",
         "72",
         "69"
        ],
        [
         "male",
         "group C",
         "some high school",
         "free/reduced",
         "none",
         "79",
         "76",
         "65"
        ],
        [
         "male",
         "group B",
         "bachelor's degree",
         "free/reduced",
         "completed",
         "87",
         "90",
         "88"
        ],
        [
         "female",
         "group B",
         "associate's degree",
         "standard",
         "none",
         "40",
         "48",
         "50"
        ],
        [
         "male",
         "group D",
         "some college",
         "free/reduced",
         "none",
         "77",
         "62",
         "64"
        ],
        [
         "male",
         "group E",
         "associate's degree",
         "standard",
         "none",
         "53",
         "45",
         "40"
        ],
        [
         "female",
         "group C",
         "some college",
         "free/reduced",
         "none",
         "32",
         "39",
         "33"
        ],
        [
         "female",
         "group C",
         "associate's degree",
         "standard",
         "completed",
         "55",
         "72",
         "79"
        ],
        [
         "male",
         "group C",
         "master's degree",
         "free/reduced",
         "none",
         "61",
         "67",
         "66"
        ],
        [
         "female",
         "group B",
         "associate's degree",
         "free/reduced",
         "none",
         "53",
         "70",
         "70"
        ],
        [
         "male",
         "group D",
         "some high school",
         "standard",
         "none",
         "73",
         "66",
         "62"
        ],
        [
         "female",
         "group D",
         "some college",
         "standard",
         "completed",
         "74",
         "75",
         "79"
        ],
        [
         "female",
         "group C",
         "some college",
         "standard",
         "none",
         "63",
         "74",
         "74"
        ],
        [
         "male",
         "group C",
         "bachelor's degree",
         "standard",
         "completed",
         "96",
         "90",
         "92"
        ],
        [
         "female",
         "group D",
         "some college",
         "free/reduced",
         "completed",
         "63",
         "80",
         "80"
        ],
        [
         "male",
         "group B",
         "bachelor's degree",
         "free/reduced",
         "none",
         "48",
         "51",
         "46"
        ],
        [
         "male",
         "group B",
         "associate's degree",
         "standard",
         "none",
         "48",
         "43",
         "45"
        ],
        [
         "female",
         "group E",
         "bachelor's degree",
         "free/reduced",
         "completed",
         "92",
         "100",
         "100"
        ],
        [
         "female",
         "group D",
         "master's degree",
         "free/reduced",
         "completed",
         "61",
         "71",
         "78"
        ],
        [
         "male",
         "group B",
         "high school",
         "free/reduced",
         "none",
         "63",
         "48",
         "47"
        ],
        [
         "male",
         "group D",
         "bachelor's degree",
         "free/reduced",
         "none",
         "68",
         "68",
         "67"
        ],
        [
         "male",
         "group B",
         "some college",
         "standard",
         "completed",
         "71",
         "75",
         "70"
        ],
        [
         "male",
         "group A",
         "bachelor's degree",
         "standard",
         "none",
         "91",
         "96",
         "92"
        ],
        [
         "female",
         "group C",
         "some college",
         "standard",
         "none",
         "53",
         "62",
         "56"
        ],
        [
         "female",
         "group C",
         "high school",
         "free/reduced",
         "completed",
         "50",
         "66",
         "64"
        ],
        [
         "female",
         "group E",
         "high school",
         "standard",
         "none",
         "74",
         "81",
         "71"
        ],
        [
         "male",
         "group A",
         "associate's degree",
         "free/reduced",
         "completed",
         "40",
         "55",
         "53"
        ],
        [
         "male",
         "group A",
         "some college",
         "standard",
         "completed",
         "61",
         "51",
         "52"
        ],
        [
         "female",
         "group B",
         "high school",
         "standard",
         "none",
         "81",
         "91",
         "89"
        ],
        [
         "female",
         "group B",
         "some college",
         "free/reduced",
         "completed",
         "48",
         "56",
         "58"
        ],
        [
         "female",
         "group D",
         "master's degree",
         "standard",
         "none",
         "53",
         "61",
         "68"
        ],
        [
         "female",
         "group D",
         "some high school",
         "standard",
         "none",
         "81",
         "97",
         "96"
        ],
        [
         "female",
         "group E",
         "some high school",
         "standard",
         "none",
         "77",
         "79",
         "80"
        ],
        [
         "female",
         "group D",
         "bachelor's degree",
         "free/reduced",
         "none",
         "63",
         "73",
         "78"
        ],
        [
         "female",
         "group D",
         "associate's degree",
         "standard",
         "completed",
         "73",
         "75",
         "80"
        ],
        [
         "female",
         "group D",
         "some college",
         "standard",
         "none",
         "69",
         "77",
         "77"
        ],
        [
         "female",
         "group C",
         "associate's degree",
         "standard",
         "none",
         "65",
         "76",
         "76"
        ],
        [
         "female",
         "group A",
         "high school",
         "standard",
         "none",
         "55",
         "73",
         "73"
        ],
        [
         "female",
         "group C",
         "bachelor's degree",
         "free/reduced",
         "none",
         "44",
         "63",
         "62"
        ],
        [
         "female",
         "group C",
         "some college",
         "standard",
         "none",
         "54",
         "64",
         "65"
        ],
        [
         "female",
         "group A",
         "some high school",
         "standard",
         "none",
         "48",
         "66",
         "65"
        ],
        [
         "male",
         "group C",
         "some college",
         "free/reduced",
         "none",
         "58",
         "57",
         "54"
        ],
        [
         "male",
         "group A",
         "some high school",
         "standard",
         "none",
         "71",
         "62",
         "50"
        ],
        [
         "male",
         "group E",
         "bachelor's degree",
         "standard",
         "none",
         "68",
         "68",
         "64"
        ],
        [
         "female",
         "group E",
         "high school",
         "standard",
         "none",
         "74",
         "76",
         "73"
        ],
        [
         "female",
         "group C",
         "bachelor's degree",
         "standard",
         "completed",
         "92",
         "100",
         "99"
        ],
        [
         "female",
         "group C",
         "bachelor's degree",
         "standard",
         "completed",
         "56",
         "79",
         "72"
        ],
        [
         "male",
         "group B",
         "high school",
         "free/reduced",
         "none",
         "30",
         "24",
         "15"
        ],
        [
         "male",
         "group A",
         "some high school",
         "standard",
         "none",
         "53",
         "54",
         "48"
        ],
        [
         "female",
         "group D",
         "high school",
         "standard",
         "none",
         "69",
         "77",
         "73"
        ],
        [
         "female",
         "group D",
         "some high school",
         "standard",
         "none",
         "65",
         "82",
         "81"
        ],
        [
         "female",
         "group D",
         "master's degree",
         "standard",
         "none",
         "54",
         "60",
         "63"
        ],
        [
         "female",
         "group C",
         "high school",
         "standard",
         "none",
         "29",
         "29",
         "30"
        ],
        [
         "female",
         "group E",
         "some college",
         "standard",
         "none",
         "76",
         "78",
         "80"
        ],
        [
         "male",
         "group D",
         "high school",
         "free/reduced",
         "none",
         "60",
         "57",
         "51"
        ],
        [
         "male",
         "group D",
         "master's degree",
         "free/reduced",
         "completed",
         "84",
         "89",
         "90"
        ],
        [
         "male",
         "group C",
         "some high school",
         "standard",
         "none",
         "75",
         "72",
         "62"
        ],
        [
         "female",
         "group C",
         "associate's degree",
         "standard",
         "none",
         "85",
         "84",
         "82"
        ],
        [
         "female",
         "group C",
         "master's degree",
         "free/reduced",
         "none",
         "40",
         "58",
         "54"
        ],
        [
         "female",
         "group E",
         "some college",
         "standard",
         "none",
         "61",
         "64",
         "62"
        ],
        [
         "female",
         "group B",
         "associate's degree",
         "standard",
         "none",
         "58",
         "63",
         "65"
        ],
        [
         "male",
         "group D",
         "some college",
         "free/reduced",
         "completed",
         "69",
         "60",
         "63"
        ],
        [
         "female",
         "group C",
         "some college",
         "standard",
         "none",
         "58",
         "59",
         "66"
        ],
        [
         "male",
         "group C",
         "bachelor's degree",
         "standard",
         "completed",
         "94",
         "90",
         "91"
        ],
        [
         "female",
         "group C",
         "associate's degree",
         "standard",
         "none",
         "65",
         "77",
         "74"
        ],
        [
         "female",
         "group A",
         "associate's degree",
         "standard",
         "none",
         "82",
         "93",
         "93"
        ],
        [
         "female",
         "group C",
         "high school",
         "standard",
         "none",
         "60",
         "68",
         "72"
        ],
        [
         "female",
         "group E",
         "bachelor's degree",
         "standard",
         "none",
         "37",
         "45",
         "38"
        ],
        [
         "male",
         "group D",
         "bachelor's degree",
         "standard",
         "none",
         "88",
         "78",
         "83"
        ],
        [
         "male",
         "group D",
         "master's degree",
         "standard",
         "none",
         "95",
         "81",
         "84"
        ],
        [
         "male",
         "group C",
         "associate's degree",
         "free/reduced",
         "completed",
         "65",
         "73",
         "68"
        ],
        [
         "female",
         "group C",
         "high school",
         "free/reduced",
         "none",
         "35",
         "61",
         "54"
        ],
        [
         "male",
         "group B",
         "bachelor's degree",
         "free/reduced",
         "none",
         "62",
         "63",
         "56"
        ],
        [
         "male",
         "group C",
         "high school",
         "free/reduced",
         "completed",
         "58",
         "51",
         "52"
        ],
        [
         "male",
         "group A",
         "some college",
         "standard",
         "completed",
         "100",
         "96",
         "86"
        ],
        [
         "female",
         "group E",
         "bachelor's degree",
         "free/reduced",
         "none",
         "61",
         "58",
         "62"
        ],
        [
         "male",
         "group D",
         "some college",
         "standard",
         "completed",
         "100",
         "97",
         "99"
        ],
        [
         "male",
         "group B",
         "associate's degree",
         "free/reduced",
         "completed",
         "69",
         "70",
         "63"
        ],
        [
         "male",
         "group D",
         "associate's degree",
         "standard",
         "none",
         "61",
         "48",
         "46"
        ],
        [
         "male",
         "group D",
         "some college",
         "free/reduced",
         "none",
         "49",
         "57",
         "46"
        ],
        [
         "female",
         "group C",
         "some high school",
         "standard",
         "completed",
         "44",
         "51",
         "55"
        ],
        [
         "male",
         "group D",
         "some college",
         "standard",
         "none",
         "67",
         "64",
         "70"
        ],
        [
         "male",
         "group B",
         "high school",
         "standard",
         "none",
         "79",
         "60",
         "65"
        ],
        [
         "female",
         "group B",
         "bachelor's degree",
         "standard",
         "completed",
         "66",
         "74",
         "81"
        ],
        [
         "female",
         "group C",
         "high school",
         "standard",
         "none",
         "75",
         "88",
         "85"
        ],
        [
         "male",
         "group D",
         "some high school",
         "standard",
         "none",
         "84",
         "84",
         "80"
        ],
        [
         "male",
         "group A",
         "high school",
         "standard",
         "none",
         "71",
         "74",
         "64"
        ],
        [
         "female",
         "group B",
         "high school",
         "free/reduced",
         "completed",
         "67",
         "80",
         "81"
        ],
        [
         "female",
         "group D",
         "some high school",
         "standard",
         "completed",
         "80",
         "92",
         "88"
        ],
        [
         "male",
         "group E",
         "some college",
         "standard",
         "none",
         "86",
         "76",
         "74"
        ],
        [
         "female",
         "group D",
         "associate's degree",
         "standard",
         "none",
         "76",
         "74",
         "73"
        ],
        [
         "male",
         "group D",
         "high school",
         "standard",
         "none",
         "41",
         "52",
         "51"
        ],
        [
         "female",
         "group D",
         "associate's degree",
         "free/reduced",
         "completed",
         "74",
         "88",
         "90"
        ],
        [
         "female",
         "group B",
         "some high school",
         "free/reduced",
         "none",
         "72",
         "81",
         "79"
        ],
        [
         "female",
         "group E",
         "high school",
         "standard",
         "completed",
         "74",
         "79",
         "80"
        ],
        [
         "male",
         "group B",
         "high school",
         "standard",
         "none",
         "70",
         "65",
         "60"
        ],
        [
         "female",
         "group B",
         "bachelor's degree",
         "standard",
         "completed",
         "65",
         "81",
         "81"
        ],
        [
         "female",
         "group D",
         "associate's degree",
         "standard",
         "none",
         "59",
         "70",
         "65"
        ],
        [
         "female",
         "group E",
         "high school",
         "free/reduced",
         "none",
         "64",
         "62",
         "68"
        ],
        [
         "female",
         "group B",
         "high school",
         "standard",
         "none",
         "50",
         "53",
         "55"
        ],
        [
         "female",
         "group D",
         "some college",
         "standard",
         "completed",
         "69",
         "79",
         "81"
        ],
        [
         "male",
         "group C",
         "some high school",
         "free/reduced",
         "completed",
         "51",
         "56",
         "53"
        ],
        [
         "female",
         "group A",
         "high school",
         "standard",
         "completed",
         "68",
         "80",
         "76"
        ],
        [
         "female",
         "group D",
         "some college",
         "standard",
         "completed",
         "85",
         "86",
         "98"
        ],
        [
         "female",
         "group A",
         "associate's degree",
         "standard",
         "completed",
         "65",
         "70",
         "74"
        ],
        [
         "female",
         "group B",
         "some high school",
         "standard",
         "none",
         "73",
         "79",
         "79"
        ],
        [
         "female",
         "group B",
         "some college",
         "standard",
         "none",
         "62",
         "67",
         "67"
        ],
        [
         "male",
         "group C",
         "associate's degree",
         "free/reduced",
         "none",
         "77",
         "67",
         "64"
        ],
        [
         "male",
         "group D",
         "some high school",
         "standard",
         "none",
         "69",
         "66",
         "61"
        ],
        [
         "female",
         "group D",
         "associate's degree",
         "free/reduced",
         "none",
         "43",
         "60",
         "58"
        ],
        [
         "male",
         "group D",
         "associate's degree",
         "standard",
         "none",
         "90",
         "87",
         "85"
        ],
        [
         "male",
         "group C",
         "some college",
         "free/reduced",
         "none",
         "74",
         "77",
         "73"
        ],
        [
         "male",
         "group C",
         "some high school",
         "standard",
         "none",
         "73",
         "66",
         "63"
        ],
        [
         "female",
         "group D",
         "some college",
         "free/reduced",
         "none",
         "55",
         "71",
         "69"
        ],
        [
         "female",
         "group C",
         "high school",
         "standard",
         "none",
         "65",
         "69",
         "67"
        ],
        [
         "male",
         "group D",
         "associate's degree",
         "standard",
         "none",
         "80",
         "63",
         "63"
        ],
        [
         "female",
         "group C",
         "some high school",
         "free/reduced",
         "completed",
         "50",
         "60",
         "60"
        ],
        [
         "female",
         "group C",
         "some college",
         "free/reduced",
         "completed",
         "63",
         "73",
         "71"
        ],
        [
         "female",
         "group B",
         "bachelor's degree",
         "free/reduced",
         "none",
         "77",
         "85",
         "87"
        ],
        [
         "male",
         "group C",
         "some college",
         "standard",
         "none",
         "73",
         "74",
         "61"
        ],
        [
         "male",
         "group D",
         "associate's degree",
         "standard",
         "completed",
         "81",
         "72",
         "77"
        ],
        [
         "female",
         "group C",
         "high school",
         "free/reduced",
         "none",
         "66",
         "76",
         "68"
        ],
        [
         "male",
         "group D",
         "associate's degree",
         "free/reduced",
         "none",
         "52",
         "57",
         "50"
        ],
        [
         "female",
         "group C",
         "some college",
         "standard",
         "none",
         "69",
         "78",
         "76"
        ],
        [
         "female",
         "group C",
         "associate's degree",
         "standard",
         "completed",
         "65",
         "84",
         "84"
        ],
        [
         "female",
         "group D",
         "high school",
         "standard",
         "completed",
         "69",
         "77",
         "78"
        ],
        [
         "female",
         "group B",
         "some college",
         "standard",
         "completed",
         "50",
         "64",
         "66"
        ],
        [
         "female",
         "group E",
         "some college",
         "standard",
         "completed",
         "73",
         "78",
         "76"
        ],
        [
         "female",
         "group C",
         "some high school",
         "standard",
         "completed",
         "70",
         "82",
         "76"
        ],
        [
         "male",
         "group D",
         "associate's degree",
         "free/reduced",
         "none",
         "81",
         "75",
         "78"
        ],
        [
         "male",
         "group D",
         "some college",
         "free/reduced",
         "none",
         "63",
         "61",
         "60"
        ],
        [
         "female",
         "group D",
         "high school",
         "standard",
         "none",
         "67",
         "72",
         "74"
        ],
        [
         "male",
         "group B",
         "high school",
         "standard",
         "none",
         "60",
         "68",
         "60"
        ],
        [
         "male",
         "group B",
         "high school",
         "standard",
         "none",
         "62",
         "55",
         "54"
        ],
        [
         "female",
         "group C",
         "some high school",
         "free/reduced",
         "completed",
         "29",
         "40",
         "44"
        ],
        [
         "male",
         "group B",
         "some college",
         "standard",
         "completed",
         "62",
         "66",
         "68"
        ],
        [
         "female",
         "group E",
         "master's degree",
         "standard",
         "completed",
         "94",
         "99",
         "100"
        ],
        [
         "male",
         "group E",
         "some college",
         "standard",
         "completed",
         "85",
         "75",
         "68"
        ],
        [
         "male",
         "group D",
         "associate's degree",
         "free/reduced",
         "none",
         "77",
         "78",
         "73"
        ],
        [
         "male",
         "group A",
         "high school",
         "free/reduced",
         "none",
         "53",
         "58",
         "44"
        ],
        [
         "male",
         "group E",
         "some college",
         "free/reduced",
         "none",
         "93",
         "90",
         "83"
        ],
        [
         "female",
         "group C",
         "associate's degree",
         "standard",
         "none",
         "49",
         "53",
         "53"
        ],
        [
         "female",
         "group E",
         "associate's degree",
         "free/reduced",
         "none",
         "73",
         "76",
         "78"
        ],
        [
         "female",
         "group C",
         "bachelor's degree",
         "free/reduced",
         "completed",
         "66",
         "74",
         "81"
        ],
        [
         "female",
         "group D",
         "associate's degree",
         "standard",
         "none",
         "77",
         "77",
         "73"
        ],
        [
         "female",
         "group C",
         "some high school",
         "standard",
         "none",
         "49",
         "63",
         "56"
        ],
        [
         "female",
         "group D",
         "some college",
         "free/reduced",
         "none",
         "79",
         "89",
         "86"
        ],
        [
         "female",
         "group C",
         "associate's degree",
         "standard",
         "completed",
         "75",
         "82",
         "90"
        ],
        [
         "female",
         "group A",
         "bachelor's degree",
         "standard",
         "none",
         "59",
         "72",
         "70"
        ],
        [
         "female",
         "group D",
         "associate's degree",
         "standard",
         "completed",
         "57",
         "78",
         "79"
        ],
        [
         "male",
         "group C",
         "high school",
         "free/reduced",
         "none",
         "66",
         "66",
         "59"
        ],
        [
         "female",
         "group E",
         "bachelor's degree",
         "standard",
         "completed",
         "79",
         "81",
         "82"
        ],
        [
         "female",
         "group B",
         "some high school",
         "standard",
         "none",
         "57",
         "67",
         "72"
        ],
        [
         "male",
         "group A",
         "bachelor's degree",
         "standard",
         "completed",
         "87",
         "84",
         "87"
        ],
        [
         "female",
         "group D",
         "some college",
         "standard",
         "none",
         "63",
         "64",
         "67"
        ],
        [
         "female",
         "group B",
         "some high school",
         "free/reduced",
         "completed",
         "59",
         "63",
         "64"
        ],
        [
         "male",
         "group A",
         "bachelor's degree",
         "free/reduced",
         "none",
         "62",
         "72",
         "65"
        ],
        [
         "male",
         "group D",
         "high school",
         "standard",
         "none",
         "46",
         "34",
         "36"
        ],
        [
         "male",
         "group C",
         "some college",
         "standard",
         "none",
         "66",
         "59",
         "52"
        ],
        [
         "male",
         "group D",
         "high school",
         "standard",
         "none",
         "89",
         "87",
         "79"
        ],
        [
         "female",
         "group D",
         "associate's degree",
         "free/reduced",
         "completed",
         "42",
         "61",
         "58"
        ],
        [
         "male",
         "group C",
         "some college",
         "standard",
         "completed",
         "93",
         "84",
         "90"
        ],
        [
         "female",
         "group E",
         "some high school",
         "standard",
         "completed",
         "80",
         "85",
         "85"
        ],
        [
         "female",
         "group D",
         "some college",
         "standard",
         "none",
         "98",
         "100",
         "99"
        ],
        [
         "male",
         "group D",
         "master's degree",
         "standard",
         "none",
         "81",
         "81",
         "84"
        ],
        [
         "female",
         "group B",
         "some high school",
         "standard",
         "completed",
         "60",
         "70",
         "74"
        ],
        [
         "female",
         "group B",
         "associate's degree",
         "free/reduced",
         "completed",
         "76",
         "94",
         "87"
        ],
        [
         "male",
         "group C",
         "associate's degree",
         "standard",
         "completed",
         "73",
         "78",
         "72"
        ],
        [
         "female",
         "group C",
         "associate's degree",
         "standard",
         "completed",
         "96",
         "96",
         "99"
        ],
        [
         "female",
         "group C",
         "high school",
         "standard",
         "none",
         "76",
         "76",
         "74"
        ],
        [
         "male",
         "group E",
         "associate's degree",
         "free/reduced",
         "completed",
         "91",
         "73",
         "80"
        ],
        [
         "female",
         "group C",
         "some college",
         "free/reduced",
         "none",
         "62",
         "72",
         "70"
        ],
        [
         "male",
         "group D",
         "some high school",
         "free/reduced",
         "completed",
         "55",
         "59",
         "59"
        ],
        [
         "female",
         "group B",
         "some high school",
         "free/reduced",
         "completed",
         "74",
         "90",
         "88"
        ],
        [
         "male",
         "group C",
         "high school",
         "standard",
         "none",
         "50",
         "48",
         "42"
        ],
        [
         "male",
         "group B",
         "some college",
         "standard",
         "none",
         "47",
         "43",
         "41"
        ],
        [
         "male",
         "group E",
         "some college",
         "standard",
         "completed",
         "81",
         "74",
         "71"
        ],
        [
         "female",
         "group E",
         "associate's degree",
         "standard",
         "completed",
         "65",
         "75",
         "77"
        ],
        [
         "male",
         "group E",
         "some high school",
         "standard",
         "completed",
         "68",
         "51",
         "57"
        ],
        [
         "female",
         "group D",
         "high school",
         "free/reduced",
         "none",
         "73",
         "92",
         "84"
        ],
        [
         "male",
         "group C",
         "some college",
         "standard",
         "none",
         "53",
         "39",
         "37"
        ],
        [
         "female",
         "group B",
         "associate's degree",
         "free/reduced",
         "completed",
         "68",
         "77",
         "80"
        ],
        [
         "male",
         "group A",
         "some high school",
         "free/reduced",
         "none",
         "55",
         "46",
         "43"
        ],
        [
         "female",
         "group C",
         "some college",
         "standard",
         "completed",
         "87",
         "89",
         "94"
        ],
        [
         "male",
         "group D",
         "some high school",
         "standard",
         "none",
         "55",
         "47",
         "44"
        ],
        [
         "female",
         "group E",
         "some college",
         "free/reduced",
         "none",
         "53",
         "58",
         "57"
        ],
        [
         "male",
         "group C",
         "master's degree",
         "standard",
         "none",
         "67",
         "57",
         "59"
        ],
        [
         "male",
         "group C",
         "associate's degree",
         "standard",
         "none",
         "92",
         "79",
         "84"
        ],
        [
         "female",
         "group B",
         "some college",
         "free/reduced",
         "completed",
         "53",
         "66",
         "73"
        ],
        [
         "male",
         "group D",
         "associate's degree",
         "standard",
         "none",
         "81",
         "71",
         "73"
        ],
        [
         "male",
         "group C",
         "high school",
         "free/reduced",
         "none",
         "61",
         "60",
         "55"
        ],
        [
         "male",
         "group D",
         "bachelor's degree",
         "standard",
         "none",
         "80",
         "73",
         "72"
        ],
        [
         "female",
         "group A",
         "associate's degree",
         "free/reduced",
         "none",
         "37",
         "57",
         "56"
        ],
        [
         "female",
         "group C",
         "high school",
         "standard",
         "none",
         "81",
         "84",
         "82"
        ],
        [
         "female",
         "group C",
         "associate's degree",
         "standard",
         "completed",
         "59",
         "73",
         "72"
        ],
        [
         "male",
         "group B",
         "some college",
         "free/reduced",
         "none",
         "55",
         "55",
         "47"
        ],
        [
         "male",
         "group D",
         "associate's degree",
         "standard",
         "none",
         "72",
         "79",
         "74"
        ],
        [
         "male",
         "group D",
         "high school",
         "standard",
         "none",
         "69",
         "75",
         "71"
        ],
        [
         "male",
         "group C",
         "some college",
         "standard",
         "none",
         "69",
         "64",
         "68"
        ],
        [
         "female",
         "group C",
         "bachelor's degree",
         "free/reduced",
         "none",
         "50",
         "60",
         "59"
        ],
        [
         "male",
         "group B",
         "some college",
         "standard",
         "completed",
         "87",
         "84",
         "86"
        ],
        [
         "male",
         "group D",
         "some high school",
         "standard",
         "completed",
         "71",
         "69",
         "68"
        ],
        [
         "male",
         "group E",
         "some college",
         "standard",
         "none",
         "68",
         "72",
         "65"
        ],
        [
         "male",
         "group C",
         "master's degree",
         "free/reduced",
         "completed",
         "79",
         "77",
         "75"
        ],
        [
         "female",
         "group C",
         "some high school",
         "standard",
         "completed",
         "77",
         "90",
         "85"
        ],
        [
         "male",
         "group C",
         "associate's degree",
         "free/reduced",
         "none",
         "58",
         "55",
         "53"
        ],
        [
         "female",
         "group E",
         "associate's degree",
         "standard",
         "none",
         "84",
         "95",
         "92"
        ],
        [
         "male",
         "group D",
         "some college",
         "standard",
         "none",
         "55",
         "58",
         "52"
        ],
        [
         "male",
         "group E",
         "bachelor's degree",
         "free/reduced",
         "completed",
         "70",
         "68",
         "72"
        ],
        [
         "female",
         "group D",
         "some college",
         "free/reduced",
         "completed",
         "52",
         "59",
         "65"
        ],
        [
         "male",
         "group B",
         "some college",
         "standard",
         "completed",
         "69",
         "77",
         "77"
        ],
        [
         "female",
         "group C",
         "high school",
         "free/reduced",
         "none",
         "53",
         "72",
         "64"
        ],
        [
         "female",
         "group D",
         "some high school",
         "standard",
         "none",
         "48",
         "58",
         "54"
        ],
        [
         "male",
         "group D",
         "some high school",
         "standard",
         "completed",
         "78",
         "81",
         "86"
        ],
        [
         "female",
         "group B",
         "high school",
         "standard",
         "none",
         "62",
         "62",
         "63"
        ],
        [
         "male",
         "group D",
         "some college",
         "standard",
         "none",
         "60",
         "63",
         "59"
        ],
        [
         "female",
         "group B",
         "high school",
         "standard",
         "none",
         "74",
         "72",
         "72"
        ],
        [
         "female",
         "group C",
         "high school",
         "standard",
         "completed",
         "58",
         "75",
         "77"
        ],
        [
         "male",
         "group B",
         "high school",
         "standard",
         "completed",
         "76",
         "62",
         "60"
        ],
        [
         "female",
         "group D",
         "some high school",
         "standard",
         "none",
         "68",
         "71",
         "75"
        ],
        [
         "male",
         "group A",
         "some college",
         "free/reduced",
         "none",
         "58",
         "60",
         "57"
        ],
        [
         "male",
         "group B",
         "high school",
         "standard",
         "none",
         "52",
         "48",
         "49"
        ],
        [
         "male",
         "group D",
         "bachelor's degree",
         "standard",
         "none",
         "75",
         "73",
         "74"
        ],
        [
         "female",
         "group B",
         "some high school",
         "free/reduced",
         "completed",
         "52",
         "67",
         "72"
        ],
        [
         "female",
         "group C",
         "bachelor's degree",
         "free/reduced",
         "none",
         "62",
         "78",
         "79"
        ],
        [
         "male",
         "group B",
         "some college",
         "standard",
         "none",
         "66",
         "65",
         "60"
        ],
        [
         "female",
         "group B",
         "some high school",
         "free/reduced",
         "none",
         "49",
         "58",
         "55"
        ],
        [
         "female",
         "group B",
         "high school",
         "standard",
         "none",
         "66",
         "72",
         "70"
        ],
        [
         "female",
         "group C",
         "some college",
         "free/reduced",
         "none",
         "35",
         "44",
         "43"
        ],
        [
         "female",
         "group A",
         "some college",
         "standard",
         "completed",
         "72",
         "79",
         "82"
        ],
        [
         "male",
         "group E",
         "associate's degree",
         "standard",
         "completed",
         "94",
         "85",
         "82"
        ],
        [
         "female",
         "group D",
         "associate's degree",
         "free/reduced",
         "none",
         "46",
         "56",
         "57"
        ],
        [
         "female",
         "group B",
         "master's degree",
         "standard",
         "none",
         "77",
         "90",
         "84"
        ],
        [
         "female",
         "group B",
         "high school",
         "free/reduced",
         "completed",
         "76",
         "85",
         "82"
        ],
        [
         "female",
         "group C",
         "associate's degree",
         "standard",
         "completed",
         "52",
         "59",
         "62"
        ],
        [
         "male",
         "group C",
         "bachelor's degree",
         "standard",
         "completed",
         "91",
         "81",
         "79"
        ],
        [
         "female",
         "group B",
         "some high school",
         "standard",
         "completed",
         "32",
         "51",
         "44"
        ],
        [
         "female",
         "group E",
         "some high school",
         "free/reduced",
         "none",
         "72",
         "79",
         "77"
        ],
        [
         "female",
         "group B",
         "some college",
         "standard",
         "none",
         "19",
         "38",
         "32"
        ],
        [
         "male",
         "group C",
         "associate's degree",
         "free/reduced",
         "none",
         "68",
         "65",
         "61"
        ],
        [
         "female",
         "group C",
         "master's degree",
         "free/reduced",
         "none",
         "52",
         "65",
         "61"
        ],
        [
         "female",
         "group B",
         "high school",
         "standard",
         "none",
         "48",
         "62",
         "60"
        ],
        [
         "female",
         "group D",
         "some college",
         "free/reduced",
         "none",
         "60",
         "66",
         "70"
        ],
        [
         "male",
         "group D",
         "high school",
         "free/reduced",
         "none",
         "66",
         "74",
         "69"
        ],
        [
         "male",
         "group E",
         "some high school",
         "standard",
         "completed",
         "89",
         "84",
         "77"
        ],
        [
         "female",
         "group B",
         "high school",
         "standard",
         "none",
         "42",
         "52",
         "51"
        ],
        [
         "female",
         "group E",
         "associate's degree",
         "free/reduced",
         "completed",
         "57",
         "68",
         "73"
        ],
        [
         "male",
         "group D",
         "high school",
         "standard",
         "none",
         "70",
         "70",
         "70"
        ],
        [
         "female",
         "group E",
         "associate's degree",
         "free/reduced",
         "none",
         "70",
         "84",
         "81"
        ],
        [
         "male",
         "group E",
         "some college",
         "standard",
         "none",
         "69",
         "60",
         "54"
        ],
        [
         "female",
         "group C",
         "associate's degree",
         "standard",
         "none",
         "52",
         "55",
         "57"
        ],
        [
         "male",
         "group C",
         "some high school",
         "standard",
         "completed",
         "67",
         "73",
         "68"
        ],
        [
         "male",
         "group C",
         "some high school",
         "standard",
         "completed",
         "76",
         "80",
         "73"
        ],
        [
         "female",
         "group E",
         "associate's degree",
         "standard",
         "none",
         "87",
         "94",
         "95"
        ],
        [
         "female",
         "group B",
         "some college",
         "standard",
         "none",
         "82",
         "85",
         "87"
        ],
        [
         "female",
         "group C",
         "some college",
         "standard",
         "none",
         "73",
         "76",
         "78"
        ],
        [
         "male",
         "group A",
         "some college",
         "free/reduced",
         "none",
         "75",
         "81",
         "74"
        ],
        [
         "female",
         "group D",
         "some college",
         "free/reduced",
         "none",
         "64",
         "74",
         "75"
        ],
        [
         "female",
         "group E",
         "high school",
         "free/reduced",
         "none",
         "41",
         "45",
         "40"
        ],
        [
         "male",
         "group C",
         "high school",
         "standard",
         "none",
         "90",
         "75",
         "69"
        ],
        [
         "male",
         "group B",
         "bachelor's degree",
         "standard",
         "none",
         "59",
         "54",
         "51"
        ],
        [
         "male",
         "group A",
         "some high school",
         "standard",
         "none",
         "51",
         "31",
         "36"
        ],
        [
         "male",
         "group A",
         "high school",
         "free/reduced",
         "none",
         "45",
         "47",
         "49"
        ],
        [
         "female",
         "group C",
         "master's degree",
         "standard",
         "completed",
         "54",
         "64",
         "67"
        ],
        [
         "male",
         "group E",
         "some high school",
         "standard",
         "completed",
         "87",
         "84",
         "76"
        ],
        [
         "female",
         "group C",
         "high school",
         "standard",
         "none",
         "72",
         "80",
         "83"
        ],
        [
         "male",
         "group B",
         "some high school",
         "standard",
         "completed",
         "94",
         "86",
         "87"
        ],
        [
         "female",
         "group A",
         "bachelor's degree",
         "standard",
         "none",
         "45",
         "59",
         "64"
        ],
        [
         "male",
         "group D",
         "bachelor's degree",
         "free/reduced",
         "completed",
         "61",
         "70",
         "76"
        ],
        [
         "female",
         "group B",
         "high school",
         "free/reduced",
         "none",
         "60",
         "72",
         "68"
        ],
        [
         "female",
         "group C",
         "some high school",
         "standard",
         "none",
         "77",
         "91",
         "88"
        ],
        [
         "female",
         "group A",
         "some high school",
         "standard",
         "completed",
         "85",
         "90",
         "92"
        ],
        [
         "female",
         "group D",
         "bachelor's degree",
         "free/reduced",
         "none",
         "78",
         "90",
         "93"
        ],
        [
         "male",
         "group E",
         "some college",
         "free/reduced",
         "completed",
         "49",
         "52",
         "51"
        ],
        [
         "female",
         "group B",
         "high school",
         "free/reduced",
         "none",
         "71",
         "87",
         "82"
        ],
        [
         "female",
         "group C",
         "some high school",
         "free/reduced",
         "none",
         "48",
         "58",
         "52"
        ],
        [
         "male",
         "group C",
         "high school",
         "standard",
         "none",
         "62",
         "67",
         "58"
        ],
        [
         "female",
         "group C",
         "associate's degree",
         "free/reduced",
         "completed",
         "56",
         "68",
         "70"
        ],
        [
         "female",
         "group C",
         "some high school",
         "standard",
         "none",
         "65",
         "69",
         "76"
        ],
        [
         "female",
         "group D",
         "some high school",
         "free/reduced",
         "completed",
         "69",
         "86",
         "81"
        ],
        [
         "male",
         "group B",
         "some high school",
         "standard",
         "none",
         "68",
         "54",
         "53"
        ],
        [
         "female",
         "group A",
         "some college",
         "free/reduced",
         "none",
         "61",
         "60",
         "57"
        ],
        [
         "female",
         "group C",
         "bachelor's degree",
         "free/reduced",
         "completed",
         "74",
         "86",
         "89"
        ],
        [
         "male",
         "group A",
         "bachelor's degree",
         "standard",
         "none",
         "64",
         "60",
         "58"
        ],
        [
         "female",
         "group B",
         "high school",
         "standard",
         "completed",
         "77",
         "82",
         "89"
        ],
        [
         "male",
         "group B",
         "some college",
         "standard",
         "none",
         "58",
         "50",
         "45"
        ],
        [
         "female",
         "group C",
         "high school",
         "standard",
         "completed",
         "60",
         "64",
         "74"
        ],
        [
         "male",
         "group E",
         "high school",
         "standard",
         "none",
         "73",
         "64",
         "57"
        ],
        [
         "female",
         "group A",
         "high school",
         "standard",
         "completed",
         "75",
         "82",
         "79"
        ],
        [
         "male",
         "group B",
         "associate's degree",
         "free/reduced",
         "completed",
         "58",
         "57",
         "53"
        ],
        [
         "female",
         "group C",
         "associate's degree",
         "standard",
         "none",
         "66",
         "77",
         "73"
        ],
        [
         "female",
         "group D",
         "high school",
         "free/reduced",
         "none",
         "39",
         "52",
         "46"
        ],
        [
         "male",
         "group C",
         "some high school",
         "standard",
         "none",
         "64",
         "58",
         "51"
        ],
        [
         "female",
         "group B",
         "high school",
         "free/reduced",
         "completed",
         "23",
         "44",
         "36"
        ],
        [
         "male",
         "group B",
         "some college",
         "free/reduced",
         "completed",
         "74",
         "77",
         "76"
        ],
        [
         "female",
         "group D",
         "some high school",
         "free/reduced",
         "completed",
         "40",
         "65",
         "64"
        ],
        [
         "male",
         "group E",
         "master's degree",
         "standard",
         "none",
         "90",
         "85",
         "84"
        ],
        [
         "male",
         "group C",
         "master's degree",
         "standard",
         "completed",
         "91",
         "85",
         "85"
        ],
        [
         "male",
         "group D",
         "high school",
         "standard",
         "none",
         "64",
         "54",
         "50"
        ],
        [
         "female",
         "group C",
         "high school",
         "standard",
         "none",
         "59",
         "72",
         "68"
        ],
        [
         "male",
         "group D",
         "associate's degree",
         "standard",
         "none",
         "80",
         "75",
         "69"
        ],
        [
         "male",
         "group C",
         "master's degree",
         "standard",
         "none",
         "71",
         "67",
         "67"
        ],
        [
         "female",
         "group A",
         "high school",
         "standard",
         "none",
         "61",
         "68",
         "63"
        ],
        [
         "female",
         "group E",
         "some college",
         "standard",
         "none",
         "87",
         "85",
         "93"
        ],
        [
         "male",
         "group E",
         "some high school",
         "standard",
         "none",
         "82",
         "67",
         "61"
        ],
        [
         "male",
         "group C",
         "some high school",
         "standard",
         "none",
         "62",
         "64",
         "55"
        ],
        [
         "female",
         "group B",
         "bachelor's degree",
         "standard",
         "none",
         "97",
         "97",
         "96"
        ],
        [
         "male",
         "group B",
         "some college",
         "free/reduced",
         "none",
         "75",
         "68",
         "65"
        ],
        [
         "female",
         "group C",
         "bachelor's degree",
         "standard",
         "none",
         "65",
         "79",
         "81"
        ],
        [
         "male",
         "group B",
         "high school",
         "standard",
         "completed",
         "52",
         "49",
         "46"
        ],
        [
         "male",
         "group C",
         "associate's degree",
         "free/reduced",
         "none",
         "87",
         "73",
         "72"
        ],
        [
         "female",
         "group C",
         "associate's degree",
         "standard",
         "none",
         "53",
         "62",
         "53"
        ],
        [
         "female",
         "group E",
         "master's degree",
         "free/reduced",
         "none",
         "81",
         "86",
         "87"
        ],
        [
         "male",
         "group D",
         "bachelor's degree",
         "free/reduced",
         "completed",
         "39",
         "42",
         "38"
        ],
        [
         "female",
         "group C",
         "some college",
         "standard",
         "completed",
         "71",
         "71",
         "80"
        ],
        [
         "male",
         "group C",
         "associate's degree",
         "standard",
         "none",
         "97",
         "93",
         "91"
        ],
        [
         "male",
         "group D",
         "some college",
         "standard",
         "completed",
         "82",
         "82",
         "88"
        ],
        [
         "male",
         "group C",
         "high school",
         "free/reduced",
         "none",
         "59",
         "53",
         "52"
        ],
        [
         "male",
         "group B",
         "associate's degree",
         "standard",
         "none",
         "61",
         "42",
         "41"
        ],
        [
         "male",
         "group E",
         "associate's degree",
         "free/reduced",
         "completed",
         "78",
         "74",
         "72"
        ],
        [
         "male",
         "group C",
         "associate's degree",
         "free/reduced",
         "none",
         "49",
         "51",
         "51"
        ],
        [
         "male",
         "group B",
         "high school",
         "standard",
         "none",
         "59",
         "58",
         "47"
        ],
        [
         "female",
         "group C",
         "some college",
         "standard",
         "completed",
         "70",
         "72",
         "76"
        ],
        [
         "male",
         "group B",
         "associate's degree",
         "standard",
         "completed",
         "82",
         "84",
         "78"
        ],
        [
         "male",
         "group E",
         "associate's degree",
         "free/reduced",
         "none",
         "90",
         "90",
         "82"
        ],
        [
         "female",
         "group C",
         "bachelor's degree",
         "free/reduced",
         "none",
         "43",
         "62",
         "61"
        ],
        [
         "male",
         "group C",
         "some college",
         "free/reduced",
         "none",
         "80",
         "64",
         "66"
        ],
        [
         "male",
         "group D",
         "some college",
         "standard",
         "none",
         "81",
         "82",
         "84"
        ],
        [
         "male",
         "group C",
         "some high school",
         "standard",
         "none",
         "57",
         "61",
         "54"
        ],
        [
         "female",
         "group D",
         "some high school",
         "standard",
         "none",
         "59",
         "72",
         "80"
        ],
        [
         "female",
         "group D",
         "associate's degree",
         "standard",
         "none",
         "64",
         "76",
         "74"
        ],
        [
         "male",
         "group C",
         "bachelor's degree",
         "standard",
         "completed",
         "63",
         "64",
         "66"
        ],
        [
         "female",
         "group E",
         "bachelor's degree",
         "standard",
         "completed",
         "71",
         "70",
         "70"
        ],
        [
         "female",
         "group B",
         "high school",
         "free/reduced",
         "none",
         "64",
         "73",
         "71"
        ],
        [
         "male",
         "group D",
         "bachelor's degree",
         "free/reduced",
         "none",
         "55",
         "46",
         "44"
        ],
        [
         "female",
         "group E",
         "associate's degree",
         "standard",
         "none",
         "51",
         "51",
         "54"
        ],
        [
         "female",
         "group C",
         "associate's degree",
         "standard",
         "completed",
         "62",
         "76",
         "80"
        ],
        [
         "female",
         "group E",
         "associate's degree",
         "standard",
         "completed",
         "93",
         "100",
         "95"
        ],
        [
         "male",
         "group C",
         "high school",
         "free/reduced",
         "none",
         "54",
         "72",
         "59"
        ],
        [
         "female",
         "group D",
         "some college",
         "free/reduced",
         "none",
         "69",
         "65",
         "74"
        ],
        [
         "male",
         "group D",
         "high school",
         "free/reduced",
         "none",
         "44",
         "51",
         "48"
        ],
        [
         "female",
         "group E",
         "some college",
         "standard",
         "completed",
         "86",
         "85",
         "91"
        ],
        [
         "female",
         "group E",
         "associate's degree",
         "standard",
         "none",
         "85",
         "92",
         "85"
        ],
        [
         "female",
         "group A",
         "master's degree",
         "free/reduced",
         "none",
         "50",
         "67",
         "73"
        ],
        [
         "male",
         "group D",
         "some high school",
         "standard",
         "completed",
         "88",
         "74",
         "75"
        ],
        [
         "female",
         "group E",
         "associate's degree",
         "standard",
         "none",
         "59",
         "62",
         "69"
        ],
        [
         "female",
         "group E",
         "some high school",
         "free/reduced",
         "none",
         "32",
         "34",
         "38"
        ],
        [
         "male",
         "group B",
         "high school",
         "free/reduced",
         "none",
         "36",
         "29",
         "27"
        ],
        [
         "female",
         "group B",
         "some high school",
         "free/reduced",
         "completed",
         "63",
         "78",
         "79"
        ],
        [
         "male",
         "group D",
         "associate's degree",
         "standard",
         "completed",
         "67",
         "54",
         "63"
        ],
        [
         "female",
         "group D",
         "some high school",
         "standard",
         "completed",
         "65",
         "78",
         "82"
        ],
        [
         "male",
         "group D",
         "master's degree",
         "standard",
         "none",
         "85",
         "84",
         "89"
        ],
        [
         "female",
         "group C",
         "master's degree",
         "standard",
         "none",
         "73",
         "78",
         "74"
        ],
        [
         "female",
         "group A",
         "high school",
         "free/reduced",
         "completed",
         "34",
         "48",
         "41"
        ],
        [
         "female",
         "group D",
         "bachelor's degree",
         "free/reduced",
         "completed",
         "93",
         "100",
         "100"
        ],
        [
         "female",
         "group D",
         "some high school",
         "free/reduced",
         "none",
         "67",
         "84",
         "84"
        ],
        [
         "male",
         "group D",
         "some college",
         "standard",
         "none",
         "88",
         "77",
         "77"
        ],
        [
         "male",
         "group B",
         "high school",
         "standard",
         "none",
         "57",
         "48",
         "51"
        ],
        [
         "female",
         "group D",
         "some college",
         "standard",
         "completed",
         "79",
         "84",
         "91"
        ],
        [
         "female",
         "group C",
         "bachelor's degree",
         "free/reduced",
         "none",
         "67",
         "75",
         "72"
        ],
        [
         "male",
         "group E",
         "bachelor's degree",
         "standard",
         "completed",
         "70",
         "64",
         "70"
        ],
        [
         "male",
         "group D",
         "bachelor's degree",
         "free/reduced",
         "none",
         "50",
         "42",
         "48"
        ],
        [
         "female",
         "group A",
         "some college",
         "standard",
         "none",
         "69",
         "84",
         "82"
        ],
        [
         "female",
         "group C",
         "bachelor's degree",
         "standard",
         "completed",
         "52",
         "61",
         "66"
        ],
        [
         "female",
         "group C",
         "bachelor's degree",
         "free/reduced",
         "completed",
         "47",
         "62",
         "66"
        ],
        [
         "female",
         "group B",
         "associate's degree",
         "free/reduced",
         "none",
         "46",
         "61",
         "55"
        ],
        [
         "female",
         "group E",
         "some college",
         "standard",
         "none",
         "68",
         "70",
         "66"
        ],
        [
         "male",
         "group E",
         "bachelor's degree",
         "standard",
         "completed",
         "100",
         "100",
         "100"
        ],
        [
         "female",
         "group C",
         "high school",
         "standard",
         "none",
         "44",
         "61",
         "52"
        ],
        [
         "female",
         "group C",
         "associate's degree",
         "standard",
         "completed",
         "57",
         "77",
         "80"
        ],
        [
         "male",
         "group B",
         "some college",
         "standard",
         "completed",
         "91",
         "96",
         "91"
        ],
        [
         "male",
         "group D",
         "high school",
         "free/reduced",
         "none",
         "69",
         "70",
         "67"
        ],
        [
         "female",
         "group C",
         "high school",
         "free/reduced",
         "none",
         "35",
         "53",
         "46"
        ],
        [
         "male",
         "group D",
         "high school",
         "standard",
         "none",
         "72",
         "66",
         "66"
        ],
        [
         "female",
         "group B",
         "associate's degree",
         "free/reduced",
         "none",
         "54",
         "65",
         "65"
        ],
        [
         "male",
         "group D",
         "high school",
         "free/reduced",
         "none",
         "74",
         "70",
         "69"
        ],
        [
         "male",
         "group E",
         "some high school",
         "standard",
         "completed",
         "74",
         "64",
         "60"
        ],
        [
         "male",
         "group E",
         "associate's degree",
         "free/reduced",
         "none",
         "64",
         "56",
         "52"
        ],
        [
         "female",
         "group D",
         "high school",
         "free/reduced",
         "completed",
         "65",
         "61",
         "71"
        ],
        [
         "male",
         "group E",
         "associate's degree",
         "free/reduced",
         "completed",
         "46",
         "43",
         "44"
        ],
        [
         "female",
         "group C",
         "some high school",
         "free/reduced",
         "none",
         "48",
         "56",
         "51"
        ],
        [
         "male",
         "group C",
         "some college",
         "free/reduced",
         "completed",
         "67",
         "74",
         "70"
        ],
        [
         "male",
         "group D",
         "some college",
         "free/reduced",
         "none",
         "62",
         "57",
         "62"
        ],
        [
         "male",
         "group D",
         "associate's degree",
         "free/reduced",
         "completed",
         "61",
         "71",
         "73"
        ],
        [
         "male",
         "group C",
         "bachelor's degree",
         "free/reduced",
         "completed",
         "70",
         "75",
         "74"
        ],
        [
         "male",
         "group C",
         "associate's degree",
         "standard",
         "completed",
         "98",
         "87",
         "90"
        ],
        [
         "male",
         "group D",
         "some college",
         "free/reduced",
         "none",
         "70",
         "63",
         "58"
        ],
        [
         "male",
         "group A",
         "associate's degree",
         "standard",
         "none",
         "67",
         "57",
         "53"
        ],
        [
         "female",
         "group E",
         "high school",
         "free/reduced",
         "none",
         "57",
         "58",
         "57"
        ],
        [
         "male",
         "group D",
         "some college",
         "standard",
         "completed",
         "85",
         "81",
         "85"
        ],
        [
         "male",
         "group D",
         "some high school",
         "standard",
         "completed",
         "77",
         "68",
         "69"
        ],
        [
         "male",
         "group C",
         "master's degree",
         "free/reduced",
         "completed",
         "72",
         "66",
         "72"
        ],
        [
         "female",
         "group D",
         "master's degree",
         "standard",
         "none",
         "78",
         "91",
         "96"
        ],
        [
         "male",
         "group C",
         "high school",
         "standard",
         "none",
         "81",
         "66",
         "64"
        ],
        [
         "male",
         "group A",
         "some high school",
         "free/reduced",
         "completed",
         "61",
         "62",
         "61"
        ],
        [
         "female",
         "group B",
         "high school",
         "standard",
         "none",
         "58",
         "68",
         "61"
        ],
        [
         "female",
         "group C",
         "associate's degree",
         "standard",
         "none",
         "54",
         "61",
         "58"
        ],
        [
         "male",
         "group B",
         "high school",
         "standard",
         "none",
         "82",
         "82",
         "80"
        ],
        [
         "female",
         "group D",
         "some college",
         "free/reduced",
         "none",
         "49",
         "58",
         "60"
        ],
        [
         "male",
         "group B",
         "some high school",
         "free/reduced",
         "completed",
         "49",
         "50",
         "52"
        ],
        [
         "female",
         "group E",
         "high school",
         "free/reduced",
         "completed",
         "57",
         "75",
         "73"
        ],
        [
         "male",
         "group E",
         "high school",
         "standard",
         "none",
         "94",
         "73",
         "71"
        ],
        [
         "female",
         "group D",
         "some college",
         "standard",
         "completed",
         "75",
         "77",
         "83"
        ],
        [
         "female",
         "group E",
         "some high school",
         "free/reduced",
         "none",
         "74",
         "74",
         "72"
        ],
        [
         "male",
         "group C",
         "high school",
         "standard",
         "completed",
         "58",
         "52",
         "54"
        ],
        [
         "female",
         "group C",
         "some college",
         "standard",
         "none",
         "62",
         "69",
         "69"
        ],
        [
         "male",
         "group E",
         "associate's degree",
         "standard",
         "none",
         "72",
         "57",
         "62"
        ],
        [
         "male",
         "group C",
         "some college",
         "standard",
         "none",
         "84",
         "87",
         "81"
        ],
        [
         "female",
         "group D",
         "master's degree",
         "standard",
         "none",
         "92",
         "100",
         "100"
        ],
        [
         "female",
         "group D",
         "high school",
         "standard",
         "none",
         "45",
         "63",
         "59"
        ],
        [
         "male",
         "group C",
         "high school",
         "standard",
         "none",
         "75",
         "81",
         "71"
        ],
        [
         "female",
         "group A",
         "some college",
         "standard",
         "none",
         "56",
         "58",
         "64"
        ],
        [
         "female",
         "group D",
         "some high school",
         "free/reduced",
         "none",
         "48",
         "54",
         "53"
        ],
        [
         "female",
         "group E",
         "associate's degree",
         "standard",
         "none",
         "100",
         "100",
         "100"
        ],
        [
         "female",
         "group C",
         "some high school",
         "free/reduced",
         "completed",
         "65",
         "76",
         "75"
        ],
        [
         "male",
         "group D",
         "some college",
         "standard",
         "none",
         "72",
         "57",
         "58"
        ],
        [
         "female",
         "group D",
         "some college",
         "standard",
         "none",
         "62",
         "70",
         "72"
        ],
        [
         "male",
         "group A",
         "some high school",
         "standard",
         "completed",
         "66",
         "68",
         "64"
        ],
        [
         "male",
         "group C",
         "some college",
         "standard",
         "none",
         "63",
         "63",
         "60"
        ],
        [
         "female",
         "group E",
         "associate's degree",
         "standard",
         "none",
         "68",
         "76",
         "67"
        ],
        [
         "female",
         "group B",
         "bachelor's degree",
         "standard",
         "none",
         "75",
         "84",
         "80"
        ],
        [
         "female",
         "group D",
         "bachelor's degree",
         "standard",
         "none",
         "89",
         "100",
         "100"
        ],
        [
         "male",
         "group C",
         "some high school",
         "standard",
         "completed",
         "78",
         "72",
         "69"
        ],
        [
         "female",
         "group A",
         "high school",
         "free/reduced",
         "completed",
         "53",
         "50",
         "60"
        ],
        [
         "female",
         "group D",
         "some college",
         "free/reduced",
         "none",
         "49",
         "65",
         "61"
        ],
        [
         "female",
         "group A",
         "some college",
         "standard",
         "none",
         "54",
         "63",
         "67"
        ],
        [
         "female",
         "group C",
         "some college",
         "standard",
         "completed",
         "64",
         "82",
         "77"
        ],
        [
         "male",
         "group B",
         "some college",
         "free/reduced",
         "completed",
         "60",
         "62",
         "60"
        ],
        [
         "male",
         "group C",
         "associate's degree",
         "standard",
         "none",
         "62",
         "65",
         "58"
        ],
        [
         "male",
         "group D",
         "high school",
         "standard",
         "completed",
         "55",
         "41",
         "48"
        ],
        [
         "female",
         "group C",
         "associate's degree",
         "standard",
         "none",
         "91",
         "95",
         "94"
        ],
        [
         "female",
         "group B",
         "high school",
         "free/reduced",
         "none",
         "8",
         "24",
         "23"
        ],
        [
         "male",
         "group D",
         "some high school",
         "standard",
         "none",
         "81",
         "78",
         "78"
        ],
        [
         "male",
         "group B",
         "some high school",
         "standard",
         "completed",
         "79",
         "85",
         "86"
        ],
        [
         "female",
         "group A",
         "some college",
         "standard",
         "completed",
         "78",
         "87",
         "91"
        ],
        [
         "female",
         "group C",
         "some high school",
         "standard",
         "none",
         "74",
         "75",
         "82"
        ],
        [
         "male",
         "group A",
         "high school",
         "standard",
         "none",
         "57",
         "51",
         "54"
        ],
        [
         "female",
         "group C",
         "associate's degree",
         "standard",
         "none",
         "40",
         "59",
         "51"
        ],
        [
         "male",
         "group E",
         "some high school",
         "standard",
         "completed",
         "81",
         "75",
         "76"
        ],
        [
         "female",
         "group A",
         "some high school",
         "free/reduced",
         "none",
         "44",
         "45",
         "45"
        ],
        [
         "female",
         "group D",
         "some college",
         "free/reduced",
         "completed",
         "67",
         "86",
         "83"
        ],
        [
         "male",
         "group E",
         "high school",
         "free/reduced",
         "completed",
         "86",
         "81",
         "75"
        ],
        [
         "female",
         "group B",
         "some high school",
         "standard",
         "completed",
         "65",
         "82",
         "78"
        ],
        [
         "female",
         "group D",
         "associate's degree",
         "free/reduced",
         "none",
         "55",
         "76",
         "76"
        ],
        [
         "female",
         "group D",
         "bachelor's degree",
         "free/reduced",
         "none",
         "62",
         "72",
         "74"
        ],
        [
         "male",
         "group A",
         "high school",
         "standard",
         "none",
         "63",
         "63",
         "62"
        ],
        [
         "female",
         "group E",
         "master's degree",
         "standard",
         "completed",
         "88",
         "99",
         "95"
        ],
        [
         "male",
         "group C",
         "high school",
         "free/reduced",
         "none",
         "62",
         "55",
         "55"
        ],
        [
         "female",
         "group C",
         "high school",
         "free/reduced",
         "completed",
         "59",
         "71",
         "65"
        ],
        [
         "female",
         "group D",
         "some college",
         "standard",
         "completed",
         "68",
         "78",
         "77"
        ],
        [
         "female",
         "group D",
         "some college",
         "free/reduced",
         "none",
         "77",
         "86",
         "86"
        ]
       ],
       "datasetInfos": [],
       "dbfsResultPath": null,
       "isJsonSchema": true,
       "metadata": {},
       "overflow": false,
       "plotOptions": {
        "customPlotOptions": {},
        "displayType": "table",
        "pivotAggregation": null,
        "pivotColumns": null,
        "xColumns": null,
        "yColumns": null
       },
       "removedWidgets": [],
       "schema": [
        {
         "metadata": "{}",
         "name": "gender",
         "type": "\"string\""
        },
        {
         "metadata": "{}",
         "name": "race_ethnicity",
         "type": "\"string\""
        },
        {
         "metadata": "{}",
         "name": "parental_level_of_education",
         "type": "\"string\""
        },
        {
         "metadata": "{}",
         "name": "lunch",
         "type": "\"string\""
        },
        {
         "metadata": "{}",
         "name": "test_preparation_course",
         "type": "\"string\""
        },
        {
         "metadata": "{}",
         "name": "math_score",
         "type": "\"string\""
        },
        {
         "metadata": "{}",
         "name": "reading_score",
         "type": "\"string\""
        },
        {
         "metadata": "{}",
         "name": "writing_score",
         "type": "\"string\""
        }
       ],
       "type": "table"
      }
     },
     "output_type": "display_data"
    }
   ],
   "source": [
    "# File location and type\n",
    "file_location = \"/FileStore/tables/study_performance-2.csv\"\n",
    "file_type = \"csv\"\n",
    "\n",
    "# CSV options\n",
    "infer_schema = \"false\"\n",
    "first_row_is_header = \"true\"\n",
    "delimiter = \",\"\n",
    "\n",
    "# The applied options are for CSV files. For other file types, these will be ignored.\n",
    "df_perf_study = spark.read.format(file_type) \\\n",
    "  .option(\"inferSchema\", infer_schema) \\\n",
    "  .option(\"header\", first_row_is_header) \\\n",
    "  .option(\"sep\", delimiter) \\\n",
    "  .load(file_location)\n",
    "\n",
    "display(df_perf_study)"
   ]
  },
  {
   "cell_type": "code",
   "execution_count": 0,
   "metadata": {
    "application/vnd.databricks.v1+cell": {
     "cellMetadata": {
      "byteLimit": 2048000,
      "implicitDf": true,
      "rowLimit": 10000
     },
     "inputWidgets": {},
     "nuid": "1e8e0a74-7aa7-4a2e-9529-87fb4d25c33d",
     "showTitle": false,
     "title": ""
    }
   },
   "outputs": [
    {
     "output_type": "display_data",
     "data": {
      "text/html": [
       "<style scoped>\n",
       "  .table-result-container {\n",
       "    max-height: 300px;\n",
       "    overflow: auto;\n",
       "  }\n",
       "  table, th, td {\n",
       "    border: 1px solid black;\n",
       "    border-collapse: collapse;\n",
       "  }\n",
       "  th, td {\n",
       "    padding: 5px;\n",
       "  }\n",
       "  th {\n",
       "    text-align: left;\n",
       "  }\n",
       "</style><div class='table-result-container'><table class='table-result'><thead style='background-color: white'><tr></tr></thead><tbody></tbody></table></div>"
      ]
     },
     "metadata": {
      "application/vnd.databricks.v1+output": {
       "addedWidgets": {},
       "aggData": [],
       "aggError": "",
       "aggOverflow": false,
       "aggSchema": [],
       "aggSeriesLimitReached": false,
       "aggType": "",
       "arguments": {},
       "columnCustomDisplayInfos": {},
       "data": [],
       "datasetInfos": [],
       "dbfsResultPath": null,
       "isJsonSchema": true,
       "metadata": {},
       "overflow": false,
       "plotOptions": {
        "customPlotOptions": {},
        "displayType": "table",
        "pivotAggregation": null,
        "pivotColumns": null,
        "xColumns": null,
        "yColumns": null
       },
       "removedWidgets": [],
       "schema": [],
       "type": "table"
      }
     },
     "output_type": "display_data"
    }
   ],
   "source": [
    "%sql\n",
    "CREATE DATABASE IF NOT EXISTS bronze"
   ]
  },
  {
   "cell_type": "code",
   "execution_count": 0,
   "metadata": {
    "application/vnd.databricks.v1+cell": {
     "cellMetadata": {
      "byteLimit": 2048000,
      "implicitDf": true,
      "rowLimit": 10000
     },
     "inputWidgets": {},
     "nuid": "ec5c3424-a343-4919-be71-0690469c4402",
     "showTitle": false,
     "title": ""
    }
   },
   "outputs": [
    {
     "output_type": "display_data",
     "data": {
      "text/html": [
       "<style scoped>\n",
       "  .table-result-container {\n",
       "    max-height: 300px;\n",
       "    overflow: auto;\n",
       "  }\n",
       "  table, th, td {\n",
       "    border: 1px solid black;\n",
       "    border-collapse: collapse;\n",
       "  }\n",
       "  th, td {\n",
       "    padding: 5px;\n",
       "  }\n",
       "  th {\n",
       "    text-align: left;\n",
       "  }\n",
       "</style><div class='table-result-container'><table class='table-result'><thead style='background-color: white'><tr></tr></thead><tbody></tbody></table></div>"
      ]
     },
     "metadata": {
      "application/vnd.databricks.v1+output": {
       "addedWidgets": {},
       "aggData": [],
       "aggError": "",
       "aggOverflow": false,
       "aggSchema": [],
       "aggSeriesLimitReached": false,
       "aggType": "",
       "arguments": {},
       "columnCustomDisplayInfos": {},
       "data": [],
       "datasetInfos": [],
       "dbfsResultPath": null,
       "isJsonSchema": true,
       "metadata": {},
       "overflow": false,
       "plotOptions": {
        "customPlotOptions": {},
        "displayType": "table",
        "pivotAggregation": null,
        "pivotColumns": null,
        "xColumns": null,
        "yColumns": null
       },
       "removedWidgets": [],
       "schema": [],
       "type": "table"
      }
     },
     "output_type": "display_data"
    }
   ],
   "source": [
    "%sql\n",
    "DROP TABLE IF EXISTS bronze.Study_performance"
   ]
  },
  {
   "cell_type": "code",
   "execution_count": 0,
   "metadata": {
    "application/vnd.databricks.v1+cell": {
     "cellMetadata": {
      "byteLimit": 2048000,
      "rowLimit": 10000
     },
     "inputWidgets": {},
     "nuid": "23b5f801-398e-42a0-a7af-7bc02696c568",
     "showTitle": false,
     "title": ""
    }
   },
   "outputs": [
    {
     "output_type": "stream",
     "name": "stdout",
     "output_type": "stream",
     "text": [
      "CARGA DADOS DE PERFORMANCE DE ESTUDANTES CRIADO COM SUCESSO NA DATABASE BRONZE!\n"
     ]
    }
   ],
   "source": [
    "dbutils.fs.rm('dbfs:/user/hive/warehouse/bronze.db/Study_performance',True)\n",
    " \n",
    "df_perf_study.write.format(\"delta\").mode(\"append\").saveAsTable(\"bronze.Study_performance\")\n",
    " \n",
    "print(\"CARGA DADOS DE PERFORMANCE DE ESTUDANTES CRIADO COM SUCESSO NA DATABASE BRONZE!\")"
   ]
  },
  {
   "cell_type": "code",
   "execution_count": 0,
   "metadata": {
    "application/vnd.databricks.v1+cell": {
     "cellMetadata": {
      "byteLimit": 2048000,
      "rowLimit": 10000
     },
     "inputWidgets": {},
     "nuid": "9b50a7ca-7a44-4ddb-b5f1-e47591b1d92a",
     "showTitle": false,
     "title": ""
    }
   },
   "outputs": [],
   "source": [
    "## carregando os dados do DATABASE bronze para tratamento dos dados de performance dos estudantes\n",
    " \n",
    "df_perf_study_bronze_sql = spark.sql('''select * from bronze.Study_performance''')"
   ]
  },
  {
   "cell_type": "code",
   "execution_count": 0,
   "metadata": {
    "application/vnd.databricks.v1+cell": {
     "cellMetadata": {
      "byteLimit": 2048000,
      "rowLimit": 10000
     },
     "inputWidgets": {},
     "nuid": "f9fb1a80-afcb-4d10-a77b-dec5a2dbe08a",
     "showTitle": false,
     "title": ""
    }
   },
   "outputs": [],
   "source": [
    "from pyspark.sql.functions import col\n",
    "\n",
    "df_perf_study_silver = df_perf_study_bronze_sql.withColumn(\"math_score\", col(\"math_score\").cast(\"int\")) \\\n",
    "                     .withColumn(\"reading_score\", col(\"reading_score\").cast(\"int\")) \\\n",
    "                     .withColumn(\"writing_score\", col(\"writing_score\").cast(\"int\"))"
   ]
  },
  {
   "cell_type": "code",
   "execution_count": 0,
   "metadata": {
    "application/vnd.databricks.v1+cell": {
     "cellMetadata": {
      "byteLimit": 2048000,
      "implicitDf": true,
      "rowLimit": 10000
     },
     "inputWidgets": {},
     "nuid": "3dfc2ddf-bba6-459e-a439-3605d4a0d9e5",
     "showTitle": false,
     "title": ""
    }
   },
   "outputs": [
    {
     "output_type": "display_data",
     "data": {
      "text/html": [
       "<style scoped>\n",
       "  .table-result-container {\n",
       "    max-height: 300px;\n",
       "    overflow: auto;\n",
       "  }\n",
       "  table, th, td {\n",
       "    border: 1px solid black;\n",
       "    border-collapse: collapse;\n",
       "  }\n",
       "  th, td {\n",
       "    padding: 5px;\n",
       "  }\n",
       "  th {\n",
       "    text-align: left;\n",
       "  }\n",
       "</style><div class='table-result-container'><table class='table-result'><thead style='background-color: white'><tr></tr></thead><tbody></tbody></table></div>"
      ]
     },
     "metadata": {
      "application/vnd.databricks.v1+output": {
       "addedWidgets": {},
       "aggData": [],
       "aggError": "",
       "aggOverflow": false,
       "aggSchema": [],
       "aggSeriesLimitReached": false,
       "aggType": "",
       "arguments": {},
       "columnCustomDisplayInfos": {},
       "data": [],
       "datasetInfos": [],
       "dbfsResultPath": null,
       "isJsonSchema": true,
       "metadata": {},
       "overflow": false,
       "plotOptions": {
        "customPlotOptions": {},
        "displayType": "table",
        "pivotAggregation": null,
        "pivotColumns": null,
        "xColumns": null,
        "yColumns": null
       },
       "removedWidgets": [],
       "schema": [],
       "type": "table"
      }
     },
     "output_type": "display_data"
    }
   ],
   "source": [
    "%sql\n",
    "CREATE DATABASE IF NOT EXISTS silver"
   ]
  },
  {
   "cell_type": "code",
   "execution_count": 0,
   "metadata": {
    "application/vnd.databricks.v1+cell": {
     "cellMetadata": {
      "byteLimit": 2048000,
      "implicitDf": true,
      "rowLimit": 10000
     },
     "inputWidgets": {},
     "nuid": "a87a0630-56a4-4c3d-81be-86f58bb7b367",
     "showTitle": false,
     "title": ""
    }
   },
   "outputs": [
    {
     "output_type": "display_data",
     "data": {
      "text/html": [
       "<style scoped>\n",
       "  .table-result-container {\n",
       "    max-height: 300px;\n",
       "    overflow: auto;\n",
       "  }\n",
       "  table, th, td {\n",
       "    border: 1px solid black;\n",
       "    border-collapse: collapse;\n",
       "  }\n",
       "  th, td {\n",
       "    padding: 5px;\n",
       "  }\n",
       "  th {\n",
       "    text-align: left;\n",
       "  }\n",
       "</style><div class='table-result-container'><table class='table-result'><thead style='background-color: white'><tr></tr></thead><tbody></tbody></table></div>"
      ]
     },
     "metadata": {
      "application/vnd.databricks.v1+output": {
       "addedWidgets": {},
       "aggData": [],
       "aggError": "",
       "aggOverflow": false,
       "aggSchema": [],
       "aggSeriesLimitReached": false,
       "aggType": "",
       "arguments": {},
       "columnCustomDisplayInfos": {},
       "data": [],
       "datasetInfos": [],
       "dbfsResultPath": null,
       "isJsonSchema": true,
       "metadata": {},
       "overflow": false,
       "plotOptions": {
        "customPlotOptions": {},
        "displayType": "table",
        "pivotAggregation": null,
        "pivotColumns": null,
        "xColumns": null,
        "yColumns": null
       },
       "removedWidgets": [],
       "schema": [],
       "type": "table"
      }
     },
     "output_type": "display_data"
    }
   ],
   "source": [
    "%sql\n",
    "DROP TABLE IF EXISTS silver.Study_performance"
   ]
  },
  {
   "cell_type": "code",
   "execution_count": 0,
   "metadata": {
    "application/vnd.databricks.v1+cell": {
     "cellMetadata": {
      "byteLimit": 2048000,
      "rowLimit": 10000
     },
     "inputWidgets": {},
     "nuid": "4803f656-1fb3-457c-a321-11a847619555",
     "showTitle": false,
     "title": ""
    }
   },
   "outputs": [
    {
     "output_type": "stream",
     "name": "stdout",
     "output_type": "stream",
     "text": [
      "CARGA DADOS DE PERFORMANCE DE ESTUDANTES CRIADO COM SUCESSO NA DATABASE SILVER!\n"
     ]
    }
   ],
   "source": [
    "dbutils.fs.rm('dbfs:/user/hive/warehouse/silver.db/Study_performance',True)\n",
    " \n",
    "df_perf_study_silver.write.format(\"delta\").mode(\"append\").saveAsTable(\"silver.Study_performance\")\n",
    " \n",
    "print(\"CARGA DADOS DE PERFORMANCE DE ESTUDANTES CRIADO COM SUCESSO NA DATABASE SILVER!\")"
   ]
  },
  {
   "cell_type": "code",
   "execution_count": 0,
   "metadata": {
    "application/vnd.databricks.v1+cell": {
     "cellMetadata": {
      "byteLimit": 2048000,
      "implicitDf": true,
      "rowLimit": 10000
     },
     "inputWidgets": {},
     "nuid": "c3a03df8-e074-49bf-a153-3a02e493bd06",
     "showTitle": false,
     "title": ""
    }
   },
   "outputs": [
    {
     "output_type": "display_data",
     "data": {
      "text/html": [
       "<style scoped>\n",
       "  .table-result-container {\n",
       "    max-height: 300px;\n",
       "    overflow: auto;\n",
       "  }\n",
       "  table, th, td {\n",
       "    border: 1px solid black;\n",
       "    border-collapse: collapse;\n",
       "  }\n",
       "  th, td {\n",
       "    padding: 5px;\n",
       "  }\n",
       "  th {\n",
       "    text-align: left;\n",
       "  }\n",
       "</style><div class='table-result-container'><table class='table-result'><thead style='background-color: white'><tr></tr></thead><tbody></tbody></table></div>"
      ]
     },
     "metadata": {
      "application/vnd.databricks.v1+output": {
       "addedWidgets": {},
       "aggData": [],
       "aggError": "",
       "aggOverflow": false,
       "aggSchema": [],
       "aggSeriesLimitReached": false,
       "aggType": "",
       "arguments": {},
       "columnCustomDisplayInfos": {},
       "data": [],
       "datasetInfos": [],
       "dbfsResultPath": null,
       "isJsonSchema": true,
       "metadata": {},
       "overflow": false,
       "plotOptions": {
        "customPlotOptions": {},
        "displayType": "table",
        "pivotAggregation": null,
        "pivotColumns": null,
        "xColumns": null,
        "yColumns": null
       },
       "removedWidgets": [],
       "schema": [],
       "type": "table"
      }
     },
     "output_type": "display_data"
    }
   ],
   "source": [
    "%sql\n",
    "CREATE DATABASE IF NOT EXISTS gold"
   ]
  },
  {
   "cell_type": "code",
   "execution_count": 0,
   "metadata": {
    "application/vnd.databricks.v1+cell": {
     "cellMetadata": {
      "byteLimit": 2048000,
      "implicitDf": true,
      "rowLimit": 10000
     },
     "inputWidgets": {},
     "nuid": "eac36995-2fbd-4263-8dc4-2c5e0712d4ec",
     "showTitle": false,
     "title": ""
    }
   },
   "outputs": [
    {
     "output_type": "display_data",
     "data": {
      "text/html": [
       "<style scoped>\n",
       "  .table-result-container {\n",
       "    max-height: 300px;\n",
       "    overflow: auto;\n",
       "  }\n",
       "  table, th, td {\n",
       "    border: 1px solid black;\n",
       "    border-collapse: collapse;\n",
       "  }\n",
       "  th, td {\n",
       "    padding: 5px;\n",
       "  }\n",
       "  th {\n",
       "    text-align: left;\n",
       "  }\n",
       "</style><div class='table-result-container'><table class='table-result'><thead style='background-color: white'><tr></tr></thead><tbody></tbody></table></div>"
      ]
     },
     "metadata": {
      "application/vnd.databricks.v1+output": {
       "addedWidgets": {},
       "aggData": [],
       "aggError": "",
       "aggOverflow": false,
       "aggSchema": [],
       "aggSeriesLimitReached": false,
       "aggType": "",
       "arguments": {},
       "columnCustomDisplayInfos": {},
       "data": [],
       "datasetInfos": [],
       "dbfsResultPath": null,
       "isJsonSchema": true,
       "metadata": {},
       "overflow": false,
       "plotOptions": {
        "customPlotOptions": {},
        "displayType": "table",
        "pivotAggregation": null,
        "pivotColumns": null,
        "xColumns": null,
        "yColumns": null
       },
       "removedWidgets": [],
       "schema": [],
       "type": "table"
      }
     },
     "output_type": "display_data"
    }
   ],
   "source": [
    "%sql\n",
    "DROP TABLE IF EXISTS gold.Study_performance"
   ]
  },
  {
   "cell_type": "code",
   "execution_count": 0,
   "metadata": {
    "application/vnd.databricks.v1+cell": {
     "cellMetadata": {
      "byteLimit": 2048000,
      "rowLimit": 10000
     },
     "inputWidgets": {},
     "nuid": "71fcbb26-e549-4e39-9747-5b3f5bbb86c6",
     "showTitle": false,
     "title": ""
    }
   },
   "outputs": [],
   "source": [
    "df_perf_study_gold_sql = spark.sql('''select * from silver.Study_performance''')"
   ]
  },
  {
   "cell_type": "code",
   "execution_count": 0,
   "metadata": {
    "application/vnd.databricks.v1+cell": {
     "cellMetadata": {
      "byteLimit": 2048000,
      "rowLimit": 10000
     },
     "inputWidgets": {},
     "nuid": "8d51fac6-79b2-43d8-bda1-9d8abc0f609a",
     "showTitle": false,
     "title": ""
    }
   },
   "outputs": [
    {
     "output_type": "stream",
     "name": "stdout",
     "output_type": "stream",
     "text": [
      "CARGA DADOS DE PERFORMANCE DE ESTUDANTES CRIADO COM SUCESSO NA DATABASE GOLD!\n"
     ]
    }
   ],
   "source": [
    "dbutils.fs.rm('dbfs:/user/hive/warehouse/gold.db/Study_performance',True)\n",
    " \n",
    "df_perf_study_gold_sql.write.format(\"delta\").mode(\"append\").saveAsTable(\"gold.Study_performance\")\n",
    " \n",
    "print(\"CARGA DADOS DE PERFORMANCE DE ESTUDANTES CRIADO COM SUCESSO NA DATABASE GOLD!\")"
   ]
  },
  {
   "cell_type": "code",
   "execution_count": 0,
   "metadata": {
    "application/vnd.databricks.v1+cell": {
     "cellMetadata": {
      "byteLimit": 2048000,
      "rowLimit": 10000
     },
     "inputWidgets": {},
     "nuid": "5fc585fc-3a40-4e99-bc18-9e8ca37baadd",
     "showTitle": false,
     "title": ""
    }
   },
   "outputs": [
    {
     "output_type": "stream",
     "name": "stdout",
     "output_type": "stream",
     "text": [
      "+------------+\n|num_students|\n+------------+\n|         156|\n+------------+\n\n"
     ]
    }
   ],
   "source": [
    "from pyspark.sql.functions import count\n",
    "\n",
    "# Filtragem e contagem dos alunos que tiraram nota acima de 80 em Matemática e tiveram almoço padrão\n",
    "num_students_gold = df_perf_study_gold_sql.filter((col(\"math_score\") > 80) & (col(\"lunch\") == \"standard\")) \\\n",
    "                             .agg(count(\"*\").alias(\"num_students\"))\n",
    "\n",
    "# Exibição do resultado\n",
    "num_students_gold.show()"
   ]
  },
  {
   "cell_type": "code",
   "execution_count": 0,
   "metadata": {
    "application/vnd.databricks.v1+cell": {
     "cellMetadata": {
      "byteLimit": 2048000,
      "rowLimit": 10000
     },
     "inputWidgets": {},
     "nuid": "df0b6479-fae8-4db3-aa51-babca36245d0",
     "showTitle": false,
     "title": ""
    }
   },
   "outputs": [],
   "source": [
    "from pyspark.sql.functions import col\n",
    "\n",
    "# Filtrar alunos com nota de Matemática acima de 80 e almoço padrão\n",
    "students_filtered = df_perf_study_gold_sql.filter((col('math_score') > 80) & (col('lunch') == 'standard'))\n"
   ]
  },
  {
   "cell_type": "code",
   "execution_count": 0,
   "metadata": {
    "application/vnd.databricks.v1+cell": {
     "cellMetadata": {
      "byteLimit": 2048000,
      "rowLimit": 10000
     },
     "inputWidgets": {},
     "nuid": "1f63a9be-3c1b-43f2-b46d-583bdce95cdc",
     "showTitle": false,
     "title": ""
    }
   },
   "outputs": [
    {
     "output_type": "stream",
     "name": "stdout",
     "output_type": "stream",
     "text": [
      "Percentual de alunos com nota acima de 80 em Matemática e almoço padrão: 15.6%\n"
     ]
    }
   ],
   "source": [
    "# Contar o número de alunos que satisfazem os critérios\n",
    "total_students = df_perf_study_gold_sql.count()\n",
    "students_above_80 = students_filtered.count()\n",
    "\n",
    "# Calcular o percentual\n",
    "percent_above_80 = (students_above_80 / total_students) * 100\n",
    "\n",
    "# Arredondar para duas casas decimais\n",
    "percent_above_80 = round(percent_above_80, 2)\n",
    "\n",
    "print(f\"Percentual de alunos com nota acima de 80 em Matemática e almoço padrão: {percent_above_80}%\")\n"
   ]
  }
 ],
 "metadata": {
  "application/vnd.databricks.v1+notebook": {
   "dashboards": [],
   "environmentMetadata": null,
   "language": "python",
   "notebookMetadata": {
    "mostRecentlyExecutedCommandWithImplicitDF": {
     "commandId": 3712229888852476,
     "dataframes": [
      "_sqldf"
     ]
    },
    "pythonIndentUnit": 4
   },
   "notebookName": "2024-07-02 - DBFS Example",
   "widgets": {}
  }
 },
 "nbformat": 4,
 "nbformat_minor": 0
}
